{
  "nbformat": 4,
  "nbformat_minor": 0,
  "metadata": {
    "colab": {
      "name": "Annoy_feature_vectors.ipynb",
      "provenance": [],
      "collapsed_sections": [],
      "toc_visible": true
    },
    "kernelspec": {
      "name": "python3",
      "display_name": "Python 3"
    },
    "language_info": {
      "name": "python"
    }
  },
  "cells": [
    {
      "cell_type": "markdown",
      "metadata": {
        "id": "Pgvgpa6N_LT1"
      },
      "source": [
        "# Installing and importing modules"
      ]
    },
    {
      "cell_type": "code",
      "metadata": {
        "id": "7DORpLSqHn38",
        "colab": {
          "base_uri": "https://localhost:8080/"
        },
        "outputId": "889c554c-af4b-45fe-9bd2-0ef52e53d82e"
      },
      "source": [
        "try:\n",
        "  !pip install annoy\n",
        "  print('Installed Annoy')\n",
        "except:\n",
        "  print('error')          "
      ],
      "execution_count": null,
      "outputs": [
        {
          "output_type": "stream",
          "text": [
            "Collecting annoy\n",
            "\u001b[?25l  Downloading https://files.pythonhosted.org/packages/a1/5b/1c22129f608b3f438713b91cd880dc681d747a860afe3e8e0af86e921942/annoy-1.17.0.tar.gz (646kB)\n",
            "\r\u001b[K     |▌                               | 10kB 16.1MB/s eta 0:00:01\r\u001b[K     |█                               | 20kB 21.2MB/s eta 0:00:01\r\u001b[K     |█▌                              | 30kB 25.8MB/s eta 0:00:01\r\u001b[K     |██                              | 40kB 29.9MB/s eta 0:00:01\r\u001b[K     |██▌                             | 51kB 21.1MB/s eta 0:00:01\r\u001b[K     |███                             | 61kB 23.1MB/s eta 0:00:01\r\u001b[K     |███▌                            | 71kB 23.4MB/s eta 0:00:01\r\u001b[K     |████                            | 81kB 19.6MB/s eta 0:00:01\r\u001b[K     |████▋                           | 92kB 20.6MB/s eta 0:00:01\r\u001b[K     |█████                           | 102kB 22.0MB/s eta 0:00:01\r\u001b[K     |█████▋                          | 112kB 22.0MB/s eta 0:00:01\r\u001b[K     |██████                          | 122kB 22.0MB/s eta 0:00:01\r\u001b[K     |██████▋                         | 133kB 22.0MB/s eta 0:00:01\r\u001b[K     |███████                         | 143kB 22.0MB/s eta 0:00:01\r\u001b[K     |███████▋                        | 153kB 22.0MB/s eta 0:00:01\r\u001b[K     |████████▏                       | 163kB 22.0MB/s eta 0:00:01\r\u001b[K     |████████▋                       | 174kB 22.0MB/s eta 0:00:01\r\u001b[K     |█████████▏                      | 184kB 22.0MB/s eta 0:00:01\r\u001b[K     |█████████▋                      | 194kB 22.0MB/s eta 0:00:01\r\u001b[K     |██████████▏                     | 204kB 22.0MB/s eta 0:00:01\r\u001b[K     |██████████▋                     | 215kB 22.0MB/s eta 0:00:01\r\u001b[K     |███████████▏                    | 225kB 22.0MB/s eta 0:00:01\r\u001b[K     |███████████▋                    | 235kB 22.0MB/s eta 0:00:01\r\u001b[K     |████████████▏                   | 245kB 22.0MB/s eta 0:00:01\r\u001b[K     |████████████▊                   | 256kB 22.0MB/s eta 0:00:01\r\u001b[K     |█████████████▏                  | 266kB 22.0MB/s eta 0:00:01\r\u001b[K     |█████████████▊                  | 276kB 22.0MB/s eta 0:00:01\r\u001b[K     |██████████████▏                 | 286kB 22.0MB/s eta 0:00:01\r\u001b[K     |██████████████▊                 | 296kB 22.0MB/s eta 0:00:01\r\u001b[K     |███████████████▏                | 307kB 22.0MB/s eta 0:00:01\r\u001b[K     |███████████████▊                | 317kB 22.0MB/s eta 0:00:01\r\u001b[K     |████████████████▎               | 327kB 22.0MB/s eta 0:00:01\r\u001b[K     |████████████████▊               | 337kB 22.0MB/s eta 0:00:01\r\u001b[K     |█████████████████▎              | 348kB 22.0MB/s eta 0:00:01\r\u001b[K     |█████████████████▊              | 358kB 22.0MB/s eta 0:00:01\r\u001b[K     |██████████████████▎             | 368kB 22.0MB/s eta 0:00:01\r\u001b[K     |██████████████████▊             | 378kB 22.0MB/s eta 0:00:01\r\u001b[K     |███████████████████▎            | 389kB 22.0MB/s eta 0:00:01\r\u001b[K     |███████████████████▊            | 399kB 22.0MB/s eta 0:00:01\r\u001b[K     |████████████████████▎           | 409kB 22.0MB/s eta 0:00:01\r\u001b[K     |████████████████████▉           | 419kB 22.0MB/s eta 0:00:01\r\u001b[K     |█████████████████████▎          | 430kB 22.0MB/s eta 0:00:01\r\u001b[K     |█████████████████████▉          | 440kB 22.0MB/s eta 0:00:01\r\u001b[K     |██████████████████████▎         | 450kB 22.0MB/s eta 0:00:01\r\u001b[K     |██████████████████████▉         | 460kB 22.0MB/s eta 0:00:01\r\u001b[K     |███████████████████████▎        | 471kB 22.0MB/s eta 0:00:01\r\u001b[K     |███████████████████████▉        | 481kB 22.0MB/s eta 0:00:01\r\u001b[K     |████████████████████████▍       | 491kB 22.0MB/s eta 0:00:01\r\u001b[K     |████████████████████████▉       | 501kB 22.0MB/s eta 0:00:01\r\u001b[K     |█████████████████████████▍      | 512kB 22.0MB/s eta 0:00:01\r\u001b[K     |█████████████████████████▉      | 522kB 22.0MB/s eta 0:00:01\r\u001b[K     |██████████████████████████▍     | 532kB 22.0MB/s eta 0:00:01\r\u001b[K     |██████████████████████████▉     | 542kB 22.0MB/s eta 0:00:01\r\u001b[K     |███████████████████████████▍    | 552kB 22.0MB/s eta 0:00:01\r\u001b[K     |███████████████████████████▉    | 563kB 22.0MB/s eta 0:00:01\r\u001b[K     |████████████████████████████▍   | 573kB 22.0MB/s eta 0:00:01\r\u001b[K     |█████████████████████████████   | 583kB 22.0MB/s eta 0:00:01\r\u001b[K     |█████████████████████████████▍  | 593kB 22.0MB/s eta 0:00:01\r\u001b[K     |██████████████████████████████  | 604kB 22.0MB/s eta 0:00:01\r\u001b[K     |██████████████████████████████▍ | 614kB 22.0MB/s eta 0:00:01\r\u001b[K     |███████████████████████████████ | 624kB 22.0MB/s eta 0:00:01\r\u001b[K     |███████████████████████████████▍| 634kB 22.0MB/s eta 0:00:01\r\u001b[K     |████████████████████████████████| 645kB 22.0MB/s eta 0:00:01\r\u001b[K     |████████████████████████████████| 655kB 22.0MB/s \n",
            "\u001b[?25hBuilding wheels for collected packages: annoy\n",
            "  Building wheel for annoy (setup.py) ... \u001b[?25l\u001b[?25hdone\n",
            "  Created wheel for annoy: filename=annoy-1.17.0-cp37-cp37m-linux_x86_64.whl size=391603 sha256=17a7093be3140428bf11388e172fb9f3b342a7a6cf0763878c81b78675b9224c\n",
            "  Stored in directory: /root/.cache/pip/wheels/3a/c5/59/cce7e67b52c8e987389e53f917b6bb2a9d904a03246fadcb1e\n",
            "Successfully built annoy\n",
            "Installing collected packages: annoy\n",
            "Successfully installed annoy-1.17.0\n",
            "Installed Annoy\n"
          ],
          "name": "stdout"
        }
      ]
    },
    {
      "cell_type": "code",
      "metadata": {
        "id": "YgsslDOFH2Q1"
      },
      "source": [
        "from annoy import AnnoyIndex\n",
        "from scipy import spatial\n",
        "import tensorflow_hub as hub\n",
        "import tensorflow as tf\n",
        "\n",
        "import matplotlib.pyplot as plt\n",
        "import numpy as np\n",
        "from tqdm import tqdm\n",
        "\n",
        "import glob\n",
        "import pickle\n",
        "import re\n",
        "\n",
        "from skimage.io import imread\n",
        "from sklearn.metrics.pairwise import cosine_similarity\n",
        "import scipy as sc\n",
        "\n",
        "import io\n",
        "import sys\n",
        "import os\n",
        "import time   \n",
        "\n",
        "from PIL import Image\n",
        "from numpy import asarray\n",
        "import pandas as pd"
      ],
      "execution_count": null,
      "outputs": []
    },
    {
      "cell_type": "markdown",
      "metadata": {
        "id": "_cZUpubk_Urw"
      },
      "source": [
        "# Mounting drive"
      ]
    },
    {
      "cell_type": "code",
      "metadata": {
        "colab": {
          "base_uri": "https://localhost:8080/"
        },
        "id": "4snpD0ZBK25e",
        "outputId": "a7ef8b1b-41ae-4f96-9091-fb4886f573b5"
      },
      "source": [
        "from google.colab import drive\n",
        "drive.mount('/content/drive')"
      ],
      "execution_count": null,
      "outputs": [
        {
          "output_type": "stream",
          "text": [
            "Mounted at /content/drive\n"
          ],
          "name": "stdout"
        }
      ]
    },
    {
      "cell_type": "code",
      "metadata": {
        "id": "i010ogzbIq4F"
      },
      "source": [
        "with open('/content/drive/MyDrive/Pickle files/image_paths','rb') as f:\n",
        "  image_paths = pickle.load(f)"
      ],
      "execution_count": null,
      "outputs": []
    },
    {
      "cell_type": "code",
      "metadata": {
        "id": "vCLJC4-yWTsW"
      },
      "source": [
        "with open('/content/drive/MyDrive/Pickle files/final_dataframe','rb') as f:\n",
        "  df = pickle.load(f)"
      ],
      "execution_count": null,
      "outputs": []
    },
    {
      "cell_type": "code",
      "metadata": {
        "colab": {
          "base_uri": "https://localhost:8080/",
          "height": 402
        },
        "id": "9DKoy71qylWn",
        "outputId": "dbba43fc-729e-4ebb-c935-ab01b9e9b074"
      },
      "source": [
        "#df.reset_index(drop=False,inplace=True)\n",
        "df"
      ],
      "execution_count": null,
      "outputs": [
        {
          "output_type": "execute_result",
          "data": {
            "text/html": [
              "<div>\n",
              "<style scoped>\n",
              "    .dataframe tbody tr th:only-of-type {\n",
              "        vertical-align: middle;\n",
              "    }\n",
              "\n",
              "    .dataframe tbody tr th {\n",
              "        vertical-align: top;\n",
              "    }\n",
              "\n",
              "    .dataframe thead th {\n",
              "        text-align: right;\n",
              "    }\n",
              "</style>\n",
              "<table border=\"1\" class=\"dataframe\">\n",
              "  <thead>\n",
              "    <tr style=\"text-align: right;\">\n",
              "      <th></th>\n",
              "      <th>gender</th>\n",
              "      <th>category</th>\n",
              "      <th>sub-category</th>\n",
              "      <th>product-number</th>\n",
              "      <th>product-name</th>\n",
              "      <th>path</th>\n",
              "    </tr>\n",
              "  </thead>\n",
              "  <tbody>\n",
              "    <tr>\n",
              "      <th>0</th>\n",
              "      <td>women</td>\n",
              "      <td>dresses</td>\n",
              "      <td>casual_and_day_dresses</td>\n",
              "      <td>56037632</td>\n",
              "      <td>black knit midi dress</td>\n",
              "      <td>women/dresses/casual_and_day_dresses/56037632/...</td>\n",
              "    </tr>\n",
              "    <tr>\n",
              "      <th>3</th>\n",
              "      <td>women</td>\n",
              "      <td>dresses</td>\n",
              "      <td>casual_and_day_dresses</td>\n",
              "      <td>56037632</td>\n",
              "      <td>black knit midi dress</td>\n",
              "      <td>women/dresses/casual_and_day_dresses/56037632/...</td>\n",
              "    </tr>\n",
              "    <tr>\n",
              "      <th>4</th>\n",
              "      <td>women</td>\n",
              "      <td>dresses</td>\n",
              "      <td>casual_and_day_dresses</td>\n",
              "      <td>56037632</td>\n",
              "      <td>black knit midi dress</td>\n",
              "      <td>women/dresses/casual_and_day_dresses/56037632/...</td>\n",
              "    </tr>\n",
              "    <tr>\n",
              "      <th>6</th>\n",
              "      <td>women</td>\n",
              "      <td>dresses</td>\n",
              "      <td>casual_and_day_dresses</td>\n",
              "      <td>56037632</td>\n",
              "      <td>black knit midi dress</td>\n",
              "      <td>women/dresses/casual_and_day_dresses/56037632/...</td>\n",
              "    </tr>\n",
              "    <tr>\n",
              "      <th>8</th>\n",
              "      <td>women</td>\n",
              "      <td>dresses</td>\n",
              "      <td>casual_and_day_dresses</td>\n",
              "      <td>62629380</td>\n",
              "      <td>multicolor henley t-shirt dress</td>\n",
              "      <td>women/dresses/casual_and_day_dresses/62629380/...</td>\n",
              "    </tr>\n",
              "    <tr>\n",
              "      <th>...</th>\n",
              "      <td>...</td>\n",
              "      <td>...</td>\n",
              "      <td>...</td>\n",
              "      <td>...</td>\n",
              "      <td>...</td>\n",
              "      <td>...</td>\n",
              "    </tr>\n",
              "    <tr>\n",
              "      <th>201831</th>\n",
              "      <td>women</td>\n",
              "      <td>tops</td>\n",
              "      <td>t-shirts</td>\n",
              "      <td>91437517</td>\n",
              "      <td>classic tee black</td>\n",
              "      <td>women/tops/t-shirts/91437517/91437517_2.jpeg</td>\n",
              "    </tr>\n",
              "    <tr>\n",
              "      <th>201832</th>\n",
              "      <td>women</td>\n",
              "      <td>tops</td>\n",
              "      <td>t-shirts</td>\n",
              "      <td>91437722</td>\n",
              "      <td>black red heart t-shirt</td>\n",
              "      <td>women/tops/t-shirts/91437722/91437722_0.jpeg</td>\n",
              "    </tr>\n",
              "    <tr>\n",
              "      <th>201833</th>\n",
              "      <td>women</td>\n",
              "      <td>tops</td>\n",
              "      <td>t-shirts</td>\n",
              "      <td>91437753</td>\n",
              "      <td>white run shirt</td>\n",
              "      <td>women/tops/t-shirts/91437753/91437753_0.jpeg</td>\n",
              "    </tr>\n",
              "    <tr>\n",
              "      <th>201834</th>\n",
              "      <td>women</td>\n",
              "      <td>tops</td>\n",
              "      <td>t-shirts</td>\n",
              "      <td>91437753</td>\n",
              "      <td>white run shirt</td>\n",
              "      <td>women/tops/t-shirts/91437753/91437753_1.jpeg</td>\n",
              "    </tr>\n",
              "    <tr>\n",
              "      <th>201835</th>\n",
              "      <td>women</td>\n",
              "      <td>tops</td>\n",
              "      <td>t-shirts</td>\n",
              "      <td>91438020</td>\n",
              "      <td>multicolor clay tee chalk</td>\n",
              "      <td>women/tops/t-shirts/91438020/91438020_0.jpeg</td>\n",
              "    </tr>\n",
              "  </tbody>\n",
              "</table>\n",
              "<p>91466 rows × 6 columns</p>\n",
              "</div>"
            ],
            "text/plain": [
              "       gender  ...                                               path\n",
              "0       women  ...  women/dresses/casual_and_day_dresses/56037632/...\n",
              "3       women  ...  women/dresses/casual_and_day_dresses/56037632/...\n",
              "4       women  ...  women/dresses/casual_and_day_dresses/56037632/...\n",
              "6       women  ...  women/dresses/casual_and_day_dresses/56037632/...\n",
              "8       women  ...  women/dresses/casual_and_day_dresses/62629380/...\n",
              "...       ...  ...                                                ...\n",
              "201831  women  ...       women/tops/t-shirts/91437517/91437517_2.jpeg\n",
              "201832  women  ...       women/tops/t-shirts/91437722/91437722_0.jpeg\n",
              "201833  women  ...       women/tops/t-shirts/91437753/91437753_0.jpeg\n",
              "201834  women  ...       women/tops/t-shirts/91437753/91437753_1.jpeg\n",
              "201835  women  ...       women/tops/t-shirts/91438020/91438020_0.jpeg\n",
              "\n",
              "[91466 rows x 6 columns]"
            ]
          },
          "metadata": {
            "tags": []
          },
          "execution_count": 6
        }
      ]
    },
    {
      "cell_type": "code",
      "metadata": {
        "colab": {
          "base_uri": "https://localhost:8080/"
        },
        "id": "7xO-FOEmo2UN",
        "outputId": "4810a694-f827-4358-9af5-9b8186d99555"
      },
      "source": [
        "im_ar = asarray(Image.open(final_path[0]))\n",
        "im_ar.shape"
      ],
      "execution_count": null,
      "outputs": [
        {
          "output_type": "execute_result",
          "data": {
            "text/plain": [
              "(417, 152, 3)"
            ]
          },
          "metadata": {
            "tags": []
          },
          "execution_count": 134
        }
      ]
    },
    {
      "cell_type": "code",
      "metadata": {
        "colab": {
          "base_uri": "https://localhost:8080/",
          "height": 35
        },
        "id": "vp2KSITKxYJQ",
        "outputId": "3ace516f-b480-4120-ede9-c8680f2b29e2"
      },
      "source": [
        "image_paths[0][0]"
      ],
      "execution_count": null,
      "outputs": [
        {
          "output_type": "execute_result",
          "data": {
            "application/vnd.google.colaboratory.intrinsic+json": {
              "type": "string"
            },
            "text/plain": [
              "'/content/drive/MyDrive/women/tops/long_sleeved_tops/89728708/89728708_1.jpeg'"
            ]
          },
          "metadata": {
            "tags": []
          },
          "execution_count": 135
        }
      ]
    },
    {
      "cell_type": "code",
      "metadata": {
        "id": "E3VgJnxFmkM8"
      },
      "source": [
        "final_path = {}\n",
        "for x in df.itertuples():\n",
        "  final_path[x.Index] = '/content/drive/MyDrive/'+ x.path"
      ],
      "execution_count": null,
      "outputs": []
    },
    {
      "cell_type": "code",
      "metadata": {
        "colab": {
          "base_uri": "https://localhost:8080/",
          "height": 402
        },
        "id": "P33O7DodyENH",
        "outputId": "844e1eb3-6949-4b15-b427-518ef42bf0c9"
      },
      "source": [
        "path_in_drive = pd.DataFrame(pd.Series(final_path))\n",
        "path_in_drive"
      ],
      "execution_count": null,
      "outputs": [
        {
          "output_type": "execute_result",
          "data": {
            "text/html": [
              "<div>\n",
              "<style scoped>\n",
              "    .dataframe tbody tr th:only-of-type {\n",
              "        vertical-align: middle;\n",
              "    }\n",
              "\n",
              "    .dataframe tbody tr th {\n",
              "        vertical-align: top;\n",
              "    }\n",
              "\n",
              "    .dataframe thead th {\n",
              "        text-align: right;\n",
              "    }\n",
              "</style>\n",
              "<table border=\"1\" class=\"dataframe\">\n",
              "  <thead>\n",
              "    <tr style=\"text-align: right;\">\n",
              "      <th></th>\n",
              "      <th>0</th>\n",
              "    </tr>\n",
              "  </thead>\n",
              "  <tbody>\n",
              "    <tr>\n",
              "      <th>0</th>\n",
              "      <td>/content/drive/MyDrive/women/dresses/casual_an...</td>\n",
              "    </tr>\n",
              "    <tr>\n",
              "      <th>3</th>\n",
              "      <td>/content/drive/MyDrive/women/dresses/casual_an...</td>\n",
              "    </tr>\n",
              "    <tr>\n",
              "      <th>4</th>\n",
              "      <td>/content/drive/MyDrive/women/dresses/casual_an...</td>\n",
              "    </tr>\n",
              "    <tr>\n",
              "      <th>6</th>\n",
              "      <td>/content/drive/MyDrive/women/dresses/casual_an...</td>\n",
              "    </tr>\n",
              "    <tr>\n",
              "      <th>8</th>\n",
              "      <td>/content/drive/MyDrive/women/dresses/casual_an...</td>\n",
              "    </tr>\n",
              "    <tr>\n",
              "      <th>...</th>\n",
              "      <td>...</td>\n",
              "    </tr>\n",
              "    <tr>\n",
              "      <th>201831</th>\n",
              "      <td>/content/drive/MyDrive/women/tops/t-shirts/914...</td>\n",
              "    </tr>\n",
              "    <tr>\n",
              "      <th>201832</th>\n",
              "      <td>/content/drive/MyDrive/women/tops/t-shirts/914...</td>\n",
              "    </tr>\n",
              "    <tr>\n",
              "      <th>201833</th>\n",
              "      <td>/content/drive/MyDrive/women/tops/t-shirts/914...</td>\n",
              "    </tr>\n",
              "    <tr>\n",
              "      <th>201834</th>\n",
              "      <td>/content/drive/MyDrive/women/tops/t-shirts/914...</td>\n",
              "    </tr>\n",
              "    <tr>\n",
              "      <th>201835</th>\n",
              "      <td>/content/drive/MyDrive/women/tops/t-shirts/914...</td>\n",
              "    </tr>\n",
              "  </tbody>\n",
              "</table>\n",
              "<p>91466 rows × 1 columns</p>\n",
              "</div>"
            ],
            "text/plain": [
              "                                                        0\n",
              "0       /content/drive/MyDrive/women/dresses/casual_an...\n",
              "3       /content/drive/MyDrive/women/dresses/casual_an...\n",
              "4       /content/drive/MyDrive/women/dresses/casual_an...\n",
              "6       /content/drive/MyDrive/women/dresses/casual_an...\n",
              "8       /content/drive/MyDrive/women/dresses/casual_an...\n",
              "...                                                   ...\n",
              "201831  /content/drive/MyDrive/women/tops/t-shirts/914...\n",
              "201832  /content/drive/MyDrive/women/tops/t-shirts/914...\n",
              "201833  /content/drive/MyDrive/women/tops/t-shirts/914...\n",
              "201834  /content/drive/MyDrive/women/tops/t-shirts/914...\n",
              "201835  /content/drive/MyDrive/women/tops/t-shirts/914...\n",
              "\n",
              "[91466 rows x 1 columns]"
            ]
          },
          "metadata": {
            "tags": []
          },
          "execution_count": 8
        }
      ]
    },
    {
      "cell_type": "code",
      "metadata": {
        "colab": {
          "base_uri": "https://localhost:8080/",
          "height": 741
        },
        "id": "q7jPK0VQzd-M",
        "outputId": "b2e0181b-f7a0-4431-9f36-39b646f0a65f"
      },
      "source": [
        "df = pd.concat([df,path_in_drive],axis=1)\n",
        "df.rename(columns={0:'path_in_drive'},inplace=True)\n",
        "df"
      ],
      "execution_count": null,
      "outputs": [
        {
          "output_type": "execute_result",
          "data": {
            "text/html": [
              "<div>\n",
              "<style scoped>\n",
              "    .dataframe tbody tr th:only-of-type {\n",
              "        vertical-align: middle;\n",
              "    }\n",
              "\n",
              "    .dataframe tbody tr th {\n",
              "        vertical-align: top;\n",
              "    }\n",
              "\n",
              "    .dataframe thead th {\n",
              "        text-align: right;\n",
              "    }\n",
              "</style>\n",
              "<table border=\"1\" class=\"dataframe\">\n",
              "  <thead>\n",
              "    <tr style=\"text-align: right;\">\n",
              "      <th></th>\n",
              "      <th>gender</th>\n",
              "      <th>category</th>\n",
              "      <th>sub-category</th>\n",
              "      <th>product-number</th>\n",
              "      <th>product-name</th>\n",
              "      <th>path</th>\n",
              "      <th>path_in_drive</th>\n",
              "    </tr>\n",
              "  </thead>\n",
              "  <tbody>\n",
              "    <tr>\n",
              "      <th>0</th>\n",
              "      <td>women</td>\n",
              "      <td>dresses</td>\n",
              "      <td>casual_and_day_dresses</td>\n",
              "      <td>56037632</td>\n",
              "      <td>black knit midi dress</td>\n",
              "      <td>women/dresses/casual_and_day_dresses/56037632/...</td>\n",
              "      <td>/content/drive/MyDrive/women/dresses/casual_an...</td>\n",
              "    </tr>\n",
              "    <tr>\n",
              "      <th>3</th>\n",
              "      <td>women</td>\n",
              "      <td>dresses</td>\n",
              "      <td>casual_and_day_dresses</td>\n",
              "      <td>56037632</td>\n",
              "      <td>black knit midi dress</td>\n",
              "      <td>women/dresses/casual_and_day_dresses/56037632/...</td>\n",
              "      <td>/content/drive/MyDrive/women/dresses/casual_an...</td>\n",
              "    </tr>\n",
              "    <tr>\n",
              "      <th>4</th>\n",
              "      <td>women</td>\n",
              "      <td>dresses</td>\n",
              "      <td>casual_and_day_dresses</td>\n",
              "      <td>56037632</td>\n",
              "      <td>black knit midi dress</td>\n",
              "      <td>women/dresses/casual_and_day_dresses/56037632/...</td>\n",
              "      <td>/content/drive/MyDrive/women/dresses/casual_an...</td>\n",
              "    </tr>\n",
              "    <tr>\n",
              "      <th>6</th>\n",
              "      <td>women</td>\n",
              "      <td>dresses</td>\n",
              "      <td>casual_and_day_dresses</td>\n",
              "      <td>56037632</td>\n",
              "      <td>black knit midi dress</td>\n",
              "      <td>women/dresses/casual_and_day_dresses/56037632/...</td>\n",
              "      <td>/content/drive/MyDrive/women/dresses/casual_an...</td>\n",
              "    </tr>\n",
              "    <tr>\n",
              "      <th>8</th>\n",
              "      <td>women</td>\n",
              "      <td>dresses</td>\n",
              "      <td>casual_and_day_dresses</td>\n",
              "      <td>62629380</td>\n",
              "      <td>multicolor henley t-shirt dress</td>\n",
              "      <td>women/dresses/casual_and_day_dresses/62629380/...</td>\n",
              "      <td>/content/drive/MyDrive/women/dresses/casual_an...</td>\n",
              "    </tr>\n",
              "    <tr>\n",
              "      <th>...</th>\n",
              "      <td>...</td>\n",
              "      <td>...</td>\n",
              "      <td>...</td>\n",
              "      <td>...</td>\n",
              "      <td>...</td>\n",
              "      <td>...</td>\n",
              "      <td>...</td>\n",
              "    </tr>\n",
              "    <tr>\n",
              "      <th>201831</th>\n",
              "      <td>women</td>\n",
              "      <td>tops</td>\n",
              "      <td>t-shirts</td>\n",
              "      <td>91437517</td>\n",
              "      <td>classic tee black</td>\n",
              "      <td>women/tops/t-shirts/91437517/91437517_2.jpeg</td>\n",
              "      <td>/content/drive/MyDrive/women/tops/t-shirts/914...</td>\n",
              "    </tr>\n",
              "    <tr>\n",
              "      <th>201832</th>\n",
              "      <td>women</td>\n",
              "      <td>tops</td>\n",
              "      <td>t-shirts</td>\n",
              "      <td>91437722</td>\n",
              "      <td>black red heart t-shirt</td>\n",
              "      <td>women/tops/t-shirts/91437722/91437722_0.jpeg</td>\n",
              "      <td>/content/drive/MyDrive/women/tops/t-shirts/914...</td>\n",
              "    </tr>\n",
              "    <tr>\n",
              "      <th>201833</th>\n",
              "      <td>women</td>\n",
              "      <td>tops</td>\n",
              "      <td>t-shirts</td>\n",
              "      <td>91437753</td>\n",
              "      <td>white run shirt</td>\n",
              "      <td>women/tops/t-shirts/91437753/91437753_0.jpeg</td>\n",
              "      <td>/content/drive/MyDrive/women/tops/t-shirts/914...</td>\n",
              "    </tr>\n",
              "    <tr>\n",
              "      <th>201834</th>\n",
              "      <td>women</td>\n",
              "      <td>tops</td>\n",
              "      <td>t-shirts</td>\n",
              "      <td>91437753</td>\n",
              "      <td>white run shirt</td>\n",
              "      <td>women/tops/t-shirts/91437753/91437753_1.jpeg</td>\n",
              "      <td>/content/drive/MyDrive/women/tops/t-shirts/914...</td>\n",
              "    </tr>\n",
              "    <tr>\n",
              "      <th>201835</th>\n",
              "      <td>women</td>\n",
              "      <td>tops</td>\n",
              "      <td>t-shirts</td>\n",
              "      <td>91438020</td>\n",
              "      <td>multicolor clay tee chalk</td>\n",
              "      <td>women/tops/t-shirts/91438020/91438020_0.jpeg</td>\n",
              "      <td>/content/drive/MyDrive/women/tops/t-shirts/914...</td>\n",
              "    </tr>\n",
              "  </tbody>\n",
              "</table>\n",
              "<p>91466 rows × 7 columns</p>\n",
              "</div>"
            ],
            "text/plain": [
              "       gender  ...                                      path_in_drive\n",
              "0       women  ...  /content/drive/MyDrive/women/dresses/casual_an...\n",
              "3       women  ...  /content/drive/MyDrive/women/dresses/casual_an...\n",
              "4       women  ...  /content/drive/MyDrive/women/dresses/casual_an...\n",
              "6       women  ...  /content/drive/MyDrive/women/dresses/casual_an...\n",
              "8       women  ...  /content/drive/MyDrive/women/dresses/casual_an...\n",
              "...       ...  ...                                                ...\n",
              "201831  women  ...  /content/drive/MyDrive/women/tops/t-shirts/914...\n",
              "201832  women  ...  /content/drive/MyDrive/women/tops/t-shirts/914...\n",
              "201833  women  ...  /content/drive/MyDrive/women/tops/t-shirts/914...\n",
              "201834  women  ...  /content/drive/MyDrive/women/tops/t-shirts/914...\n",
              "201835  women  ...  /content/drive/MyDrive/women/tops/t-shirts/914...\n",
              "\n",
              "[91466 rows x 7 columns]"
            ]
          },
          "metadata": {
            "tags": []
          },
          "execution_count": 9
        }
      ]
    },
    {
      "cell_type": "code",
      "metadata": {
        "colab": {
          "base_uri": "https://localhost:8080/",
          "height": 144
        },
        "id": "jR9OsWpyCHXz",
        "outputId": "ad52c157-9bea-4a22-e58a-778fbd72012b"
      },
      "source": [
        "df[df['path_in_drive'] == '/content/drive/MyDrive/women/skirts/maxi_skirts/90311765/90311765_3.jpeg']"
      ],
      "execution_count": null,
      "outputs": [
        {
          "output_type": "execute_result",
          "data": {
            "text/html": [
              "<div>\n",
              "<style scoped>\n",
              "    .dataframe tbody tr th:only-of-type {\n",
              "        vertical-align: middle;\n",
              "    }\n",
              "\n",
              "    .dataframe tbody tr th {\n",
              "        vertical-align: top;\n",
              "    }\n",
              "\n",
              "    .dataframe thead th {\n",
              "        text-align: right;\n",
              "    }\n",
              "</style>\n",
              "<table border=\"1\" class=\"dataframe\">\n",
              "  <thead>\n",
              "    <tr style=\"text-align: right;\">\n",
              "      <th></th>\n",
              "      <th>gender</th>\n",
              "      <th>category</th>\n",
              "      <th>sub-category</th>\n",
              "      <th>product-number</th>\n",
              "      <th>product-name</th>\n",
              "      <th>path</th>\n",
              "      <th>path_in_drive</th>\n",
              "    </tr>\n",
              "  </thead>\n",
              "  <tbody>\n",
              "    <tr>\n",
              "      <th>142967</th>\n",
              "      <td>women</td>\n",
              "      <td>skirts</td>\n",
              "      <td>maxi_skirts</td>\n",
              "      <td>90311765</td>\n",
              "      <td>multicolor liv elephant print double split max...</td>\n",
              "      <td>women/skirts/maxi_skirts/90311765/90311765_3.jpeg</td>\n",
              "      <td>/content/drive/MyDrive/women/skirts/maxi_skirt...</td>\n",
              "    </tr>\n",
              "  </tbody>\n",
              "</table>\n",
              "</div>"
            ],
            "text/plain": [
              "       gender  ...                                      path_in_drive\n",
              "142967  women  ...  /content/drive/MyDrive/women/skirts/maxi_skirt...\n",
              "\n",
              "[1 rows x 7 columns]"
            ]
          },
          "metadata": {
            "tags": []
          },
          "execution_count": 10
        }
      ]
    },
    {
      "cell_type": "code",
      "metadata": {
        "id": "00l4LICwCQP9"
      },
      "source": [
        "df.drop(index=142964,axis=0,inplace=True)"
      ],
      "execution_count": null,
      "outputs": []
    },
    {
      "cell_type": "code",
      "metadata": {
        "id": "dnnfGhcfZlb4"
      },
      "source": [
        "files = glob.glob('/content/drive/MyDrive/npz files /*.npz')"
      ],
      "execution_count": null,
      "outputs": []
    },
    {
      "cell_type": "code",
      "metadata": {
        "id": "y-qKy3nzJQmx"
      },
      "source": [
        "def sort_glob(file):\n",
        "  file_path_dic ={}\n",
        "  for f in file:\n",
        "    file_path_dic[int(re.findall('[0-9]+',f)[0])] = f\n",
        "\n",
        "  file_paths = []\n",
        "  sorted_file_path = sorted(file_path_dic.items())\n",
        "\n",
        "  for tup in sorted_file_path:\n",
        "    file_paths.append(tup[1])\n",
        "  \n",
        "  return file_paths"
      ],
      "execution_count": null,
      "outputs": []
    },
    {
      "cell_type": "code",
      "metadata": {
        "colab": {
          "base_uri": "https://localhost:8080/"
        },
        "id": "-_LtK1aPZ6v3",
        "outputId": "1ad15039-5ccb-45bd-a372-2d9e73d9f69c"
      },
      "source": [
        "files = sort_glob(files)\n",
        "index = [int(x.split('/')[-1][:-4]) for x in files]\n",
        "len(files)"
      ],
      "execution_count": null,
      "outputs": [
        {
          "output_type": "execute_result",
          "data": {
            "text/plain": [
              "91465"
            ]
          },
          "metadata": {
            "tags": []
          },
          "execution_count": 34
        }
      ]
    },
    {
      "cell_type": "code",
      "metadata": {
        "colab": {
          "base_uri": "https://localhost:8080/",
          "height": 586
        },
        "id": "p1GCFiAJa-JB",
        "outputId": "9df8af65-59ed-4d81-9943-abe20dd4e2f0"
      },
      "source": [
        "new_df = df[~df.index.isin(index)]\n",
        "new_df"
      ],
      "execution_count": null,
      "outputs": [
        {
          "output_type": "execute_result",
          "data": {
            "text/html": [
              "<div>\n",
              "<style scoped>\n",
              "    .dataframe tbody tr th:only-of-type {\n",
              "        vertical-align: middle;\n",
              "    }\n",
              "\n",
              "    .dataframe tbody tr th {\n",
              "        vertical-align: top;\n",
              "    }\n",
              "\n",
              "    .dataframe thead th {\n",
              "        text-align: right;\n",
              "    }\n",
              "</style>\n",
              "<table border=\"1\" class=\"dataframe\">\n",
              "  <thead>\n",
              "    <tr style=\"text-align: right;\">\n",
              "      <th></th>\n",
              "      <th>gender</th>\n",
              "      <th>category</th>\n",
              "      <th>sub-category</th>\n",
              "      <th>product-number</th>\n",
              "      <th>product-name</th>\n",
              "      <th>path</th>\n",
              "      <th>path_in_drive</th>\n",
              "    </tr>\n",
              "  </thead>\n",
              "  <tbody>\n",
              "    <tr>\n",
              "      <th>200351</th>\n",
              "      <td>women</td>\n",
              "      <td>tops</td>\n",
              "      <td>t-shirts</td>\n",
              "      <td>91272357</td>\n",
              "      <td>multicolor print t-shirt</td>\n",
              "      <td>women/tops/t-shirts/91272357/91272357_2.jpeg</td>\n",
              "      <td>/content/drive/MyDrive/women/tops/t-shirts/912...</td>\n",
              "    </tr>\n",
              "    <tr>\n",
              "      <th>200353</th>\n",
              "      <td>women</td>\n",
              "      <td>tops</td>\n",
              "      <td>t-shirts</td>\n",
              "      <td>91272357</td>\n",
              "      <td>multicolor print t-shirt</td>\n",
              "      <td>women/tops/t-shirts/91272357/91272357_4.jpeg</td>\n",
              "      <td>/content/drive/MyDrive/women/tops/t-shirts/912...</td>\n",
              "    </tr>\n",
              "    <tr>\n",
              "      <th>200355</th>\n",
              "      <td>women</td>\n",
              "      <td>tops</td>\n",
              "      <td>t-shirts</td>\n",
              "      <td>91272661</td>\n",
              "      <td>purple ribbed cotton tee</td>\n",
              "      <td>women/tops/t-shirts/91272661/91272661_0.jpeg</td>\n",
              "      <td>/content/drive/MyDrive/women/tops/t-shirts/912...</td>\n",
              "    </tr>\n",
              "    <tr>\n",
              "      <th>200357</th>\n",
              "      <td>women</td>\n",
              "      <td>tops</td>\n",
              "      <td>t-shirts</td>\n",
              "      <td>91272661</td>\n",
              "      <td>purple ribbed cotton tee</td>\n",
              "      <td>women/tops/t-shirts/91272661/91272661_2.jpeg</td>\n",
              "      <td>/content/drive/MyDrive/women/tops/t-shirts/912...</td>\n",
              "    </tr>\n",
              "    <tr>\n",
              "      <th>200362</th>\n",
              "      <td>women</td>\n",
              "      <td>tops</td>\n",
              "      <td>t-shirts</td>\n",
              "      <td>91273108</td>\n",
              "      <td>black crystal embellished t-shirt</td>\n",
              "      <td>women/tops/t-shirts/91273108/91273108_2.jpeg</td>\n",
              "      <td>/content/drive/MyDrive/women/tops/t-shirts/912...</td>\n",
              "    </tr>\n",
              "    <tr>\n",
              "      <th>...</th>\n",
              "      <td>...</td>\n",
              "      <td>...</td>\n",
              "      <td>...</td>\n",
              "      <td>...</td>\n",
              "      <td>...</td>\n",
              "      <td>...</td>\n",
              "      <td>...</td>\n",
              "    </tr>\n",
              "    <tr>\n",
              "      <th>201831</th>\n",
              "      <td>women</td>\n",
              "      <td>tops</td>\n",
              "      <td>t-shirts</td>\n",
              "      <td>91437517</td>\n",
              "      <td>classic tee black</td>\n",
              "      <td>women/tops/t-shirts/91437517/91437517_2.jpeg</td>\n",
              "      <td>/content/drive/MyDrive/women/tops/t-shirts/914...</td>\n",
              "    </tr>\n",
              "    <tr>\n",
              "      <th>201832</th>\n",
              "      <td>women</td>\n",
              "      <td>tops</td>\n",
              "      <td>t-shirts</td>\n",
              "      <td>91437722</td>\n",
              "      <td>black red heart t-shirt</td>\n",
              "      <td>women/tops/t-shirts/91437722/91437722_0.jpeg</td>\n",
              "      <td>/content/drive/MyDrive/women/tops/t-shirts/914...</td>\n",
              "    </tr>\n",
              "    <tr>\n",
              "      <th>201833</th>\n",
              "      <td>women</td>\n",
              "      <td>tops</td>\n",
              "      <td>t-shirts</td>\n",
              "      <td>91437753</td>\n",
              "      <td>white run shirt</td>\n",
              "      <td>women/tops/t-shirts/91437753/91437753_0.jpeg</td>\n",
              "      <td>/content/drive/MyDrive/women/tops/t-shirts/914...</td>\n",
              "    </tr>\n",
              "    <tr>\n",
              "      <th>201834</th>\n",
              "      <td>women</td>\n",
              "      <td>tops</td>\n",
              "      <td>t-shirts</td>\n",
              "      <td>91437753</td>\n",
              "      <td>white run shirt</td>\n",
              "      <td>women/tops/t-shirts/91437753/91437753_1.jpeg</td>\n",
              "      <td>/content/drive/MyDrive/women/tops/t-shirts/914...</td>\n",
              "    </tr>\n",
              "    <tr>\n",
              "      <th>201835</th>\n",
              "      <td>women</td>\n",
              "      <td>tops</td>\n",
              "      <td>t-shirts</td>\n",
              "      <td>91438020</td>\n",
              "      <td>multicolor clay tee chalk</td>\n",
              "      <td>women/tops/t-shirts/91438020/91438020_0.jpeg</td>\n",
              "      <td>/content/drive/MyDrive/women/tops/t-shirts/914...</td>\n",
              "    </tr>\n",
              "  </tbody>\n",
              "</table>\n",
              "<p>680 rows × 7 columns</p>\n",
              "</div>"
            ],
            "text/plain": [
              "       gender  ...                                      path_in_drive\n",
              "200351  women  ...  /content/drive/MyDrive/women/tops/t-shirts/912...\n",
              "200353  women  ...  /content/drive/MyDrive/women/tops/t-shirts/912...\n",
              "200355  women  ...  /content/drive/MyDrive/women/tops/t-shirts/912...\n",
              "200357  women  ...  /content/drive/MyDrive/women/tops/t-shirts/912...\n",
              "200362  women  ...  /content/drive/MyDrive/women/tops/t-shirts/912...\n",
              "...       ...  ...                                                ...\n",
              "201831  women  ...  /content/drive/MyDrive/women/tops/t-shirts/914...\n",
              "201832  women  ...  /content/drive/MyDrive/women/tops/t-shirts/914...\n",
              "201833  women  ...  /content/drive/MyDrive/women/tops/t-shirts/914...\n",
              "201834  women  ...  /content/drive/MyDrive/women/tops/t-shirts/914...\n",
              "201835  women  ...  /content/drive/MyDrive/women/tops/t-shirts/914...\n",
              "\n",
              "[680 rows x 7 columns]"
            ]
          },
          "metadata": {
            "tags": []
          },
          "execution_count": 30
        }
      ]
    },
    {
      "cell_type": "markdown",
      "metadata": {
        "id": "W5uTuAcs_w_p"
      },
      "source": [
        "# Coverting image into a vector"
      ]
    },
    {
      "cell_type": "code",
      "metadata": {
        "id": "ZAMy9C5BINEY"
      },
      "source": [
        "def load_img(path):\n",
        "\n",
        "  im_ar = asarray(Image.open(path))\n",
        "  img = im_ar\n",
        "  img = tf.image.resize_with_pad(img,224,224)\n",
        "  img = tf.image.convert_image_dtype(img, tf.float32)[tf.newaxis,...]\n",
        "  return img\n",
        "\n",
        "def get_image_feature_vectors():\n",
        "  i = 0\n",
        "  j = 1\n",
        "  module_handle = \"https://tfhub.dev/google/imagenet/mobilenet_v2_140_224/feature_vector/4\"\n",
        "  module = hub.load(module_handle)\n",
        "  \n",
        "  for pi_id,filename in zip(new_df.index,new_df['path_in_drive']):\n",
        "    if i == 50:\n",
        "      print(j)\n",
        "      j+=1\n",
        "      i = 0\n",
        "    i +=1\n",
        "    #print(\"image count           :%s\"%i)\n",
        "\n",
        "    img = load_img(filename)\n",
        "    features = module(img)\n",
        "    #print(features)\n",
        "    feature_set = np.squeeze(features)\n",
        "    #print(feature_set)\n",
        "    #print(feature_set.shape)\n",
        "    np.savez('/content/drive/MyDrive/npz files /'+str(pi_id)+'.npz',feature_set)\n"
      ],
      "execution_count": null,
      "outputs": []
    },
    {
      "cell_type": "code",
      "metadata": {
        "id": "i0FEIta2KJLE",
        "colab": {
          "base_uri": "https://localhost:8080/"
        },
        "outputId": "6556049b-4750-47aa-c9ae-3153db820224"
      },
      "source": [
        "get_image_feature_vectors() "
      ],
      "execution_count": null,
      "outputs": [
        {
          "output_type": "stream",
          "text": [
            "1\n",
            "2\n",
            "3\n",
            "4\n",
            "5\n",
            "6\n",
            "7\n",
            "8\n",
            "9\n",
            "10\n",
            "11\n",
            "12\n",
            "13\n"
          ],
          "name": "stdout"
        }
      ]
    },
    {
      "cell_type": "code",
      "metadata": {
        "colab": {
          "base_uri": "https://localhost:8080/"
        },
        "id": "uOAg6dAc3STt",
        "outputId": "242548eb-a51f-45ec-99b2-ee975e00e5d9"
      },
      "source": [
        "i = np.load('/content/drive/MyDrive/npz files /3.npz')\n",
        "i['arr_0']"
      ],
      "execution_count": null,
      "outputs": [
        {
          "output_type": "execute_result",
          "data": {
            "text/plain": [
              "array([2.3490744 , 0.9729177 , 0.        , ..., 0.        , 0.        ,\n",
              "       0.01716174], dtype=float32)"
            ]
          },
          "metadata": {
            "tags": []
          },
          "execution_count": 35
        }
      ]
    }
  ]
}