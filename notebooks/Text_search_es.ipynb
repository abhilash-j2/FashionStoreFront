{
  "nbformat": 4,
  "nbformat_minor": 0,
  "metadata": {
    "colab": {
      "name": "Text_search_es.ipynb",
      "provenance": [],
      "collapsed_sections": []
    },
    "kernelspec": {
      "name": "python3",
      "display_name": "Python 3"
    },
    "language_info": {
      "name": "python"
    }
  },
  "cells": [
    {
      "cell_type": "markdown",
      "metadata": {
        "id": "K5kcv-8p1deN"
      },
      "source": [
        "# Installing packages"
      ]
    },
    {
      "cell_type": "code",
      "metadata": {
        "colab": {
          "base_uri": "https://localhost:8080/"
        },
        "id": "tos5o0W5xJZc",
        "outputId": "73033f5e-958c-48c3-d54e-a85afad5846e"
      },
      "source": [
        "!pip install elasticsearch\n",
        "!pip install jproperties"
      ],
      "execution_count": 209,
      "outputs": [
        {
          "output_type": "stream",
          "text": [
            "Requirement already satisfied: elasticsearch in /usr/local/lib/python3.7/dist-packages (7.12.1)\n",
            "Requirement already satisfied: urllib3<2,>=1.21.1 in /usr/local/lib/python3.7/dist-packages (from elasticsearch) (1.24.3)\n",
            "Requirement already satisfied: certifi in /usr/local/lib/python3.7/dist-packages (from elasticsearch) (2020.12.5)\n",
            "Requirement already satisfied: jproperties in /usr/local/lib/python3.7/dist-packages (2.1.0)\n",
            "Requirement already satisfied: six~=1.12 in /usr/local/lib/python3.7/dist-packages (from jproperties) (1.15.0)\n"
          ],
          "name": "stdout"
        }
      ]
    },
    {
      "cell_type": "markdown",
      "metadata": {
        "id": "MdZ6j9o21rnC"
      },
      "source": [
        "# importing files"
      ]
    },
    {
      "cell_type": "code",
      "metadata": {
        "colab": {
          "base_uri": "https://localhost:8080/"
        },
        "id": "nay7KKTLxMuK",
        "outputId": "1941ca5e-2140-4015-c3bb-49035d27e08a"
      },
      "source": [
        "from elasticsearch import Elasticsearch\n",
        "import elasticsearch\n",
        "from jproperties import Properties\n",
        "import pickle\n",
        "import pandas as pd\n",
        "import numpy as np\n",
        "from google.colab import drive\n",
        "drive.mount('/content/drive')"
      ],
      "execution_count": 210,
      "outputs": [
        {
          "output_type": "stream",
          "text": [
            "Drive already mounted at /content/drive; to attempt to forcibly remount, call drive.mount(\"/content/drive\", force_remount=True).\n"
          ],
          "name": "stdout"
        }
      ]
    },
    {
      "cell_type": "code",
      "metadata": {
        "id": "NBrERXRKxsoT"
      },
      "source": [
        "config = Properties()\n",
        "\n",
        "with open('/content/drive/MyDrive/config/elastic_search_config.prop','rb') as f:\n",
        "  config.load(f)"
      ],
      "execution_count": 212,
      "outputs": []
    },
    {
      "cell_type": "code",
      "metadata": {
        "id": "wR1QAW-yz9OJ"
      },
      "source": [
        "with open('/content/drive/MyDrive/Pickle files/Product_level_dataframe','rb') as f:\n",
        "  df = pickle.load(f)"
      ],
      "execution_count": 85,
      "outputs": []
    },
    {
      "cell_type": "markdown",
      "metadata": {
        "id": "urGOmKaM2l8Q"
      },
      "source": [
        "# Loading dataframe"
      ]
    },
    {
      "cell_type": "code",
      "metadata": {
        "colab": {
          "base_uri": "https://localhost:8080/",
          "height": 435
        },
        "id": "c0faishnNBu3",
        "outputId": "deeda4aa-d1ed-425f-98e3-4848ce6038de"
      },
      "source": [
        "df.reset_index(drop=False,inplace=True)\n",
        "df"
      ],
      "execution_count": 86,
      "outputs": [
        {
          "output_type": "execute_result",
          "data": {
            "text/html": [
              "<div>\n",
              "<style scoped>\n",
              "    .dataframe tbody tr th:only-of-type {\n",
              "        vertical-align: middle;\n",
              "    }\n",
              "\n",
              "    .dataframe tbody tr th {\n",
              "        vertical-align: top;\n",
              "    }\n",
              "\n",
              "    .dataframe thead th {\n",
              "        text-align: right;\n",
              "    }\n",
              "</style>\n",
              "<table border=\"1\" class=\"dataframe\">\n",
              "  <thead>\n",
              "    <tr style=\"text-align: right;\">\n",
              "      <th></th>\n",
              "      <th>index</th>\n",
              "      <th>gender</th>\n",
              "      <th>category</th>\n",
              "      <th>sub-category</th>\n",
              "      <th>product-number</th>\n",
              "      <th>product-name</th>\n",
              "      <th>path</th>\n",
              "    </tr>\n",
              "  </thead>\n",
              "  <tbody>\n",
              "    <tr>\n",
              "      <th>0</th>\n",
              "      <td>0</td>\n",
              "      <td>women</td>\n",
              "      <td>dresses</td>\n",
              "      <td>casual_and_day_dresses</td>\n",
              "      <td>56037632</td>\n",
              "      <td>black knit midi dress</td>\n",
              "      <td>women/dresses/casual_and_day_dresses/56037632/...</td>\n",
              "    </tr>\n",
              "    <tr>\n",
              "      <th>1</th>\n",
              "      <td>8</td>\n",
              "      <td>women</td>\n",
              "      <td>dresses</td>\n",
              "      <td>casual_and_day_dresses</td>\n",
              "      <td>62629380</td>\n",
              "      <td>multicolor henley t-shirt dress</td>\n",
              "      <td>women/dresses/casual_and_day_dresses/62629380/...</td>\n",
              "    </tr>\n",
              "    <tr>\n",
              "      <th>2</th>\n",
              "      <td>11</td>\n",
              "      <td>women</td>\n",
              "      <td>dresses</td>\n",
              "      <td>casual_and_day_dresses</td>\n",
              "      <td>67938089</td>\n",
              "      <td>black stitch dress</td>\n",
              "      <td>women/dresses/casual_and_day_dresses/67938089/...</td>\n",
              "    </tr>\n",
              "    <tr>\n",
              "      <th>3</th>\n",
              "      <td>20</td>\n",
              "      <td>women</td>\n",
              "      <td>dresses</td>\n",
              "      <td>casual_and_day_dresses</td>\n",
              "      <td>67981504</td>\n",
              "      <td>blue signature slim short-sleeve shirtdress</td>\n",
              "      <td>women/dresses/casual_and_day_dresses/67981504/...</td>\n",
              "    </tr>\n",
              "    <tr>\n",
              "      <th>4</th>\n",
              "      <td>32</td>\n",
              "      <td>women</td>\n",
              "      <td>dresses</td>\n",
              "      <td>casual_and_day_dresses</td>\n",
              "      <td>70969922</td>\n",
              "      <td>multicolor draped floral-print dress</td>\n",
              "      <td>women/dresses/casual_and_day_dresses/70969922/...</td>\n",
              "    </tr>\n",
              "    <tr>\n",
              "      <th>...</th>\n",
              "      <td>...</td>\n",
              "      <td>...</td>\n",
              "      <td>...</td>\n",
              "      <td>...</td>\n",
              "      <td>...</td>\n",
              "      <td>...</td>\n",
              "      <td>...</td>\n",
              "    </tr>\n",
              "    <tr>\n",
              "      <th>57257</th>\n",
              "      <td>201826</td>\n",
              "      <td>women</td>\n",
              "      <td>tops</td>\n",
              "      <td>t-shirts</td>\n",
              "      <td>91437497</td>\n",
              "      <td>black fight party t-shirt</td>\n",
              "      <td>women/tops/t-shirts/91437497/91437497_1.jpeg</td>\n",
              "    </tr>\n",
              "    <tr>\n",
              "      <th>57258</th>\n",
              "      <td>201830</td>\n",
              "      <td>women</td>\n",
              "      <td>tops</td>\n",
              "      <td>t-shirts</td>\n",
              "      <td>91437517</td>\n",
              "      <td>classic tee black</td>\n",
              "      <td>women/tops/t-shirts/91437517/91437517_1.jpeg</td>\n",
              "    </tr>\n",
              "    <tr>\n",
              "      <th>57259</th>\n",
              "      <td>201832</td>\n",
              "      <td>women</td>\n",
              "      <td>tops</td>\n",
              "      <td>t-shirts</td>\n",
              "      <td>91437722</td>\n",
              "      <td>black red heart t-shirt</td>\n",
              "      <td>women/tops/t-shirts/91437722/91437722_0.jpeg</td>\n",
              "    </tr>\n",
              "    <tr>\n",
              "      <th>57260</th>\n",
              "      <td>201833</td>\n",
              "      <td>women</td>\n",
              "      <td>tops</td>\n",
              "      <td>t-shirts</td>\n",
              "      <td>91437753</td>\n",
              "      <td>white run shirt</td>\n",
              "      <td>women/tops/t-shirts/91437753/91437753_0.jpeg</td>\n",
              "    </tr>\n",
              "    <tr>\n",
              "      <th>57261</th>\n",
              "      <td>201835</td>\n",
              "      <td>women</td>\n",
              "      <td>tops</td>\n",
              "      <td>t-shirts</td>\n",
              "      <td>91438020</td>\n",
              "      <td>multicolor clay tee chalk</td>\n",
              "      <td>women/tops/t-shirts/91438020/91438020_0.jpeg</td>\n",
              "    </tr>\n",
              "  </tbody>\n",
              "</table>\n",
              "<p>57262 rows × 7 columns</p>\n",
              "</div>"
            ],
            "text/plain": [
              "        index  ...                                               path\n",
              "0           0  ...  women/dresses/casual_and_day_dresses/56037632/...\n",
              "1           8  ...  women/dresses/casual_and_day_dresses/62629380/...\n",
              "2          11  ...  women/dresses/casual_and_day_dresses/67938089/...\n",
              "3          20  ...  women/dresses/casual_and_day_dresses/67981504/...\n",
              "4          32  ...  women/dresses/casual_and_day_dresses/70969922/...\n",
              "...       ...  ...                                                ...\n",
              "57257  201826  ...       women/tops/t-shirts/91437497/91437497_1.jpeg\n",
              "57258  201830  ...       women/tops/t-shirts/91437517/91437517_1.jpeg\n",
              "57259  201832  ...       women/tops/t-shirts/91437722/91437722_0.jpeg\n",
              "57260  201833  ...       women/tops/t-shirts/91437753/91437753_0.jpeg\n",
              "57261  201835  ...       women/tops/t-shirts/91438020/91438020_0.jpeg\n",
              "\n",
              "[57262 rows x 7 columns]"
            ]
          },
          "metadata": {
            "tags": []
          },
          "execution_count": 86
        }
      ]
    },
    {
      "cell_type": "markdown",
      "metadata": {
        "id": "x-H1QT3p2w5Z"
      },
      "source": [
        "# Elastic Search"
      ]
    },
    {
      "cell_type": "code",
      "metadata": {
        "id": "1F57JB0uymIQ"
      },
      "source": [
        "es = Elasticsearch([{'host':config.get('endpoint').data,'port':config.get('port').data}])"
      ],
      "execution_count": 213,
      "outputs": []
    },
    {
      "cell_type": "code",
      "metadata": {
        "colab": {
          "base_uri": "https://localhost:8080/"
        },
        "id": "O73XgueLzB8W",
        "outputId": "9068c766-8347-4680-dcca-6b5d6759e599"
      },
      "source": [
        "es.ping()"
      ],
      "execution_count": 214,
      "outputs": [
        {
          "output_type": "execute_result",
          "data": {
            "text/plain": [
              "True"
            ]
          },
          "metadata": {
            "tags": []
          },
          "execution_count": 214
        }
      ]
    },
    {
      "cell_type": "code",
      "metadata": {
        "id": "YVurPD_mKOaz"
      },
      "source": [
        "def search(search_phrase,number,field):\n",
        "\n",
        "  # product-name\n",
        "  words = search_phrase.split(\" \")\n",
        "  json = []\n",
        "  size = str(number+20)\n",
        "  for word in words:\n",
        "    query = {\n",
        "        \"_source\":[\"product-name\",\"product-number\",\"category\",\"sub-category\",\"image-path\",\"_id\"],\n",
        "        \"size\":size,\n",
        "        \"query\":{\n",
        "            \"match\":{\n",
        "                field: word\n",
        "            }\n",
        "        }\n",
        "    }\n",
        "    #print(query)\n",
        "    json.append(es.search(index=\"product-level\", doc_type=\"_doc\",body=query))\n",
        "\n",
        "  return json"
      ],
      "execution_count": 163,
      "outputs": []
    },
    {
      "cell_type": "code",
      "metadata": {
        "id": "yYKD3NLHTvBJ"
      },
      "source": [
        "def search_phrases(search_phrase,number,field):\n",
        "\n",
        "  # product-name\n",
        "  #words = search_phrase.split(\" \")\n",
        "  #json = []\n",
        "  size = str(number+20)\n",
        "  #for word in words:\n",
        "  query = {\n",
        "        \"_source\":[\"product-name\",\"product-number\",\"category\",\"sub-category\",\"image-path\",\"_id\"],\n",
        "        \"size\":size,\n",
        "        \"query\":{\n",
        "            \"match_phrase\":{\n",
        "                field: search_phrase\n",
        "            }\n",
        "        }\n",
        "  }\n",
        "    #print(query)\n",
        "  json=es.search(index=\"product-level\", doc_type=\"_doc\",body=query)\n",
        "\n",
        "  p_id = []\n",
        "  score =[]\n",
        "\n",
        "  if len(json['hits']['hits'])>0:\n",
        "    p_id = json['hits']['hits'][0]['_source']['product-number']\n",
        "    score = json['hits']['hits'][0]['_score']\n",
        "    search_phrase_value = pd.DataFrame(pd.Series({'product-number':p_id,'score':score})).T\n",
        "    return search_phrase_value\n",
        "  else:\n",
        "    return pd.DataFrame({'product-number':p_id,'score':score})\n",
        "  "
      ],
      "execution_count": 192,
      "outputs": []
    },
    {
      "cell_type": "code",
      "metadata": {
        "id": "v8gEXh6a-eIb"
      },
      "source": [
        "def agg_json(json_field):\n",
        "    \n",
        "    p_id = []\n",
        "    score = []\n",
        "\n",
        "    for file in json_field:\n",
        "      #print(file)\n",
        "      for record in file['hits']['hits']:\n",
        "        p_id.append(record['_source']['product-number'])\n",
        "        score.append(record['_score'])\n",
        "    prod_no = pd.DataFrame({'product-number':p_id,\"score\":score})\n",
        "    #prod_no.sort_values(by='index_id',inplace=True)\n",
        "    #prod_no['product-number']=df[df['level_0'].isin(prod_no['index_id'])]['product-number'].values\n",
        "    prod_no = prod_no.groupby('product-number').agg(sum).reset_index(drop = False).sort_values('score',ascending=False)\n",
        "    #print(prod_no.info())\n",
        "    #print(score)\n",
        "    #print(p_id)\n",
        "    return prod_no\n",
        "\n",
        "def call_field(search_phrase, number):\n",
        "\n",
        "  fields = ['product-name','category','sub-category']\n",
        "  json_field = []\n",
        "  for field in fields:\n",
        "    json_field.append(search(search_phrase,number,field))\n",
        "  #print(json_field[0][1])\n",
        "  #print([len(json_field)])\n",
        "  #print([len(json_field[i]) for i in range(3)])\n",
        "  #return json_field\n",
        "  \n",
        "  prod_no = agg_json(json_field[0])\n",
        "  #print(prod_no)\n",
        "  category = agg_json(json_field[1])\n",
        "  sub_category = agg_json(json_field[2])\n",
        "\n",
        "  return prod_no, category,sub_category"
      ],
      "execution_count": 165,
      "outputs": []
    },
    {
      "cell_type": "code",
      "metadata": {
        "id": "2Ck0Kl-onvRL"
      },
      "source": [
        "def call_functions(search_phrase1,number):\n",
        "  \n",
        "  prod_no1, category1,sub_category1 = call_field(search_phrase1,number)\n",
        "  search_phrase_value = search_phrases(search_phrase1,number,'product-name')\n",
        "\n",
        "  return prod_no1, category1,sub_category1,search_phrase_value"
      ],
      "execution_count": 168,
      "outputs": []
    },
    {
      "cell_type": "code",
      "metadata": {
        "colab": {
          "base_uri": "https://localhost:8080/"
        },
        "id": "Dw5jtRY1Y1Ow",
        "outputId": "99831a77-0305-48ad-fcf6-be451ee6b4f0"
      },
      "source": [
        "obj =prod_no1, category1,sub_category1,search_phrase_value = call_functions('brown oversized pants',10)"
      ],
      "execution_count": 193,
      "outputs": [
        {
          "output_type": "stream",
          "text": [
            "/usr/local/lib/python3.7/dist-packages/elasticsearch/connection/base.py:200: ElasticsearchWarning: [types removal] Specifying types in search requests is deprecated.\n",
            "  warnings.warn(message, category=ElasticsearchWarning)\n"
          ],
          "name": "stderr"
        }
      ]
    },
    {
      "cell_type": "code",
      "metadata": {
        "id": "ahsVkFB6dOqL"
      },
      "source": [
        "bina = []\n",
        "for x in obj:\n",
        "  if len(x)>0:\n",
        "    bina.append(1)\n",
        "  else:\n",
        "    bina.append(0)\n",
        "bina = np.array(bina)"
      ],
      "execution_count": 198,
      "outputs": []
    },
    {
      "cell_type": "code",
      "metadata": {
        "colab": {
          "base_uri": "https://localhost:8080/",
          "height": 130
        },
        "id": "uVmo3OPMTO8M",
        "outputId": "cd591d38-9e1b-43c8-f50c-ce0babbef910"
      },
      "source": [
        "search_phrase('black knit midi dress',10,'product-name')"
      ],
      "execution_count": 159,
      "outputs": [
        {
          "output_type": "stream",
          "text": [
            "/usr/local/lib/python3.7/dist-packages/elasticsearch/connection/base.py:200: ElasticsearchWarning: [types removal] Specifying types in search requests is deprecated.\n",
            "  warnings.warn(message, category=ElasticsearchWarning)\n"
          ],
          "name": "stderr"
        },
        {
          "output_type": "execute_result",
          "data": {
            "text/html": [
              "<div>\n",
              "<style scoped>\n",
              "    .dataframe tbody tr th:only-of-type {\n",
              "        vertical-align: middle;\n",
              "    }\n",
              "\n",
              "    .dataframe tbody tr th {\n",
              "        vertical-align: top;\n",
              "    }\n",
              "\n",
              "    .dataframe thead th {\n",
              "        text-align: right;\n",
              "    }\n",
              "</style>\n",
              "<table border=\"1\" class=\"dataframe\">\n",
              "  <thead>\n",
              "    <tr style=\"text-align: right;\">\n",
              "      <th></th>\n",
              "      <th>product-number</th>\n",
              "      <th>score</th>\n",
              "    </tr>\n",
              "  </thead>\n",
              "  <tbody>\n",
              "    <tr>\n",
              "      <th>0</th>\n",
              "      <td>56037632</td>\n",
              "      <td>10.7081</td>\n",
              "    </tr>\n",
              "  </tbody>\n",
              "</table>\n",
              "</div>"
            ],
            "text/plain": [
              "  product-number    score\n",
              "0       56037632  10.7081"
            ]
          },
          "metadata": {
            "tags": []
          },
          "execution_count": 159
        }
      ]
    },
    {
      "cell_type": "code",
      "metadata": {
        "id": "e6EJWnmdE_uM"
      },
      "source": [
        "def score(prod_no,category,sub_category,search_phrase,a,b,c,d):\n",
        "  prod_no['score'] = a*prod_no['score']\n",
        "  category['score'] = b*category['score']\n",
        "  sub_category['score'] = c*sub_category['score']\n",
        "  search_phrase['score'] = d*search_phrase['score']\n",
        "\n",
        "  interim = prod_no.merge(category, how='outer',on='product-number')\n",
        "  interim1 = interim.merge(sub_category,how='outer',on='product-number')\n",
        "  interim1.rename(columns={'score_x':'product-name','score_y':'category','score':'sub-category'},inplace=True)\n",
        "  final = interim1.merge(search_phrase,how='outer',on='product-number',)\n",
        "\n",
        "  final.fillna(0,inplace=True)\n",
        "  final['score_final'] = final['product-name']+final['category']+final['sub-category']+final['score']\n",
        "  final.sort_values(by='score_final', ascending=False,inplace=True)\n",
        "  final = final.iloc[:20]\n",
        "  return final"
      ],
      "execution_count": 204,
      "outputs": []
    },
    {
      "cell_type": "code",
      "metadata": {
        "colab": {
          "base_uri": "https://localhost:8080/"
        },
        "id": "kvxzRnhcg6UT",
        "outputId": "e86bb275-b453-46fe-d118-44aafb1305ce"
      },
      "source": [
        "probability = np.array([0.35,0.04,0.01,0.60])\n",
        "bina = np.array([1,1,0,0])\n",
        "revised_prob = probability* bina\n",
        "revised_prob = revised_prob/sum(revised_prob)\n",
        "revised_prob"
      ],
      "execution_count": 205,
      "outputs": [
        {
          "output_type": "execute_result",
          "data": {
            "text/plain": [
              "array([0.8974359, 0.1025641, 0.       , 0.       ])"
            ]
          },
          "metadata": {
            "tags": []
          },
          "execution_count": 205
        }
      ]
    },
    {
      "cell_type": "code",
      "metadata": {
        "id": "PdTdpScZK5WD"
      },
      "source": [
        "\n",
        "frame = score(prod_no1,category1,sub_category1,search_phrase_value,*revised_prob)"
      ],
      "execution_count": 206,
      "outputs": []
    },
    {
      "cell_type": "code",
      "metadata": {
        "colab": {
          "base_uri": "https://localhost:8080/",
          "height": 639
        },
        "id": "BW4T6r9aRGL0",
        "outputId": "977fd8b4-f8a4-44d9-916b-886e46a821a1"
      },
      "source": [
        "frame"
      ],
      "execution_count": 207,
      "outputs": [
        {
          "output_type": "execute_result",
          "data": {
            "text/html": [
              "<div>\n",
              "<style scoped>\n",
              "    .dataframe tbody tr th:only-of-type {\n",
              "        vertical-align: middle;\n",
              "    }\n",
              "\n",
              "    .dataframe tbody tr th {\n",
              "        vertical-align: top;\n",
              "    }\n",
              "\n",
              "    .dataframe thead th {\n",
              "        text-align: right;\n",
              "    }\n",
              "</style>\n",
              "<table border=\"1\" class=\"dataframe\">\n",
              "  <thead>\n",
              "    <tr style=\"text-align: right;\">\n",
              "      <th></th>\n",
              "      <th>product-number</th>\n",
              "      <th>product-name</th>\n",
              "      <th>category</th>\n",
              "      <th>sub-category</th>\n",
              "      <th>score</th>\n",
              "      <th>score_final</th>\n",
              "    </tr>\n",
              "  </thead>\n",
              "  <tbody>\n",
              "    <tr>\n",
              "      <th>0</th>\n",
              "      <td>90791048</td>\n",
              "      <td>5.668433</td>\n",
              "      <td>0.0</td>\n",
              "      <td>0.0</td>\n",
              "      <td>0.0</td>\n",
              "      <td>5.668433</td>\n",
              "    </tr>\n",
              "    <tr>\n",
              "      <th>2</th>\n",
              "      <td>91401942</td>\n",
              "      <td>5.668433</td>\n",
              "      <td>0.0</td>\n",
              "      <td>0.0</td>\n",
              "      <td>0.0</td>\n",
              "      <td>5.668433</td>\n",
              "    </tr>\n",
              "    <tr>\n",
              "      <th>3</th>\n",
              "      <td>90779617</td>\n",
              "      <td>5.668433</td>\n",
              "      <td>0.0</td>\n",
              "      <td>0.0</td>\n",
              "      <td>0.0</td>\n",
              "      <td>5.668433</td>\n",
              "    </tr>\n",
              "    <tr>\n",
              "      <th>4</th>\n",
              "      <td>89422093</td>\n",
              "      <td>5.668433</td>\n",
              "      <td>0.0</td>\n",
              "      <td>0.0</td>\n",
              "      <td>0.0</td>\n",
              "      <td>5.668433</td>\n",
              "    </tr>\n",
              "    <tr>\n",
              "      <th>5</th>\n",
              "      <td>91351721</td>\n",
              "      <td>5.668433</td>\n",
              "      <td>0.0</td>\n",
              "      <td>0.0</td>\n",
              "      <td>0.0</td>\n",
              "      <td>5.668433</td>\n",
              "    </tr>\n",
              "    <tr>\n",
              "      <th>6</th>\n",
              "      <td>91339306</td>\n",
              "      <td>5.668433</td>\n",
              "      <td>0.0</td>\n",
              "      <td>0.0</td>\n",
              "      <td>0.0</td>\n",
              "      <td>5.668433</td>\n",
              "    </tr>\n",
              "    <tr>\n",
              "      <th>7</th>\n",
              "      <td>88311213</td>\n",
              "      <td>5.668433</td>\n",
              "      <td>0.0</td>\n",
              "      <td>0.0</td>\n",
              "      <td>0.0</td>\n",
              "      <td>5.668433</td>\n",
              "    </tr>\n",
              "    <tr>\n",
              "      <th>8</th>\n",
              "      <td>91040275</td>\n",
              "      <td>5.668433</td>\n",
              "      <td>0.0</td>\n",
              "      <td>0.0</td>\n",
              "      <td>0.0</td>\n",
              "      <td>5.668433</td>\n",
              "    </tr>\n",
              "    <tr>\n",
              "      <th>1</th>\n",
              "      <td>90358942</td>\n",
              "      <td>5.668433</td>\n",
              "      <td>0.0</td>\n",
              "      <td>0.0</td>\n",
              "      <td>0.0</td>\n",
              "      <td>5.668433</td>\n",
              "    </tr>\n",
              "    <tr>\n",
              "      <th>15</th>\n",
              "      <td>90338267</td>\n",
              "      <td>5.570716</td>\n",
              "      <td>0.0</td>\n",
              "      <td>0.0</td>\n",
              "      <td>0.0</td>\n",
              "      <td>5.570716</td>\n",
              "    </tr>\n",
              "    <tr>\n",
              "      <th>19</th>\n",
              "      <td>91179265</td>\n",
              "      <td>5.570716</td>\n",
              "      <td>0.0</td>\n",
              "      <td>0.0</td>\n",
              "      <td>0.0</td>\n",
              "      <td>5.570716</td>\n",
              "    </tr>\n",
              "    <tr>\n",
              "      <th>18</th>\n",
              "      <td>70807805</td>\n",
              "      <td>5.570716</td>\n",
              "      <td>0.0</td>\n",
              "      <td>0.0</td>\n",
              "      <td>0.0</td>\n",
              "      <td>5.570716</td>\n",
              "    </tr>\n",
              "    <tr>\n",
              "      <th>17</th>\n",
              "      <td>90048311</td>\n",
              "      <td>5.570716</td>\n",
              "      <td>0.0</td>\n",
              "      <td>0.0</td>\n",
              "      <td>0.0</td>\n",
              "      <td>5.570716</td>\n",
              "    </tr>\n",
              "    <tr>\n",
              "      <th>16</th>\n",
              "      <td>91149328</td>\n",
              "      <td>5.570716</td>\n",
              "      <td>0.0</td>\n",
              "      <td>0.0</td>\n",
              "      <td>0.0</td>\n",
              "      <td>5.570716</td>\n",
              "    </tr>\n",
              "    <tr>\n",
              "      <th>14</th>\n",
              "      <td>91003506</td>\n",
              "      <td>5.570716</td>\n",
              "      <td>0.0</td>\n",
              "      <td>0.0</td>\n",
              "      <td>0.0</td>\n",
              "      <td>5.570716</td>\n",
              "    </tr>\n",
              "    <tr>\n",
              "      <th>13</th>\n",
              "      <td>90987967</td>\n",
              "      <td>5.570716</td>\n",
              "      <td>0.0</td>\n",
              "      <td>0.0</td>\n",
              "      <td>0.0</td>\n",
              "      <td>5.570716</td>\n",
              "    </tr>\n",
              "    <tr>\n",
              "      <th>12</th>\n",
              "      <td>90952904</td>\n",
              "      <td>5.570716</td>\n",
              "      <td>0.0</td>\n",
              "      <td>0.0</td>\n",
              "      <td>0.0</td>\n",
              "      <td>5.570716</td>\n",
              "    </tr>\n",
              "    <tr>\n",
              "      <th>11</th>\n",
              "      <td>89227340</td>\n",
              "      <td>5.570716</td>\n",
              "      <td>0.0</td>\n",
              "      <td>0.0</td>\n",
              "      <td>0.0</td>\n",
              "      <td>5.570716</td>\n",
              "    </tr>\n",
              "    <tr>\n",
              "      <th>10</th>\n",
              "      <td>90048030</td>\n",
              "      <td>5.570716</td>\n",
              "      <td>0.0</td>\n",
              "      <td>0.0</td>\n",
              "      <td>0.0</td>\n",
              "      <td>5.570716</td>\n",
              "    </tr>\n",
              "    <tr>\n",
              "      <th>9</th>\n",
              "      <td>91170990</td>\n",
              "      <td>5.570716</td>\n",
              "      <td>0.0</td>\n",
              "      <td>0.0</td>\n",
              "      <td>0.0</td>\n",
              "      <td>5.570716</td>\n",
              "    </tr>\n",
              "  </tbody>\n",
              "</table>\n",
              "</div>"
            ],
            "text/plain": [
              "   product-number  product-name  category  sub-category  score  score_final\n",
              "0        90791048      5.668433       0.0           0.0    0.0     5.668433\n",
              "2        91401942      5.668433       0.0           0.0    0.0     5.668433\n",
              "3        90779617      5.668433       0.0           0.0    0.0     5.668433\n",
              "4        89422093      5.668433       0.0           0.0    0.0     5.668433\n",
              "5        91351721      5.668433       0.0           0.0    0.0     5.668433\n",
              "6        91339306      5.668433       0.0           0.0    0.0     5.668433\n",
              "7        88311213      5.668433       0.0           0.0    0.0     5.668433\n",
              "8        91040275      5.668433       0.0           0.0    0.0     5.668433\n",
              "1        90358942      5.668433       0.0           0.0    0.0     5.668433\n",
              "15       90338267      5.570716       0.0           0.0    0.0     5.570716\n",
              "19       91179265      5.570716       0.0           0.0    0.0     5.570716\n",
              "18       70807805      5.570716       0.0           0.0    0.0     5.570716\n",
              "17       90048311      5.570716       0.0           0.0    0.0     5.570716\n",
              "16       91149328      5.570716       0.0           0.0    0.0     5.570716\n",
              "14       91003506      5.570716       0.0           0.0    0.0     5.570716\n",
              "13       90987967      5.570716       0.0           0.0    0.0     5.570716\n",
              "12       90952904      5.570716       0.0           0.0    0.0     5.570716\n",
              "11       89227340      5.570716       0.0           0.0    0.0     5.570716\n",
              "10       90048030      5.570716       0.0           0.0    0.0     5.570716\n",
              "9        91170990      5.570716       0.0           0.0    0.0     5.570716"
            ]
          },
          "metadata": {
            "tags": []
          },
          "execution_count": 207
        }
      ]
    },
    {
      "cell_type": "code",
      "metadata": {
        "colab": {
          "base_uri": "https://localhost:8080/",
          "height": 639
        },
        "id": "ERPNF6OTLnYl",
        "outputId": "9ab46f97-7c4c-4190-8495-d4816fadebcb"
      },
      "source": [
        "#df[df['product-number']=='90544677']\n",
        "#df[df['product-number']=='89050990']\n",
        "df[df['product-number'].isin(frame.head(20)['product-number'])]"
      ],
      "execution_count": 208,
      "outputs": [
        {
          "output_type": "execute_result",
          "data": {
            "text/html": [
              "<div>\n",
              "<style scoped>\n",
              "    .dataframe tbody tr th:only-of-type {\n",
              "        vertical-align: middle;\n",
              "    }\n",
              "\n",
              "    .dataframe tbody tr th {\n",
              "        vertical-align: top;\n",
              "    }\n",
              "\n",
              "    .dataframe thead th {\n",
              "        text-align: right;\n",
              "    }\n",
              "</style>\n",
              "<table border=\"1\" class=\"dataframe\">\n",
              "  <thead>\n",
              "    <tr style=\"text-align: right;\">\n",
              "      <th></th>\n",
              "      <th>index</th>\n",
              "      <th>gender</th>\n",
              "      <th>category</th>\n",
              "      <th>sub-category</th>\n",
              "      <th>product-number</th>\n",
              "      <th>product-name</th>\n",
              "      <th>path</th>\n",
              "    </tr>\n",
              "  </thead>\n",
              "  <tbody>\n",
              "    <tr>\n",
              "      <th>449</th>\n",
              "      <td>1492</td>\n",
              "      <td>women</td>\n",
              "      <td>dresses</td>\n",
              "      <td>maxi_and_long_dresses</td>\n",
              "      <td>89227340</td>\n",
              "      <td>blue oversized dress</td>\n",
              "      <td>women/dresses/maxi_and_long_dresses/89227340/8...</td>\n",
              "    </tr>\n",
              "    <tr>\n",
              "      <th>2612</th>\n",
              "      <td>9248</td>\n",
              "      <td>women</td>\n",
              "      <td>dresses</td>\n",
              "      <td>casual_and_day_dresses</td>\n",
              "      <td>91339306</td>\n",
              "      <td>brown</td>\n",
              "      <td>women/dresses/casual_and_day_dresses/91339306/...</td>\n",
              "    </tr>\n",
              "    <tr>\n",
              "      <th>16695</th>\n",
              "      <td>58118</td>\n",
              "      <td>women</td>\n",
              "      <td>dresses</td>\n",
              "      <td>prom_and_formal_dresses</td>\n",
              "      <td>91040275</td>\n",
              "      <td>brown</td>\n",
              "      <td>women/dresses/prom_and_formal_dresses/91040275...</td>\n",
              "    </tr>\n",
              "    <tr>\n",
              "      <th>18830</th>\n",
              "      <td>65439</td>\n",
              "      <td>women</td>\n",
              "      <td>jackets</td>\n",
              "      <td>casual_jackets</td>\n",
              "      <td>89422093</td>\n",
              "      <td>brown</td>\n",
              "      <td>women/jackets/casual_jackets/89422093/89422093...</td>\n",
              "    </tr>\n",
              "    <tr>\n",
              "      <th>20684</th>\n",
              "      <td>71455</td>\n",
              "      <td>women</td>\n",
              "      <td>jackets</td>\n",
              "      <td>padded_and_down_jackets</td>\n",
              "      <td>88311213</td>\n",
              "      <td>brown</td>\n",
              "      <td>women/jackets/padded_and_down_jackets/88311213...</td>\n",
              "    </tr>\n",
              "    <tr>\n",
              "      <th>34537</th>\n",
              "      <td>119779</td>\n",
              "      <td>women</td>\n",
              "      <td>skirts</td>\n",
              "      <td>mid_length_skirts</td>\n",
              "      <td>90779617</td>\n",
              "      <td>brown</td>\n",
              "      <td>women/skirts/mid_length_skirts/90779617/907796...</td>\n",
              "    </tr>\n",
              "    <tr>\n",
              "      <th>36509</th>\n",
              "      <td>126742</td>\n",
              "      <td>women</td>\n",
              "      <td>skirts</td>\n",
              "      <td>knee_length_skirts</td>\n",
              "      <td>91401942</td>\n",
              "      <td>brown</td>\n",
              "      <td>women/skirts/knee_length_skirts/91401942/91401...</td>\n",
              "    </tr>\n",
              "    <tr>\n",
              "      <th>38377</th>\n",
              "      <td>133561</td>\n",
              "      <td>women</td>\n",
              "      <td>skirts</td>\n",
              "      <td>mid_length_skirts</td>\n",
              "      <td>90791048</td>\n",
              "      <td>brown</td>\n",
              "      <td>women/skirts/mid_length_skirts/90791048/907910...</td>\n",
              "    </tr>\n",
              "    <tr>\n",
              "      <th>38647</th>\n",
              "      <td>134387</td>\n",
              "      <td>women</td>\n",
              "      <td>skirts</td>\n",
              "      <td>mid_length_skirts</td>\n",
              "      <td>91351721</td>\n",
              "      <td>brown</td>\n",
              "      <td>women/skirts/mid_length_skirts/91351721/913517...</td>\n",
              "    </tr>\n",
              "    <tr>\n",
              "      <th>41668</th>\n",
              "      <td>146209</td>\n",
              "      <td>women</td>\n",
              "      <td>skirts</td>\n",
              "      <td>mid_length_skirts</td>\n",
              "      <td>90358942</td>\n",
              "      <td>brown</td>\n",
              "      <td>women/skirts/mid_length_skirts/90358942/903589...</td>\n",
              "    </tr>\n",
              "    <tr>\n",
              "      <th>47001</th>\n",
              "      <td>165532</td>\n",
              "      <td>women</td>\n",
              "      <td>tops</td>\n",
              "      <td>shirts</td>\n",
              "      <td>90048311</td>\n",
              "      <td>black oversized shirt</td>\n",
              "      <td>women/tops/shirts/90048311/90048311_0.jpeg</td>\n",
              "    </tr>\n",
              "    <tr>\n",
              "      <th>47122</th>\n",
              "      <td>165911</td>\n",
              "      <td>women</td>\n",
              "      <td>tops</td>\n",
              "      <td>shirts</td>\n",
              "      <td>90987967</td>\n",
              "      <td>natural oversized shirt</td>\n",
              "      <td>women/tops/shirts/90987967/90987967_7.jpeg</td>\n",
              "    </tr>\n",
              "    <tr>\n",
              "      <th>47254</th>\n",
              "      <td>166276</td>\n",
              "      <td>women</td>\n",
              "      <td>tops</td>\n",
              "      <td>shirts</td>\n",
              "      <td>91149328</td>\n",
              "      <td>blue oversized shirt</td>\n",
              "      <td>women/tops/shirts/91149328/91149328_0.jpeg</td>\n",
              "    </tr>\n",
              "    <tr>\n",
              "      <th>47268</th>\n",
              "      <td>166321</td>\n",
              "      <td>women</td>\n",
              "      <td>tops</td>\n",
              "      <td>shirts</td>\n",
              "      <td>91179265</td>\n",
              "      <td>blue oversized shirt</td>\n",
              "      <td>women/tops/shirts/91179265/91179265_7.jpeg</td>\n",
              "    </tr>\n",
              "    <tr>\n",
              "      <th>47481</th>\n",
              "      <td>167046</td>\n",
              "      <td>women</td>\n",
              "      <td>tops</td>\n",
              "      <td>short_sleeve_tops</td>\n",
              "      <td>70807805</td>\n",
              "      <td>white oversized tee</td>\n",
              "      <td>women/tops/short_sleeve_tops/70807805/70807805...</td>\n",
              "    </tr>\n",
              "    <tr>\n",
              "      <th>52067</th>\n",
              "      <td>182493</td>\n",
              "      <td>women</td>\n",
              "      <td>tops</td>\n",
              "      <td>shirts</td>\n",
              "      <td>90048030</td>\n",
              "      <td>multicolor oversized shirt</td>\n",
              "      <td>women/tops/shirts/90048030/90048030_1.jpeg</td>\n",
              "    </tr>\n",
              "    <tr>\n",
              "      <th>52118</th>\n",
              "      <td>182669</td>\n",
              "      <td>women</td>\n",
              "      <td>tops</td>\n",
              "      <td>shirts</td>\n",
              "      <td>90338267</td>\n",
              "      <td>multicolor oversized shirt</td>\n",
              "      <td>women/tops/shirts/90338267/90338267_0.jpeg</td>\n",
              "    </tr>\n",
              "    <tr>\n",
              "      <th>52235</th>\n",
              "      <td>183091</td>\n",
              "      <td>women</td>\n",
              "      <td>tops</td>\n",
              "      <td>shirts</td>\n",
              "      <td>90952904</td>\n",
              "      <td>multicolor oversized shirt</td>\n",
              "      <td>women/tops/shirts/90952904/90952904_2.jpeg</td>\n",
              "    </tr>\n",
              "    <tr>\n",
              "      <th>52319</th>\n",
              "      <td>183427</td>\n",
              "      <td>women</td>\n",
              "      <td>tops</td>\n",
              "      <td>shirts</td>\n",
              "      <td>91003506</td>\n",
              "      <td>multicolor oversized shirt</td>\n",
              "      <td>women/tops/shirts/91003506/91003506_1.jpeg</td>\n",
              "    </tr>\n",
              "    <tr>\n",
              "      <th>52591</th>\n",
              "      <td>184514</td>\n",
              "      <td>women</td>\n",
              "      <td>tops</td>\n",
              "      <td>shirts</td>\n",
              "      <td>91170990</td>\n",
              "      <td>multicolor oversized shirt</td>\n",
              "      <td>women/tops/shirts/91170990/91170990_0.jpeg</td>\n",
              "    </tr>\n",
              "  </tbody>\n",
              "</table>\n",
              "</div>"
            ],
            "text/plain": [
              "        index  ...                                               path\n",
              "449      1492  ...  women/dresses/maxi_and_long_dresses/89227340/8...\n",
              "2612     9248  ...  women/dresses/casual_and_day_dresses/91339306/...\n",
              "16695   58118  ...  women/dresses/prom_and_formal_dresses/91040275...\n",
              "18830   65439  ...  women/jackets/casual_jackets/89422093/89422093...\n",
              "20684   71455  ...  women/jackets/padded_and_down_jackets/88311213...\n",
              "34537  119779  ...  women/skirts/mid_length_skirts/90779617/907796...\n",
              "36509  126742  ...  women/skirts/knee_length_skirts/91401942/91401...\n",
              "38377  133561  ...  women/skirts/mid_length_skirts/90791048/907910...\n",
              "38647  134387  ...  women/skirts/mid_length_skirts/91351721/913517...\n",
              "41668  146209  ...  women/skirts/mid_length_skirts/90358942/903589...\n",
              "47001  165532  ...         women/tops/shirts/90048311/90048311_0.jpeg\n",
              "47122  165911  ...         women/tops/shirts/90987967/90987967_7.jpeg\n",
              "47254  166276  ...         women/tops/shirts/91149328/91149328_0.jpeg\n",
              "47268  166321  ...         women/tops/shirts/91179265/91179265_7.jpeg\n",
              "47481  167046  ...  women/tops/short_sleeve_tops/70807805/70807805...\n",
              "52067  182493  ...         women/tops/shirts/90048030/90048030_1.jpeg\n",
              "52118  182669  ...         women/tops/shirts/90338267/90338267_0.jpeg\n",
              "52235  183091  ...         women/tops/shirts/90952904/90952904_2.jpeg\n",
              "52319  183427  ...         women/tops/shirts/91003506/91003506_1.jpeg\n",
              "52591  184514  ...         women/tops/shirts/91170990/91170990_0.jpeg\n",
              "\n",
              "[20 rows x 7 columns]"
            ]
          },
          "metadata": {
            "tags": []
          },
          "execution_count": 208
        }
      ]
    },
    {
      "cell_type": "code",
      "metadata": {
        "id": "cqxJ6frqwRA6"
      },
      "source": [
        "with open('/content/drive/MyDrive/Pickle files/final_dataframe','rb')as f:\n",
        "  image_df = pickle.load(f)"
      ],
      "execution_count": 211,
      "outputs": []
    },
    {
      "cell_type": "code",
      "metadata": {
        "colab": {
          "base_uri": "https://localhost:8080/",
          "height": 128
        },
        "id": "J5XjLs6ghx0-",
        "outputId": "ace16b46-0a28-4d1f-b3e3-25d52ca521e1"
      },
      "source": [
        "def query_es(user_query):\n",
        "    script_query = {\n",
        "        \"script_score\": {\n",
        "            \"query\": {\"match_all\": {}},\n",
        "            \"script\": {\n",
        "                \"source\": \"cosineSimilarity(params.query_vector, doc['image-vector'])\",\n",
        "                \"params\": {\"query_vector\": user_query}\n",
        "                        },\n",
        "                         \"aggs\":{\n",
        "                             \"dimension\":{\n",
        "                                 \"terms\": {\n",
        "                                     \"field\":\"product-number\"\n",
        "                                 },\n",
        "                                 \"aggs\":{\n",
        "                                     \"Max_score\":{\n",
        "                                         \"max\":{\n",
        "                                             \"field\":\"_score\"}\n",
        "                                     }\n",
        "                                 }\n",
        "                             }\n",
        "                         }\n",
        "                    }\n",
        "                }\n",
        "    cards = []\n",
        "\n",
        "    try:    \n",
        "      with Elasticsearch([{\"host\": host, \"port\":\"9200\"}]) as es: \n",
        "          res = es.search(index='image-level',body={\"from\":0,\"size\": 5,\"query\": script_query})\n",
        "          for dic in res['hits']['hits']:\n",
        "              prod_no = dic['_source']['product-number']\n",
        "              pic_id = dic['_id']-1\n",
        "              score = dic['_score']\n",
        "              picture = dic['_source']['image-path']  #url_process_imgdict(df[df[\"level_0\"]==pic_id].to_dict(\"records\")[0][\"path\"])\n",
        "              cards.append({\"prod_id\" : prod_no, \"pic_id\" : pic_id, \"score\":score, \"img\" : picture})\n",
        "    except Exception as e:\n",
        "        print(e)   \n",
        "    return cards"
      ],
      "execution_count": 217,
      "outputs": [
        {
          "output_type": "error",
          "ename": "IndentationError",
          "evalue": "ignored",
          "traceback": [
            "\u001b[0;36m  File \u001b[0;32m\"<ipython-input-217-d49c1367aed6>\"\u001b[0;36m, line \u001b[0;32m27\u001b[0m\n\u001b[0;31m    with Elasticsearch([{\"host\": host, \"port\":\"9200\"}]) as es:\u001b[0m\n\u001b[0m                                                               ^\u001b[0m\n\u001b[0;31mIndentationError\u001b[0m\u001b[0;31m:\u001b[0m unindent does not match any outer indentation level\n"
          ]
        }
      ]
    },
    {
      "cell_type": "code",
      "metadata": {
        "colab": {
          "base_uri": "https://localhost:8080/",
          "height": 128
        },
        "id": "41Q8lJemwlzk",
        "outputId": "2dbb6b1d-f2ff-4807-9007-db93984c5d2d"
      },
      "source": [
        ""
      ],
      "execution_count": 216,
      "outputs": [
        {
          "output_type": "error",
          "ename": "SyntaxError",
          "evalue": "ignored",
          "traceback": [
            "\u001b[0;36m  File \u001b[0;32m\"<ipython-input-216-bb7d32938361>\"\u001b[0;36m, line \u001b[0;32m10\u001b[0m\n\u001b[0;31m    except Exception as e:\u001b[0m\n\u001b[0m         ^\u001b[0m\n\u001b[0;31mSyntaxError\u001b[0m\u001b[0;31m:\u001b[0m invalid syntax\n"
          ]
        }
      ]
    }
  ]
}