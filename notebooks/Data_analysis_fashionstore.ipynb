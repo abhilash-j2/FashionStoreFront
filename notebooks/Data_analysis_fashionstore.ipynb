{
  "nbformat": 4,
  "nbformat_minor": 0,
  "metadata": {
    "colab": {
      "name": "Data_analysis_fashionstore.ipynb",
      "provenance": [],
      "collapsed_sections": [],
      "toc_visible": true
    },
    "kernelspec": {
      "name": "python3",
      "display_name": "Python 3"
    },
    "language_info": {
      "name": "python"
    }
  },
  "cells": [
    {
      "cell_type": "code",
      "metadata": {
        "colab": {
          "base_uri": "https://localhost:8080/"
        },
        "id": "HJSvhRfdzK4N",
        "outputId": "c43475ff-19c0-4d5a-f928-2dbcced0749c"
      },
      "source": [
        "from google.colab import drive\n",
        "drive.mount('/content/drive')"
      ],
      "execution_count": null,
      "outputs": [
        {
          "output_type": "stream",
          "text": [
            "Mounted at /content/drive\n"
          ],
          "name": "stdout"
        }
      ]
    },
    {
      "cell_type": "code",
      "metadata": {
        "id": "r2Y7CaqRzcRP"
      },
      "source": [
        "import tarfile\n",
        "import pandas as pd\n",
        "import numpy as np\n",
        "import re\n",
        "from tqdm import tqdm\n",
        "import glob\n",
        "import sys\n",
        "import pickle\n",
        "\n",
        "import matplotlib.pyplot as plt\n",
        "\n",
        "import itertools\n",
        "import seaborn as sns"
      ],
      "execution_count": null,
      "outputs": []
    },
    {
      "cell_type": "code",
      "metadata": {
        "id": "bF9NQyKQESKL"
      },
      "source": [
        "with tarfile.open('/content/drive/MyDrive/women.tar') as tar:\n",
        "  tar.extractall('/content/drive/MyDrive/women')"
      ],
      "execution_count": null,
      "outputs": []
    },
    {
      "cell_type": "code",
      "metadata": {
        "id": "6aB1YZbUErOQ"
      },
      "source": [
        "with tarfile.open('/content/drive/MyDrive/women.tar') as tar:\n",
        "  names = tar.getnames()"
      ],
      "execution_count": null,
      "outputs": []
    },
    {
      "cell_type": "code",
      "metadata": {
        "colab": {
          "base_uri": "https://localhost:8080/"
        },
        "id": "ZXSTjPM0QhTj",
        "outputId": "d56fdfec-f02b-40c3-c7b8-7871a86aa9e6"
      },
      "source": [
        "txt_paths = glob.glob('/content/drive/MyDrive/labels/*.txt')\n",
        "txt_paths"
      ],
      "execution_count": null,
      "outputs": [
        {
          "output_type": "execute_result",
          "data": {
            "text/plain": [
              "['/content/drive/MyDrive/labels/top_test_detect_all.txt',\n",
              " '/content/drive/MyDrive/labels/dress_test_detect_all.txt',\n",
              " '/content/drive/MyDrive/labels/skirt_test_detect_all.txt',\n",
              " '/content/drive/MyDrive/labels/jacket_test_detect_all.txt',\n",
              " '/content/drive/MyDrive/labels/pants_test_detect_all.txt',\n",
              " '/content/drive/MyDrive/labels/top_train_detect_all.txt',\n",
              " '/content/drive/MyDrive/labels/skirt_train_detect_all.txt',\n",
              " '/content/drive/MyDrive/labels/pants_train_detect_all.txt',\n",
              " '/content/drive/MyDrive/labels/dress_train_detect_all.txt',\n",
              " '/content/drive/MyDrive/labels/jacket_train_detect_all.txt']"
            ]
          },
          "metadata": {
            "tags": []
          },
          "execution_count": 15
        }
      ]
    },
    {
      "cell_type": "code",
      "metadata": {
        "id": "bYExJNzPf3sI"
      },
      "source": [
        "def sort_file_paths(files):\n",
        "  sort = sorted(txt_paths)\n",
        "  return sort"
      ],
      "execution_count": null,
      "outputs": []
    },
    {
      "cell_type": "code",
      "metadata": {
        "colab": {
          "base_uri": "https://localhost:8080/"
        },
        "id": "R6bD0u2KgBvj",
        "outputId": "13ca68a3-8f94-4f46-f78f-a378725135d9"
      },
      "source": [
        "txt_paths = sort_file_paths(txt_paths)\n",
        "txt_paths"
      ],
      "execution_count": null,
      "outputs": [
        {
          "output_type": "execute_result",
          "data": {
            "text/plain": [
              "['/content/drive/MyDrive/labels/dress_test_detect_all.txt',\n",
              " '/content/drive/MyDrive/labels/dress_train_detect_all.txt',\n",
              " '/content/drive/MyDrive/labels/jacket_test_detect_all.txt',\n",
              " '/content/drive/MyDrive/labels/jacket_train_detect_all.txt',\n",
              " '/content/drive/MyDrive/labels/pants_test_detect_all.txt',\n",
              " '/content/drive/MyDrive/labels/pants_train_detect_all.txt',\n",
              " '/content/drive/MyDrive/labels/skirt_test_detect_all.txt',\n",
              " '/content/drive/MyDrive/labels/skirt_train_detect_all.txt',\n",
              " '/content/drive/MyDrive/labels/top_test_detect_all.txt',\n",
              " '/content/drive/MyDrive/labels/top_train_detect_all.txt']"
            ]
          },
          "metadata": {
            "tags": []
          },
          "execution_count": 17
        }
      ]
    },
    {
      "cell_type": "code",
      "metadata": {
        "colab": {
          "base_uri": "https://localhost:8080/"
        },
        "id": "kYXJX0pA-HNQ",
        "outputId": "2f7588b8-3242-4370-d293-3de63383a6d0"
      },
      "source": [
        "with open(txt_paths[0],'r') as f:\n",
        "  lines = f.readlines()\n",
        "for x in lines:\n",
        "  print(x.split('\\t')[0])\n",
        "\n",
        "  break"
      ],
      "execution_count": null,
      "outputs": [
        {
          "output_type": "stream",
          "text": [
            "women/dresses/casual_and_day_dresses/56037632/56037632_0.jpeg\n"
          ],
          "name": "stdout"
        }
      ]
    },
    {
      "cell_type": "code",
      "metadata": {
        "id": "v1vfyEuBSs9s"
      },
      "source": [
        "def split_string(array):\n",
        "\n",
        "  cat = []\n",
        "  sub = []\n",
        "  prod_no = []\n",
        "  gender = []\n",
        "  prod_name = []\n",
        "  path = []\n",
        "\n",
        "  for j,file in enumerate(array):\n",
        "    \n",
        "    lines= []\n",
        "    \n",
        "    \n",
        "    with open(file,'r')as f:\n",
        "      lines = f.readlines()\n",
        "    \n",
        "    for i,x in enumerate(lines):\n",
        "      \n",
        "      #category = '^([a-z]+[^\\/])+'\n",
        "      #sub_category = '[\\/][a-z]+[^\\/]+'\n",
        "      #product = '([\\/][0-9]+)'\n",
        "\n",
        "      string = x.split(sep=('/'))\n",
        "      gender.append(string[0])\n",
        "      cat.append(string[1])\n",
        "      sub.append(string[2])\n",
        "      \n",
        "      #print(string[3])\n",
        "      prod_no.append(string[3])\n",
        "\n",
        "\n",
        "      t = string[4].split('\\t')[2]\n",
        "      #print(t)\n",
        "      prod_name.append(t[:-1])\n",
        "      path.append(x.split('\\t')[0])\n",
        "\n",
        "  return cat,sub,prod_no,gender,prod_name,path"
      ],
      "execution_count": null,
      "outputs": []
    },
    {
      "cell_type": "code",
      "metadata": {
        "id": "nRGRLkw9e7Y_"
      },
      "source": [
        "cat,sub,prod_no,gender,prod_name,path = split_string(txt_paths)"
      ],
      "execution_count": null,
      "outputs": []
    },
    {
      "cell_type": "code",
      "metadata": {
        "colab": {
          "base_uri": "https://localhost:8080/",
          "height": 402
        },
        "id": "V5nf66-hbvrD",
        "outputId": "6fbbb6fe-e846-4057-93e7-2978f63b4050"
      },
      "source": [
        "cat = pd.Series(cat)\n",
        "sub = pd.Series(sub)\n",
        "prod_no = pd.Series(prod_no)\n",
        "gender = pd.Series(gender)\n",
        "prod_name = pd.Series(prod_name)\n",
        "path = pd.Series(path)\n",
        "\n",
        "df = pd.concat([gender,cat,sub,prod_no,prod_name,path],axis=1)\n",
        "df.rename(columns={0:'gender',1:'category',2:'sub-category',3:'product-number',4:'product-name',5:'path'},inplace=True)\n",
        "df"
      ],
      "execution_count": null,
      "outputs": [
        {
          "output_type": "execute_result",
          "data": {
            "text/html": [
              "<div>\n",
              "<style scoped>\n",
              "    .dataframe tbody tr th:only-of-type {\n",
              "        vertical-align: middle;\n",
              "    }\n",
              "\n",
              "    .dataframe tbody tr th {\n",
              "        vertical-align: top;\n",
              "    }\n",
              "\n",
              "    .dataframe thead th {\n",
              "        text-align: right;\n",
              "    }\n",
              "</style>\n",
              "<table border=\"1\" class=\"dataframe\">\n",
              "  <thead>\n",
              "    <tr style=\"text-align: right;\">\n",
              "      <th></th>\n",
              "      <th>gender</th>\n",
              "      <th>category</th>\n",
              "      <th>sub-category</th>\n",
              "      <th>product-number</th>\n",
              "      <th>product-name</th>\n",
              "      <th>path</th>\n",
              "    </tr>\n",
              "  </thead>\n",
              "  <tbody>\n",
              "    <tr>\n",
              "      <th>0</th>\n",
              "      <td>women</td>\n",
              "      <td>dresses</td>\n",
              "      <td>casual_and_day_dresses</td>\n",
              "      <td>56037632</td>\n",
              "      <td>black knit midi dress</td>\n",
              "      <td>women/dresses/casual_and_day_dresses/56037632/...</td>\n",
              "    </tr>\n",
              "    <tr>\n",
              "      <th>1</th>\n",
              "      <td>women</td>\n",
              "      <td>dresses</td>\n",
              "      <td>casual_and_day_dresses</td>\n",
              "      <td>56037632</td>\n",
              "      <td>black knit midi dress</td>\n",
              "      <td>women/dresses/casual_and_day_dresses/56037632/...</td>\n",
              "    </tr>\n",
              "    <tr>\n",
              "      <th>2</th>\n",
              "      <td>women</td>\n",
              "      <td>dresses</td>\n",
              "      <td>casual_and_day_dresses</td>\n",
              "      <td>56037632</td>\n",
              "      <td>black knit midi dress</td>\n",
              "      <td>women/dresses/casual_and_day_dresses/56037632/...</td>\n",
              "    </tr>\n",
              "    <tr>\n",
              "      <th>3</th>\n",
              "      <td>women</td>\n",
              "      <td>dresses</td>\n",
              "      <td>casual_and_day_dresses</td>\n",
              "      <td>56037632</td>\n",
              "      <td>black knit midi dress</td>\n",
              "      <td>women/dresses/casual_and_day_dresses/56037632/...</td>\n",
              "    </tr>\n",
              "    <tr>\n",
              "      <th>4</th>\n",
              "      <td>women</td>\n",
              "      <td>dresses</td>\n",
              "      <td>casual_and_day_dresses</td>\n",
              "      <td>56037632</td>\n",
              "      <td>black knit midi dress</td>\n",
              "      <td>women/dresses/casual_and_day_dresses/56037632/...</td>\n",
              "    </tr>\n",
              "    <tr>\n",
              "      <th>...</th>\n",
              "      <td>...</td>\n",
              "      <td>...</td>\n",
              "      <td>...</td>\n",
              "      <td>...</td>\n",
              "      <td>...</td>\n",
              "      <td>...</td>\n",
              "    </tr>\n",
              "    <tr>\n",
              "      <th>201833</th>\n",
              "      <td>women</td>\n",
              "      <td>tops</td>\n",
              "      <td>t-shirts</td>\n",
              "      <td>91437753</td>\n",
              "      <td>white run shirt</td>\n",
              "      <td>women/tops/t-shirts/91437753/91437753_0.jpeg</td>\n",
              "    </tr>\n",
              "    <tr>\n",
              "      <th>201834</th>\n",
              "      <td>women</td>\n",
              "      <td>tops</td>\n",
              "      <td>t-shirts</td>\n",
              "      <td>91437753</td>\n",
              "      <td>white run shirt</td>\n",
              "      <td>women/tops/t-shirts/91437753/91437753_1.jpeg</td>\n",
              "    </tr>\n",
              "    <tr>\n",
              "      <th>201835</th>\n",
              "      <td>women</td>\n",
              "      <td>tops</td>\n",
              "      <td>t-shirts</td>\n",
              "      <td>91438020</td>\n",
              "      <td>multicolor clay tee chalk</td>\n",
              "      <td>women/tops/t-shirts/91438020/91438020_0.jpeg</td>\n",
              "    </tr>\n",
              "    <tr>\n",
              "      <th>201836</th>\n",
              "      <td>women</td>\n",
              "      <td>tops</td>\n",
              "      <td>t-shirts</td>\n",
              "      <td>91438020</td>\n",
              "      <td>multicolor clay tee chalk</td>\n",
              "      <td>women/tops/t-shirts/91438020/91438020_1.jpeg</td>\n",
              "    </tr>\n",
              "    <tr>\n",
              "      <th>201837</th>\n",
              "      <td>women</td>\n",
              "      <td>tops</td>\n",
              "      <td>t-shirts</td>\n",
              "      <td>91438020</td>\n",
              "      <td>multicolor clay tee chal</td>\n",
              "      <td>women/tops/t-shirts/91438020/91438020_2.jpeg</td>\n",
              "    </tr>\n",
              "  </tbody>\n",
              "</table>\n",
              "<p>201838 rows × 6 columns</p>\n",
              "</div>"
            ],
            "text/plain": [
              "       gender  ...                                               path\n",
              "0       women  ...  women/dresses/casual_and_day_dresses/56037632/...\n",
              "1       women  ...  women/dresses/casual_and_day_dresses/56037632/...\n",
              "2       women  ...  women/dresses/casual_and_day_dresses/56037632/...\n",
              "3       women  ...  women/dresses/casual_and_day_dresses/56037632/...\n",
              "4       women  ...  women/dresses/casual_and_day_dresses/56037632/...\n",
              "...       ...  ...                                                ...\n",
              "201833  women  ...       women/tops/t-shirts/91437753/91437753_0.jpeg\n",
              "201834  women  ...       women/tops/t-shirts/91437753/91437753_1.jpeg\n",
              "201835  women  ...       women/tops/t-shirts/91438020/91438020_0.jpeg\n",
              "201836  women  ...       women/tops/t-shirts/91438020/91438020_1.jpeg\n",
              "201837  women  ...       women/tops/t-shirts/91438020/91438020_2.jpeg\n",
              "\n",
              "[201838 rows x 6 columns]"
            ]
          },
          "metadata": {
            "tags": []
          },
          "execution_count": 37
        }
      ]
    },
    {
      "cell_type": "code",
      "metadata": {
        "id": "_VIt5jr5dMRd"
      },
      "source": [
        "# Load df into drive\n",
        "with open('/content/drive/MyDrive/Pickle files/data_frame','ab') as f:\n",
        "  pickle.dump(df,f)"
      ],
      "execution_count": null,
      "outputs": []
    },
    {
      "cell_type": "code",
      "metadata": {
        "id": "QjXjOfQouMSj"
      },
      "source": [
        "# Load df into RAM\n",
        "with open('/content/drive/MyDrive/Pickle files/data_frame','rb') as f:\n",
        "  df = pickle.load(f)"
      ],
      "execution_count": null,
      "outputs": []
    },
    {
      "cell_type": "markdown",
      "metadata": {
        "id": "wrADPCc-o89s"
      },
      "source": [
        "# Pulling Image paths for comparison "
      ]
    },
    {
      "cell_type": "code",
      "metadata": {
        "colab": {
          "base_uri": "https://localhost:8080/"
        },
        "id": "-whCDHqlkyOA",
        "outputId": "bfaa3f88-4d0e-4abd-a732-62a37000c86a"
      },
      "source": [
        "#level_1 = glob.glob('/content/drive/MyDrive/women/*')\n",
        "level_2 = []\n",
        "#for x in level_1:\n",
        "#  level_2.append(glob.glob(x+'/*'))\n",
        "#level2 = list(itertools.chain.from_iterable(level_2))\n",
        "\n",
        "#level_3 = []\n",
        "#for x in tqdm(level2):\n",
        "#  level_3.append(glob.glob(x+'/*'))\n",
        "#level3 = list(itertools.chain.from_iterable(level_3))\n",
        "\n",
        "level_4 = []\n",
        "for x in tqdm(level3):\n",
        "  level_4.append(glob.glob(x+'/*.jpeg'))\n",
        "images_paths = list(itertools.chain.from_iterable(level_4)) "
      ],
      "execution_count": null,
      "outputs": [
        {
          "output_type": "stream",
          "text": [
            "100%|██████████| 96788/96788 [1:08:49<00:00, 23.44it/s]  \n"
          ],
          "name": "stderr"
        }
      ]
    },
    {
      "cell_type": "code",
      "metadata": {
        "id": "kBVWeiOE4QUu"
      },
      "source": [
        "# saving image_paths in drive\n",
        "with open('/content/drive/MyDrive/Pickle files/image_paths','ab') as f:\n",
        "  pickle.dump(images_paths,f)"
      ],
      "execution_count": null,
      "outputs": []
    },
    {
      "cell_type": "code",
      "metadata": {
        "colab": {
          "base_uri": "https://localhost:8080/",
          "height": 35
        },
        "id": "V1lXiW-mC-sr",
        "outputId": "f89b8dc9-aea3-44e6-e6f3-b79710b688a5"
      },
      "source": [
        "tally_path = [x[23:] for x in images_paths]\n",
        "tally_path[0]"
      ],
      "execution_count": null,
      "outputs": [
        {
          "output_type": "execute_result",
          "data": {
            "application/vnd.google.colaboratory.intrinsic+json": {
              "type": "string"
            },
            "text/plain": [
              "'women/tops/long_sleeved_tops/89728708/89728708_1.jpeg'"
            ]
          },
          "metadata": {
            "tags": []
          },
          "execution_count": 65
        }
      ]
    },
    {
      "cell_type": "code",
      "metadata": {
        "colab": {
          "base_uri": "https://localhost:8080/",
          "height": 35
        },
        "id": "MLtVFa9zFNAt",
        "outputId": "44ac9f42-2e21-44bb-d9cf-6c47ffa84852"
      },
      "source": [
        "tally_path_product = [x[23:].split('/')[3] for x in images_paths]\n",
        "tally_path_product[0]"
      ],
      "execution_count": null,
      "outputs": [
        {
          "output_type": "execute_result",
          "data": {
            "application/vnd.google.colaboratory.intrinsic+json": {
              "type": "string"
            },
            "text/plain": [
              "'89728708'"
            ]
          },
          "metadata": {
            "tags": []
          },
          "execution_count": 58
        }
      ]
    },
    {
      "cell_type": "code",
      "metadata": {
        "colab": {
          "base_uri": "https://localhost:8080/",
          "height": 35
        },
        "id": "6Ne7x5WwGtNg",
        "outputId": "151881b1-73df-404c-da22-a45bf2bec78f"
      },
      "source": [
        "df['path'].nunique()\n",
        "df['path'][0]"
      ],
      "execution_count": null,
      "outputs": [
        {
          "output_type": "execute_result",
          "data": {
            "application/vnd.google.colaboratory.intrinsic+json": {
              "type": "string"
            },
            "text/plain": [
              "'women/dresses/casual_and_day_dresses/56037632/56037632_0.jpeg'"
            ]
          },
          "metadata": {
            "tags": []
          },
          "execution_count": 66
        }
      ]
    },
    {
      "cell_type": "markdown",
      "metadata": {
        "id": "mPU8midRlbeO"
      },
      "source": [
        "# Tallying images with labels to get the union "
      ]
    },
    {
      "cell_type": "code",
      "metadata": {
        "colab": {
          "base_uri": "https://localhost:8080/",
          "height": 402
        },
        "id": "gcTOu2sUEeTX",
        "outputId": "f9f66a1a-2ce0-485a-e150-e48061376ab5"
      },
      "source": [
        "df[df['path'].isin(tally_path)]"
      ],
      "execution_count": null,
      "outputs": [
        {
          "output_type": "execute_result",
          "data": {
            "text/html": [
              "<div>\n",
              "<style scoped>\n",
              "    .dataframe tbody tr th:only-of-type {\n",
              "        vertical-align: middle;\n",
              "    }\n",
              "\n",
              "    .dataframe tbody tr th {\n",
              "        vertical-align: top;\n",
              "    }\n",
              "\n",
              "    .dataframe thead th {\n",
              "        text-align: right;\n",
              "    }\n",
              "</style>\n",
              "<table border=\"1\" class=\"dataframe\">\n",
              "  <thead>\n",
              "    <tr style=\"text-align: right;\">\n",
              "      <th></th>\n",
              "      <th>gender</th>\n",
              "      <th>category</th>\n",
              "      <th>sub-category</th>\n",
              "      <th>product-number</th>\n",
              "      <th>product-name</th>\n",
              "      <th>path</th>\n",
              "    </tr>\n",
              "  </thead>\n",
              "  <tbody>\n",
              "    <tr>\n",
              "      <th>0</th>\n",
              "      <td>women</td>\n",
              "      <td>dresses</td>\n",
              "      <td>casual_and_day_dresses</td>\n",
              "      <td>56037632</td>\n",
              "      <td>black knit midi dress</td>\n",
              "      <td>women/dresses/casual_and_day_dresses/56037632/...</td>\n",
              "    </tr>\n",
              "    <tr>\n",
              "      <th>3</th>\n",
              "      <td>women</td>\n",
              "      <td>dresses</td>\n",
              "      <td>casual_and_day_dresses</td>\n",
              "      <td>56037632</td>\n",
              "      <td>black knit midi dress</td>\n",
              "      <td>women/dresses/casual_and_day_dresses/56037632/...</td>\n",
              "    </tr>\n",
              "    <tr>\n",
              "      <th>4</th>\n",
              "      <td>women</td>\n",
              "      <td>dresses</td>\n",
              "      <td>casual_and_day_dresses</td>\n",
              "      <td>56037632</td>\n",
              "      <td>black knit midi dress</td>\n",
              "      <td>women/dresses/casual_and_day_dresses/56037632/...</td>\n",
              "    </tr>\n",
              "    <tr>\n",
              "      <th>6</th>\n",
              "      <td>women</td>\n",
              "      <td>dresses</td>\n",
              "      <td>casual_and_day_dresses</td>\n",
              "      <td>56037632</td>\n",
              "      <td>black knit midi dress</td>\n",
              "      <td>women/dresses/casual_and_day_dresses/56037632/...</td>\n",
              "    </tr>\n",
              "    <tr>\n",
              "      <th>8</th>\n",
              "      <td>women</td>\n",
              "      <td>dresses</td>\n",
              "      <td>casual_and_day_dresses</td>\n",
              "      <td>62629380</td>\n",
              "      <td>multicolor henley t-shirt dress</td>\n",
              "      <td>women/dresses/casual_and_day_dresses/62629380/...</td>\n",
              "    </tr>\n",
              "    <tr>\n",
              "      <th>...</th>\n",
              "      <td>...</td>\n",
              "      <td>...</td>\n",
              "      <td>...</td>\n",
              "      <td>...</td>\n",
              "      <td>...</td>\n",
              "      <td>...</td>\n",
              "    </tr>\n",
              "    <tr>\n",
              "      <th>201831</th>\n",
              "      <td>women</td>\n",
              "      <td>tops</td>\n",
              "      <td>t-shirts</td>\n",
              "      <td>91437517</td>\n",
              "      <td>classic tee black</td>\n",
              "      <td>women/tops/t-shirts/91437517/91437517_2.jpeg</td>\n",
              "    </tr>\n",
              "    <tr>\n",
              "      <th>201832</th>\n",
              "      <td>women</td>\n",
              "      <td>tops</td>\n",
              "      <td>t-shirts</td>\n",
              "      <td>91437722</td>\n",
              "      <td>black red heart t-shirt</td>\n",
              "      <td>women/tops/t-shirts/91437722/91437722_0.jpeg</td>\n",
              "    </tr>\n",
              "    <tr>\n",
              "      <th>201833</th>\n",
              "      <td>women</td>\n",
              "      <td>tops</td>\n",
              "      <td>t-shirts</td>\n",
              "      <td>91437753</td>\n",
              "      <td>white run shirt</td>\n",
              "      <td>women/tops/t-shirts/91437753/91437753_0.jpeg</td>\n",
              "    </tr>\n",
              "    <tr>\n",
              "      <th>201834</th>\n",
              "      <td>women</td>\n",
              "      <td>tops</td>\n",
              "      <td>t-shirts</td>\n",
              "      <td>91437753</td>\n",
              "      <td>white run shirt</td>\n",
              "      <td>women/tops/t-shirts/91437753/91437753_1.jpeg</td>\n",
              "    </tr>\n",
              "    <tr>\n",
              "      <th>201835</th>\n",
              "      <td>women</td>\n",
              "      <td>tops</td>\n",
              "      <td>t-shirts</td>\n",
              "      <td>91438020</td>\n",
              "      <td>multicolor clay tee chalk</td>\n",
              "      <td>women/tops/t-shirts/91438020/91438020_0.jpeg</td>\n",
              "    </tr>\n",
              "  </tbody>\n",
              "</table>\n",
              "<p>91471 rows × 6 columns</p>\n",
              "</div>"
            ],
            "text/plain": [
              "       gender  ...                                               path\n",
              "0       women  ...  women/dresses/casual_and_day_dresses/56037632/...\n",
              "3       women  ...  women/dresses/casual_and_day_dresses/56037632/...\n",
              "4       women  ...  women/dresses/casual_and_day_dresses/56037632/...\n",
              "6       women  ...  women/dresses/casual_and_day_dresses/56037632/...\n",
              "8       women  ...  women/dresses/casual_and_day_dresses/62629380/...\n",
              "...       ...  ...                                                ...\n",
              "201831  women  ...       women/tops/t-shirts/91437517/91437517_2.jpeg\n",
              "201832  women  ...       women/tops/t-shirts/91437722/91437722_0.jpeg\n",
              "201833  women  ...       women/tops/t-shirts/91437753/91437753_0.jpeg\n",
              "201834  women  ...       women/tops/t-shirts/91437753/91437753_1.jpeg\n",
              "201835  women  ...       women/tops/t-shirts/91438020/91438020_0.jpeg\n",
              "\n",
              "[91471 rows x 6 columns]"
            ]
          },
          "metadata": {
            "tags": []
          },
          "execution_count": 52
        }
      ]
    },
    {
      "cell_type": "code",
      "metadata": {
        "colab": {
          "base_uri": "https://localhost:8080/",
          "height": 402
        },
        "id": "KuePaJ0RFEu_",
        "outputId": "c42016f4-75db-4031-f674-15cadfd40f50"
      },
      "source": [
        "interim = df[df['product-number'].isin(tally_path_product)]\n",
        "interim"
      ],
      "execution_count": null,
      "outputs": [
        {
          "output_type": "execute_result",
          "data": {
            "text/html": [
              "<div>\n",
              "<style scoped>\n",
              "    .dataframe tbody tr th:only-of-type {\n",
              "        vertical-align: middle;\n",
              "    }\n",
              "\n",
              "    .dataframe tbody tr th {\n",
              "        vertical-align: top;\n",
              "    }\n",
              "\n",
              "    .dataframe thead th {\n",
              "        text-align: right;\n",
              "    }\n",
              "</style>\n",
              "<table border=\"1\" class=\"dataframe\">\n",
              "  <thead>\n",
              "    <tr style=\"text-align: right;\">\n",
              "      <th></th>\n",
              "      <th>gender</th>\n",
              "      <th>category</th>\n",
              "      <th>sub-category</th>\n",
              "      <th>product-number</th>\n",
              "      <th>product-name</th>\n",
              "      <th>path</th>\n",
              "    </tr>\n",
              "  </thead>\n",
              "  <tbody>\n",
              "    <tr>\n",
              "      <th>0</th>\n",
              "      <td>women</td>\n",
              "      <td>dresses</td>\n",
              "      <td>casual_and_day_dresses</td>\n",
              "      <td>56037632</td>\n",
              "      <td>black knit midi dress</td>\n",
              "      <td>women/dresses/casual_and_day_dresses/56037632/...</td>\n",
              "    </tr>\n",
              "    <tr>\n",
              "      <th>1</th>\n",
              "      <td>women</td>\n",
              "      <td>dresses</td>\n",
              "      <td>casual_and_day_dresses</td>\n",
              "      <td>56037632</td>\n",
              "      <td>black knit midi dress</td>\n",
              "      <td>women/dresses/casual_and_day_dresses/56037632/...</td>\n",
              "    </tr>\n",
              "    <tr>\n",
              "      <th>2</th>\n",
              "      <td>women</td>\n",
              "      <td>dresses</td>\n",
              "      <td>casual_and_day_dresses</td>\n",
              "      <td>56037632</td>\n",
              "      <td>black knit midi dress</td>\n",
              "      <td>women/dresses/casual_and_day_dresses/56037632/...</td>\n",
              "    </tr>\n",
              "    <tr>\n",
              "      <th>3</th>\n",
              "      <td>women</td>\n",
              "      <td>dresses</td>\n",
              "      <td>casual_and_day_dresses</td>\n",
              "      <td>56037632</td>\n",
              "      <td>black knit midi dress</td>\n",
              "      <td>women/dresses/casual_and_day_dresses/56037632/...</td>\n",
              "    </tr>\n",
              "    <tr>\n",
              "      <th>4</th>\n",
              "      <td>women</td>\n",
              "      <td>dresses</td>\n",
              "      <td>casual_and_day_dresses</td>\n",
              "      <td>56037632</td>\n",
              "      <td>black knit midi dress</td>\n",
              "      <td>women/dresses/casual_and_day_dresses/56037632/...</td>\n",
              "    </tr>\n",
              "    <tr>\n",
              "      <th>...</th>\n",
              "      <td>...</td>\n",
              "      <td>...</td>\n",
              "      <td>...</td>\n",
              "      <td>...</td>\n",
              "      <td>...</td>\n",
              "      <td>...</td>\n",
              "    </tr>\n",
              "    <tr>\n",
              "      <th>201833</th>\n",
              "      <td>women</td>\n",
              "      <td>tops</td>\n",
              "      <td>t-shirts</td>\n",
              "      <td>91437753</td>\n",
              "      <td>white run shirt</td>\n",
              "      <td>women/tops/t-shirts/91437753/91437753_0.jpeg</td>\n",
              "    </tr>\n",
              "    <tr>\n",
              "      <th>201834</th>\n",
              "      <td>women</td>\n",
              "      <td>tops</td>\n",
              "      <td>t-shirts</td>\n",
              "      <td>91437753</td>\n",
              "      <td>white run shirt</td>\n",
              "      <td>women/tops/t-shirts/91437753/91437753_1.jpeg</td>\n",
              "    </tr>\n",
              "    <tr>\n",
              "      <th>201835</th>\n",
              "      <td>women</td>\n",
              "      <td>tops</td>\n",
              "      <td>t-shirts</td>\n",
              "      <td>91438020</td>\n",
              "      <td>multicolor clay tee chalk</td>\n",
              "      <td>women/tops/t-shirts/91438020/91438020_0.jpeg</td>\n",
              "    </tr>\n",
              "    <tr>\n",
              "      <th>201836</th>\n",
              "      <td>women</td>\n",
              "      <td>tops</td>\n",
              "      <td>t-shirts</td>\n",
              "      <td>91438020</td>\n",
              "      <td>multicolor clay tee chalk</td>\n",
              "      <td>women/tops/t-shirts/91438020/91438020_1.jpeg</td>\n",
              "    </tr>\n",
              "    <tr>\n",
              "      <th>201837</th>\n",
              "      <td>women</td>\n",
              "      <td>tops</td>\n",
              "      <td>t-shirts</td>\n",
              "      <td>91438020</td>\n",
              "      <td>multicolor clay tee chal</td>\n",
              "      <td>women/tops/t-shirts/91438020/91438020_2.jpeg</td>\n",
              "    </tr>\n",
              "  </tbody>\n",
              "</table>\n",
              "<p>188386 rows × 6 columns</p>\n",
              "</div>"
            ],
            "text/plain": [
              "       gender  ...                                               path\n",
              "0       women  ...  women/dresses/casual_and_day_dresses/56037632/...\n",
              "1       women  ...  women/dresses/casual_and_day_dresses/56037632/...\n",
              "2       women  ...  women/dresses/casual_and_day_dresses/56037632/...\n",
              "3       women  ...  women/dresses/casual_and_day_dresses/56037632/...\n",
              "4       women  ...  women/dresses/casual_and_day_dresses/56037632/...\n",
              "...       ...  ...                                                ...\n",
              "201833  women  ...       women/tops/t-shirts/91437753/91437753_0.jpeg\n",
              "201834  women  ...       women/tops/t-shirts/91437753/91437753_1.jpeg\n",
              "201835  women  ...       women/tops/t-shirts/91438020/91438020_0.jpeg\n",
              "201836  women  ...       women/tops/t-shirts/91438020/91438020_1.jpeg\n",
              "201837  women  ...       women/tops/t-shirts/91438020/91438020_2.jpeg\n",
              "\n",
              "[188386 rows x 6 columns]"
            ]
          },
          "metadata": {
            "tags": []
          },
          "execution_count": 67
        }
      ]
    },
    {
      "cell_type": "code",
      "metadata": {
        "colab": {
          "base_uri": "https://localhost:8080/",
          "height": 402
        },
        "id": "OMthaKJqF8Od",
        "outputId": "bbf7c5a8-3b5b-498a-c83c-3e4a5b8b7de6"
      },
      "source": [
        "interim[interim['path'].isin(tally_path)]"
      ],
      "execution_count": null,
      "outputs": [
        {
          "output_type": "execute_result",
          "data": {
            "text/html": [
              "<div>\n",
              "<style scoped>\n",
              "    .dataframe tbody tr th:only-of-type {\n",
              "        vertical-align: middle;\n",
              "    }\n",
              "\n",
              "    .dataframe tbody tr th {\n",
              "        vertical-align: top;\n",
              "    }\n",
              "\n",
              "    .dataframe thead th {\n",
              "        text-align: right;\n",
              "    }\n",
              "</style>\n",
              "<table border=\"1\" class=\"dataframe\">\n",
              "  <thead>\n",
              "    <tr style=\"text-align: right;\">\n",
              "      <th></th>\n",
              "      <th>gender</th>\n",
              "      <th>category</th>\n",
              "      <th>sub-category</th>\n",
              "      <th>product-number</th>\n",
              "      <th>product-name</th>\n",
              "      <th>path</th>\n",
              "    </tr>\n",
              "  </thead>\n",
              "  <tbody>\n",
              "    <tr>\n",
              "      <th>0</th>\n",
              "      <td>women</td>\n",
              "      <td>dresses</td>\n",
              "      <td>casual_and_day_dresses</td>\n",
              "      <td>56037632</td>\n",
              "      <td>black knit midi dress</td>\n",
              "      <td>women/dresses/casual_and_day_dresses/56037632/...</td>\n",
              "    </tr>\n",
              "    <tr>\n",
              "      <th>3</th>\n",
              "      <td>women</td>\n",
              "      <td>dresses</td>\n",
              "      <td>casual_and_day_dresses</td>\n",
              "      <td>56037632</td>\n",
              "      <td>black knit midi dress</td>\n",
              "      <td>women/dresses/casual_and_day_dresses/56037632/...</td>\n",
              "    </tr>\n",
              "    <tr>\n",
              "      <th>4</th>\n",
              "      <td>women</td>\n",
              "      <td>dresses</td>\n",
              "      <td>casual_and_day_dresses</td>\n",
              "      <td>56037632</td>\n",
              "      <td>black knit midi dress</td>\n",
              "      <td>women/dresses/casual_and_day_dresses/56037632/...</td>\n",
              "    </tr>\n",
              "    <tr>\n",
              "      <th>6</th>\n",
              "      <td>women</td>\n",
              "      <td>dresses</td>\n",
              "      <td>casual_and_day_dresses</td>\n",
              "      <td>56037632</td>\n",
              "      <td>black knit midi dress</td>\n",
              "      <td>women/dresses/casual_and_day_dresses/56037632/...</td>\n",
              "    </tr>\n",
              "    <tr>\n",
              "      <th>8</th>\n",
              "      <td>women</td>\n",
              "      <td>dresses</td>\n",
              "      <td>casual_and_day_dresses</td>\n",
              "      <td>62629380</td>\n",
              "      <td>multicolor henley t-shirt dress</td>\n",
              "      <td>women/dresses/casual_and_day_dresses/62629380/...</td>\n",
              "    </tr>\n",
              "    <tr>\n",
              "      <th>...</th>\n",
              "      <td>...</td>\n",
              "      <td>...</td>\n",
              "      <td>...</td>\n",
              "      <td>...</td>\n",
              "      <td>...</td>\n",
              "      <td>...</td>\n",
              "    </tr>\n",
              "    <tr>\n",
              "      <th>201831</th>\n",
              "      <td>women</td>\n",
              "      <td>tops</td>\n",
              "      <td>t-shirts</td>\n",
              "      <td>91437517</td>\n",
              "      <td>classic tee black</td>\n",
              "      <td>women/tops/t-shirts/91437517/91437517_2.jpeg</td>\n",
              "    </tr>\n",
              "    <tr>\n",
              "      <th>201832</th>\n",
              "      <td>women</td>\n",
              "      <td>tops</td>\n",
              "      <td>t-shirts</td>\n",
              "      <td>91437722</td>\n",
              "      <td>black red heart t-shirt</td>\n",
              "      <td>women/tops/t-shirts/91437722/91437722_0.jpeg</td>\n",
              "    </tr>\n",
              "    <tr>\n",
              "      <th>201833</th>\n",
              "      <td>women</td>\n",
              "      <td>tops</td>\n",
              "      <td>t-shirts</td>\n",
              "      <td>91437753</td>\n",
              "      <td>white run shirt</td>\n",
              "      <td>women/tops/t-shirts/91437753/91437753_0.jpeg</td>\n",
              "    </tr>\n",
              "    <tr>\n",
              "      <th>201834</th>\n",
              "      <td>women</td>\n",
              "      <td>tops</td>\n",
              "      <td>t-shirts</td>\n",
              "      <td>91437753</td>\n",
              "      <td>white run shirt</td>\n",
              "      <td>women/tops/t-shirts/91437753/91437753_1.jpeg</td>\n",
              "    </tr>\n",
              "    <tr>\n",
              "      <th>201835</th>\n",
              "      <td>women</td>\n",
              "      <td>tops</td>\n",
              "      <td>t-shirts</td>\n",
              "      <td>91438020</td>\n",
              "      <td>multicolor clay tee chalk</td>\n",
              "      <td>women/tops/t-shirts/91438020/91438020_0.jpeg</td>\n",
              "    </tr>\n",
              "  </tbody>\n",
              "</table>\n",
              "<p>91471 rows × 6 columns</p>\n",
              "</div>"
            ],
            "text/plain": [
              "       gender  ...                                               path\n",
              "0       women  ...  women/dresses/casual_and_day_dresses/56037632/...\n",
              "3       women  ...  women/dresses/casual_and_day_dresses/56037632/...\n",
              "4       women  ...  women/dresses/casual_and_day_dresses/56037632/...\n",
              "6       women  ...  women/dresses/casual_and_day_dresses/56037632/...\n",
              "8       women  ...  women/dresses/casual_and_day_dresses/62629380/...\n",
              "...       ...  ...                                                ...\n",
              "201831  women  ...       women/tops/t-shirts/91437517/91437517_2.jpeg\n",
              "201832  women  ...       women/tops/t-shirts/91437722/91437722_0.jpeg\n",
              "201833  women  ...       women/tops/t-shirts/91437753/91437753_0.jpeg\n",
              "201834  women  ...       women/tops/t-shirts/91437753/91437753_1.jpeg\n",
              "201835  women  ...       women/tops/t-shirts/91438020/91438020_0.jpeg\n",
              "\n",
              "[91471 rows x 6 columns]"
            ]
          },
          "metadata": {
            "tags": []
          },
          "execution_count": 61
        }
      ]
    },
    {
      "cell_type": "markdown",
      "metadata": {
        "id": "Nr8_60s_-n3n"
      },
      "source": [
        ""
      ]
    },
    {
      "cell_type": "markdown",
      "metadata": {
        "id": "AhtRAdsTAXa2"
      },
      "source": [
        "# Product level frame"
      ]
    },
    {
      "cell_type": "code",
      "metadata": {
        "id": "pHkWaykP-mrc"
      },
      "source": [
        "product_level_df = df[~df['product-number'].duplicated()]"
      ],
      "execution_count": null,
      "outputs": []
    },
    {
      "cell_type": "code",
      "metadata": {
        "colab": {
          "base_uri": "https://localhost:8080/",
          "height": 435
        },
        "id": "iZajp8LSB4tg",
        "outputId": "72468a28-a2fd-460c-f314-aae496b486c3"
      },
      "source": [
        "product_level_df"
      ],
      "execution_count": null,
      "outputs": [
        {
          "output_type": "execute_result",
          "data": {
            "text/html": [
              "<div>\n",
              "<style scoped>\n",
              "    .dataframe tbody tr th:only-of-type {\n",
              "        vertical-align: middle;\n",
              "    }\n",
              "\n",
              "    .dataframe tbody tr th {\n",
              "        vertical-align: top;\n",
              "    }\n",
              "\n",
              "    .dataframe thead th {\n",
              "        text-align: right;\n",
              "    }\n",
              "</style>\n",
              "<table border=\"1\" class=\"dataframe\">\n",
              "  <thead>\n",
              "    <tr style=\"text-align: right;\">\n",
              "      <th></th>\n",
              "      <th>gender</th>\n",
              "      <th>category</th>\n",
              "      <th>sub-category</th>\n",
              "      <th>product-number</th>\n",
              "      <th>product-name</th>\n",
              "      <th>path</th>\n",
              "    </tr>\n",
              "  </thead>\n",
              "  <tbody>\n",
              "    <tr>\n",
              "      <th>0</th>\n",
              "      <td>women</td>\n",
              "      <td>dresses</td>\n",
              "      <td>casual_and_day_dresses</td>\n",
              "      <td>56037632</td>\n",
              "      <td>black knit midi dress</td>\n",
              "      <td>women/dresses/casual_and_day_dresses/56037632/...</td>\n",
              "    </tr>\n",
              "    <tr>\n",
              "      <th>8</th>\n",
              "      <td>women</td>\n",
              "      <td>dresses</td>\n",
              "      <td>casual_and_day_dresses</td>\n",
              "      <td>62629380</td>\n",
              "      <td>multicolor henley t-shirt dress</td>\n",
              "      <td>women/dresses/casual_and_day_dresses/62629380/...</td>\n",
              "    </tr>\n",
              "    <tr>\n",
              "      <th>11</th>\n",
              "      <td>women</td>\n",
              "      <td>dresses</td>\n",
              "      <td>casual_and_day_dresses</td>\n",
              "      <td>67938089</td>\n",
              "      <td>black stitch dress</td>\n",
              "      <td>women/dresses/casual_and_day_dresses/67938089/...</td>\n",
              "    </tr>\n",
              "    <tr>\n",
              "      <th>20</th>\n",
              "      <td>women</td>\n",
              "      <td>dresses</td>\n",
              "      <td>casual_and_day_dresses</td>\n",
              "      <td>67981504</td>\n",
              "      <td>blue signature slim short-sleeve shirtdress</td>\n",
              "      <td>women/dresses/casual_and_day_dresses/67981504/...</td>\n",
              "    </tr>\n",
              "    <tr>\n",
              "      <th>32</th>\n",
              "      <td>women</td>\n",
              "      <td>dresses</td>\n",
              "      <td>casual_and_day_dresses</td>\n",
              "      <td>70969922</td>\n",
              "      <td>multicolor draped floral-print dress</td>\n",
              "      <td>women/dresses/casual_and_day_dresses/70969922/...</td>\n",
              "    </tr>\n",
              "    <tr>\n",
              "      <th>...</th>\n",
              "      <td>...</td>\n",
              "      <td>...</td>\n",
              "      <td>...</td>\n",
              "      <td>...</td>\n",
              "      <td>...</td>\n",
              "      <td>...</td>\n",
              "    </tr>\n",
              "    <tr>\n",
              "      <th>201826</th>\n",
              "      <td>women</td>\n",
              "      <td>tops</td>\n",
              "      <td>t-shirts</td>\n",
              "      <td>91437497</td>\n",
              "      <td>black fight party t-shirt</td>\n",
              "      <td>women/tops/t-shirts/91437497/91437497_1.jpeg</td>\n",
              "    </tr>\n",
              "    <tr>\n",
              "      <th>201830</th>\n",
              "      <td>women</td>\n",
              "      <td>tops</td>\n",
              "      <td>t-shirts</td>\n",
              "      <td>91437517</td>\n",
              "      <td>classic tee black</td>\n",
              "      <td>women/tops/t-shirts/91437517/91437517_1.jpeg</td>\n",
              "    </tr>\n",
              "    <tr>\n",
              "      <th>201832</th>\n",
              "      <td>women</td>\n",
              "      <td>tops</td>\n",
              "      <td>t-shirts</td>\n",
              "      <td>91437722</td>\n",
              "      <td>black red heart t-shirt</td>\n",
              "      <td>women/tops/t-shirts/91437722/91437722_0.jpeg</td>\n",
              "    </tr>\n",
              "    <tr>\n",
              "      <th>201833</th>\n",
              "      <td>women</td>\n",
              "      <td>tops</td>\n",
              "      <td>t-shirts</td>\n",
              "      <td>91437753</td>\n",
              "      <td>white run shirt</td>\n",
              "      <td>women/tops/t-shirts/91437753/91437753_0.jpeg</td>\n",
              "    </tr>\n",
              "    <tr>\n",
              "      <th>201835</th>\n",
              "      <td>women</td>\n",
              "      <td>tops</td>\n",
              "      <td>t-shirts</td>\n",
              "      <td>91438020</td>\n",
              "      <td>multicolor clay tee chalk</td>\n",
              "      <td>women/tops/t-shirts/91438020/91438020_0.jpeg</td>\n",
              "    </tr>\n",
              "  </tbody>\n",
              "</table>\n",
              "<p>57262 rows × 6 columns</p>\n",
              "</div>"
            ],
            "text/plain": [
              "       gender  ...                                               path\n",
              "0       women  ...  women/dresses/casual_and_day_dresses/56037632/...\n",
              "8       women  ...  women/dresses/casual_and_day_dresses/62629380/...\n",
              "11      women  ...  women/dresses/casual_and_day_dresses/67938089/...\n",
              "20      women  ...  women/dresses/casual_and_day_dresses/67981504/...\n",
              "32      women  ...  women/dresses/casual_and_day_dresses/70969922/...\n",
              "...       ...  ...                                                ...\n",
              "201826  women  ...       women/tops/t-shirts/91437497/91437497_1.jpeg\n",
              "201830  women  ...       women/tops/t-shirts/91437517/91437517_1.jpeg\n",
              "201832  women  ...       women/tops/t-shirts/91437722/91437722_0.jpeg\n",
              "201833  women  ...       women/tops/t-shirts/91437753/91437753_0.jpeg\n",
              "201835  women  ...       women/tops/t-shirts/91438020/91438020_0.jpeg\n",
              "\n",
              "[57262 rows x 6 columns]"
            ]
          },
          "metadata": {
            "tags": []
          },
          "execution_count": 25
        }
      ]
    },
    {
      "cell_type": "code",
      "metadata": {
        "id": "SRKj522uAir6"
      },
      "source": [
        "with open('/content/drive/MyDrive/Pickle files/Product_level_df','ab') as f:\n",
        "  pickle.dump(product_level_df,f)"
      ],
      "execution_count": null,
      "outputs": []
    },
    {
      "cell_type": "markdown",
      "metadata": {
        "id": "Spq933uqlvI7"
      },
      "source": [
        "# Images not available for the above"
      ]
    },
    {
      "cell_type": "code",
      "metadata": {
        "colab": {
          "base_uri": "https://localhost:8080/",
          "height": 435
        },
        "id": "ROWZbuY5Has-",
        "outputId": "276589f1-1f08-44ee-f555-48f71ac3d36c"
      },
      "source": [
        "df[~df['product-number'].isin(tally_path_product)]"
      ],
      "execution_count": null,
      "outputs": [
        {
          "output_type": "execute_result",
          "data": {
            "text/html": [
              "<div>\n",
              "<style scoped>\n",
              "    .dataframe tbody tr th:only-of-type {\n",
              "        vertical-align: middle;\n",
              "    }\n",
              "\n",
              "    .dataframe tbody tr th {\n",
              "        vertical-align: top;\n",
              "    }\n",
              "\n",
              "    .dataframe thead th {\n",
              "        text-align: right;\n",
              "    }\n",
              "</style>\n",
              "<table border=\"1\" class=\"dataframe\">\n",
              "  <thead>\n",
              "    <tr style=\"text-align: right;\">\n",
              "      <th></th>\n",
              "      <th>gender</th>\n",
              "      <th>category</th>\n",
              "      <th>sub-category</th>\n",
              "      <th>product-number</th>\n",
              "      <th>product-name</th>\n",
              "      <th>path</th>\n",
              "    </tr>\n",
              "  </thead>\n",
              "  <tbody>\n",
              "    <tr>\n",
              "      <th>121</th>\n",
              "      <td>women</td>\n",
              "      <td>dresses</td>\n",
              "      <td>casual_and_day_dresses</td>\n",
              "      <td>88213754</td>\n",
              "      <td>multicolor off shoulder dress navy</td>\n",
              "      <td>women/dresses/casual_and_day_dresses/88213754/...</td>\n",
              "    </tr>\n",
              "    <tr>\n",
              "      <th>206</th>\n",
              "      <td>women</td>\n",
              "      <td>dresses</td>\n",
              "      <td>casual_and_day_dresses</td>\n",
              "      <td>89134710</td>\n",
              "      <td>green candy off shoulder dress</td>\n",
              "      <td>women/dresses/casual_and_day_dresses/89134710/...</td>\n",
              "    </tr>\n",
              "    <tr>\n",
              "      <th>241</th>\n",
              "      <td>women</td>\n",
              "      <td>dresses</td>\n",
              "      <td>casual_and_day_dresses</td>\n",
              "      <td>89494677</td>\n",
              "      <td>beige jersey v-back dress</td>\n",
              "      <td>women/dresses/casual_and_day_dresses/89494677/...</td>\n",
              "    </tr>\n",
              "    <tr>\n",
              "      <th>272</th>\n",
              "      <td>women</td>\n",
              "      <td>dresses</td>\n",
              "      <td>casual_and_day_dresses</td>\n",
              "      <td>89809382</td>\n",
              "      <td>red fringe hem stripe tank dress</td>\n",
              "      <td>women/dresses/casual_and_day_dresses/89809382/...</td>\n",
              "    </tr>\n",
              "    <tr>\n",
              "      <th>314</th>\n",
              "      <td>women</td>\n",
              "      <td>dresses</td>\n",
              "      <td>casual_and_day_dresses</td>\n",
              "      <td>90428807</td>\n",
              "      <td>blue cutout shoulder sheath dress</td>\n",
              "      <td>women/dresses/casual_and_day_dresses/90428807/...</td>\n",
              "    </tr>\n",
              "    <tr>\n",
              "      <th>...</th>\n",
              "      <td>...</td>\n",
              "      <td>...</td>\n",
              "      <td>...</td>\n",
              "      <td>...</td>\n",
              "      <td>...</td>\n",
              "      <td>...</td>\n",
              "    </tr>\n",
              "    <tr>\n",
              "      <th>201666</th>\n",
              "      <td>women</td>\n",
              "      <td>tops</td>\n",
              "      <td>t-shirts</td>\n",
              "      <td>91426861</td>\n",
              "      <td>white vintage v-neck tee</td>\n",
              "      <td>women/tops/t-shirts/91426861/91426861_0.jpeg</td>\n",
              "    </tr>\n",
              "    <tr>\n",
              "      <th>201681</th>\n",
              "      <td>women</td>\n",
              "      <td>tops</td>\n",
              "      <td>t-shirts</td>\n",
              "      <td>91427611</td>\n",
              "      <td>white printed cotton t-shirt</td>\n",
              "      <td>women/tops/t-shirts/91427611/91427611_0.jpeg</td>\n",
              "    </tr>\n",
              "    <tr>\n",
              "      <th>201689</th>\n",
              "      <td>women</td>\n",
              "      <td>tops</td>\n",
              "      <td>t-shirts</td>\n",
              "      <td>91427887</td>\n",
              "      <td>gray le fit silk t-shirt</td>\n",
              "      <td>women/tops/t-shirts/91427887/91427887_0.jpeg</td>\n",
              "    </tr>\n",
              "    <tr>\n",
              "      <th>201720</th>\n",
              "      <td>women</td>\n",
              "      <td>tops</td>\n",
              "      <td>t-shirts</td>\n",
              "      <td>91429852</td>\n",
              "      <td>black fringed-hem jersey t-shirt</td>\n",
              "      <td>women/tops/t-shirts/91429852/91429852_0.jpeg</td>\n",
              "    </tr>\n",
              "    <tr>\n",
              "      <th>201741</th>\n",
              "      <td>women</td>\n",
              "      <td>tops</td>\n",
              "      <td>t-shirts</td>\n",
              "      <td>91432536</td>\n",
              "      <td>black women's jude wool extra-long t-shirt</td>\n",
              "      <td>women/tops/t-shirts/91432536/91432536_0.jpeg</td>\n",
              "    </tr>\n",
              "  </tbody>\n",
              "</table>\n",
              "<p>13452 rows × 6 columns</p>\n",
              "</div>"
            ],
            "text/plain": [
              "       gender  ...                                               path\n",
              "121     women  ...  women/dresses/casual_and_day_dresses/88213754/...\n",
              "206     women  ...  women/dresses/casual_and_day_dresses/89134710/...\n",
              "241     women  ...  women/dresses/casual_and_day_dresses/89494677/...\n",
              "272     women  ...  women/dresses/casual_and_day_dresses/89809382/...\n",
              "314     women  ...  women/dresses/casual_and_day_dresses/90428807/...\n",
              "...       ...  ...                                                ...\n",
              "201666  women  ...       women/tops/t-shirts/91426861/91426861_0.jpeg\n",
              "201681  women  ...       women/tops/t-shirts/91427611/91427611_0.jpeg\n",
              "201689  women  ...       women/tops/t-shirts/91427887/91427887_0.jpeg\n",
              "201720  women  ...       women/tops/t-shirts/91429852/91429852_0.jpeg\n",
              "201741  women  ...       women/tops/t-shirts/91432536/91432536_0.jpeg\n",
              "\n",
              "[13452 rows x 6 columns]"
            ]
          },
          "metadata": {
            "tags": []
          },
          "execution_count": 70
        }
      ]
    },
    {
      "cell_type": "code",
      "metadata": {
        "id": "mjxnY7kAerA5"
      },
      "source": [
        "df_final = df[df['path'].isin(tally_path)]"
      ],
      "execution_count": null,
      "outputs": []
    },
    {
      "cell_type": "code",
      "metadata": {
        "id": "3GMSww6Uezvc"
      },
      "source": [
        "with open('/content/drive/MyDrive/Pickle files/final_data_frame','ab') as f:\n",
        "  pickle.dump(df_final,f)"
      ],
      "execution_count": null,
      "outputs": []
    },
    {
      "cell_type": "code",
      "metadata": {
        "colab": {
          "base_uri": "https://localhost:8080/",
          "height": 295
        },
        "id": "X0C1awTWfld9",
        "outputId": "4089052d-a18b-49b3-d045-5dc22aec7e59"
      },
      "source": [
        "# data_gender = df.groupby('gender').count()['category'].rename('count')\n",
        "# plt.bar(data_gender.index,data_gender['women'],width=0.1)\n",
        "\n",
        "# fig, ax = plt.subplots(1,2, figsize = (12,10))\n",
        "# bar = ax[0].bar(data_gender.index,data_gender['women'])\n",
        "# for x in bar:\n",
        "#   ax[0].text((x.get_x()-0.06+x.get_width()/2),x.get_height()+100,s=x.get_height())\n",
        "#plt.xlabel('gender')\n",
        "#plt.ylabel('count')\n",
        "#plt.title('Group by Gender',ha='center')\n",
        "#plt.show()\n",
        "\n",
        "data_gender1 = df_final.groupby('gender').count()['category'].rename('count')\n",
        "#plt.bar(data_gender.index,data_gender['women'],width=0.1)\n",
        "\n",
        "fig, ax = plt.subplots(1,1)\n",
        "bar = ax.bar(data_gender1.index,data_gender1['women'])\n",
        "for x in bar:\n",
        "  ax.text((x.get_x()-0.06+x.get_width()/2),x.get_height()+100,s=x.get_height())\n",
        "plt.xlabel('gender')\n",
        "plt.ylabel('count')\n",
        "plt.title('Group by Gender')\n",
        "plt.show()"
      ],
      "execution_count": null,
      "outputs": [
        {
          "output_type": "display_data",
          "data": {
            "image/png": "[encoded data removed]",
            "text/plain": [
              "<Figure size 432x288 with 1 Axes>"
            ]
          },
          "metadata": {
            "tags": [],
            "needs_background": "light"
          }
        }
      ]
    },
    {
      "cell_type": "code",
      "metadata": {
        "colab": {
          "base_uri": "https://localhost:8080/",
          "height": 295
        },
        "id": "KbIDb-0Yg3Pz",
        "outputId": "c4bde6cf-1898-4697-9576-5624c81cd15b"
      },
      "source": [
        "# data_category = df.groupby('category').count()['gender'].rename('count')\n",
        "\n",
        "# fig, ax = plt.subplots(1,1)\n",
        "# bar = ax.bar(data_category.index,data_category.values)\n",
        "# for x in bar:\n",
        "#   ax.text((x.get_x()-0.2+x.get_width()/2),x.get_height()+100,s=x.get_height())\n",
        "\n",
        "# plt.xlabel('category')\n",
        "# plt.ylabel('count')\n",
        "# plt.title('Group by Category')\n",
        "# plt.show()\n",
        "\n",
        "data_category1 = df_final.groupby('category').count()['gender'].rename('count')\n",
        "\n",
        "fig, ax = plt.subplots(1,1)\n",
        "bar = ax.bar(data_category1.index,data_category1.values)\n",
        "for x in bar:\n",
        "  ax.text((x.get_x()-0.2+x.get_width()/2),x.get_height()+100,s=x.get_height())\n",
        "\n",
        "plt.xlabel('category')\n",
        "plt.ylabel('count')\n",
        "plt.title('Group by Category')\n",
        "plt.show()"
      ],
      "execution_count": null,
      "outputs": [
        {
          "output_type": "display_data",
          "data": {
            "image/png": "[encoded data removed]",
            "text/plain": [
              "<Figure size 432x288 with 1 Axes>"
            ]
          },
          "metadata": {
            "tags": [],
            "needs_background": "light"
          }
        }
      ]
    },
    {
      "cell_type": "code",
      "metadata": {
        "colab": {
          "base_uri": "https://localhost:8080/",
          "height": 611
        },
        "id": "9k4MhpXWg8WC",
        "outputId": "570ab0e3-c84a-4fd2-f405-81c277825fe6"
      },
      "source": [
        "# data_sub = df.groupby(['category','sub-category']).count()['gender'].rename('count').reset_index()\n",
        "# #cmap = ['']\n",
        "# #color = dict([(x,cmap(i)) for i,x in enumerate(data_sub['category'].unique())])\n",
        "\n",
        "# fig, ax = plt.subplots(1,1,figsize=[16,8])\n",
        "# g = sns.barplot(data=data_sub,x='sub-category',y='count',hue='category',dodge=False)\n",
        "# plt.xlabel('sub-category')\n",
        "# plt.xticks(rotation=45,ha='right')\n",
        "# plt.ylabel('count')\n",
        "# plt.title('Group by Sub-category')\n",
        "# #bar = ax.bar(data_sub['sub-category'],data_sub['count'],color = data_sub['category'].apply(lambda x: color[x]))\n",
        "# for p in g.patches:\n",
        "#         g.annotate('{:.0f}'.format(p.get_height()), (p.get_x()+0.3, p.get_height()),\n",
        "#                     ha='center', va='bottom',rotation=45,fontsize=10)\n",
        "# plt.margins(x=0.01,y=0.15)\n",
        "# plt.show()\n",
        "\n",
        "# data_sub = df.groupby(['category','sub-category']).count()['gender'].rename('count').reset_index()\n",
        "# #cmap = ['']\n",
        "# #color = dict([(x,cmap(i)) for i,x in enumerate(data_sub['category'].unique())])\n",
        "\n",
        "data_sub1 = df_final.groupby(['category','sub-category']).count()['gender'].rename('count').reset_index()\n",
        "fig, ax = plt.subplots(1,1,figsize=[16,8])\n",
        "g = sns.barplot(data=data_sub1,x='sub-category',y='count',hue='category',dodge=False)\n",
        "plt.xlabel('sub-category')\n",
        "plt.xticks(rotation=45,ha='right')\n",
        "plt.ylabel('count')\n",
        "plt.title('Group by Sub-category')\n",
        "#bar = ax.bar(data_sub['sub-category'],data_sub['count'],color = data_sub['category'].apply(lambda x: color[x]))\n",
        "for p in g.patches:\n",
        "        g.annotate('{:.0f}'.format(p.get_height()), (p.get_x()+0.3, p.get_height()),\n",
        "                    ha='center', va='bottom',rotation=45,fontsize=10)\n",
        "plt.margins(x=0.01,y=0.15)\n",
        "plt.show()\n"
      ],
      "execution_count": null,
      "outputs": [
        {
          "output_type": "display_data",
          "data": {
            "image/png": "[encoded data removed]",
            "text/plain": [
              "<Figure size 1152x576 with 1 Axes>"
            ]
          },
          "metadata": {
            "tags": [],
            "needs_background": "light"
          }
        }
      ]
    },
    {
      "cell_type": "code",
      "metadata": {
        "colab": {
          "base_uri": "https://localhost:8080/",
          "height": 248
        },
        "id": "yI0F2pZghQ_r",
        "outputId": "81f5383c-8b00-49a8-e72a-39c05c2f655a"
      },
      "source": [
        "plt.text(0.5,0.5,s=(\"Unique product numbers:\"+str(df_final['product-number'].nunique())),fontdict={'fontsize':30})\n",
        "plt.gca().spines['top'].set_visible(False)\n",
        "plt.gca().spines['right'].set_visible(False)\n",
        "plt.gca().spines['bottom'].set_visible(False)\n",
        "plt.gca().spines['left'].set_visible(False)\n",
        "plt.tick_params(left = False, right = False , labelleft = False ,\n",
        "                labelbottom = False, bottom = False)"
      ],
      "execution_count": null,
      "outputs": [
        {
          "output_type": "display_data",
          "data": {
            "image/png": "[encoded data removed]",
            "text/plain": [
              "<Figure size 432x288 with 1 Axes>"
            ]
          },
          "metadata": {
            "tags": []
          }
        }
      ]
    },
    {
      "cell_type": "code",
      "metadata": {
        "colab": {
          "base_uri": "https://localhost:8080/",
          "height": 248
        },
        "id": "odtFnUdukOcR",
        "outputId": "8a118559-919e-4d76-8671-724de5137485"
      },
      "source": [
        "plt.text(0.5,0.5,s=(\"Total products across categories:\"+str(df_final.groupby(['category','sub-category','product-number']).count().shape[0]))\\\n",
        "         ,fontdict={'fontsize':30})\n",
        "plt.gca().spines['top'].set_visible(False)\n",
        "plt.gca().spines['right'].set_visible(False)\n",
        "plt.gca().spines['bottom'].set_visible(False)\n",
        "plt.gca().spines['left'].set_visible(False)\n",
        "plt.tick_params(left = False, right = False , labelleft = False ,\n",
        "                labelbottom = False, bottom = False)"
      ],
      "execution_count": null,
      "outputs": [
        {
          "output_type": "display_data",
          "data": {
            "image/png": "[encoded data removed]",
            "text/plain": [
              "<Figure size 432x288 with 1 Axes>"
            ]
          },
          "metadata": {
            "tags": []
          }
        }
      ]
    },
    {
      "cell_type": "code",
      "metadata": {
        "colab": {
          "base_uri": "https://localhost:8080/",
          "height": 431
        },
        "id": "PWdt2afjhcqj",
        "outputId": "6a7c482f-4b12-465a-c278-22232f772b9a"
      },
      "source": [
        "df_final.groupby('product-name').count()"
      ],
      "execution_count": null,
      "outputs": [
        {
          "output_type": "execute_result",
          "data": {
            "text/html": [
              "<div>\n",
              "<style scoped>\n",
              "    .dataframe tbody tr th:only-of-type {\n",
              "        vertical-align: middle;\n",
              "    }\n",
              "\n",
              "    .dataframe tbody tr th {\n",
              "        vertical-align: top;\n",
              "    }\n",
              "\n",
              "    .dataframe thead th {\n",
              "        text-align: right;\n",
              "    }\n",
              "</style>\n",
              "<table border=\"1\" class=\"dataframe\">\n",
              "  <thead>\n",
              "    <tr style=\"text-align: right;\">\n",
              "      <th></th>\n",
              "      <th>gender</th>\n",
              "      <th>category</th>\n",
              "      <th>sub-category</th>\n",
              "      <th>product-number</th>\n",
              "      <th>path</th>\n",
              "    </tr>\n",
              "    <tr>\n",
              "      <th>product-name</th>\n",
              "      <th></th>\n",
              "      <th></th>\n",
              "      <th></th>\n",
              "      <th></th>\n",
              "      <th></th>\n",
              "    </tr>\n",
              "  </thead>\n",
              "  <tbody>\n",
              "    <tr>\n",
              "      <th></th>\n",
              "      <td>5</td>\n",
              "      <td>5</td>\n",
              "      <td>5</td>\n",
              "      <td>5</td>\n",
              "      <td>5</td>\n",
              "    </tr>\n",
              "    <tr>\n",
              "      <th>2 packable down jacket blue</th>\n",
              "      <td>1</td>\n",
              "      <td>1</td>\n",
              "      <td>1</td>\n",
              "      <td>1</td>\n",
              "      <td>1</td>\n",
              "    </tr>\n",
              "    <tr>\n",
              "      <th>3d double layered a-line skirt</th>\n",
              "      <td>3</td>\n",
              "      <td>3</td>\n",
              "      <td>3</td>\n",
              "      <td>3</td>\n",
              "      <td>3</td>\n",
              "    </tr>\n",
              "    <tr>\n",
              "      <th>7 all mankind ethereal blue contour mid-rise skinny leg</th>\n",
              "      <td>1</td>\n",
              "      <td>1</td>\n",
              "      <td>1</td>\n",
              "      <td>1</td>\n",
              "      <td>1</td>\n",
              "    </tr>\n",
              "    <tr>\n",
              "      <th>a line skirt</th>\n",
              "      <td>3</td>\n",
              "      <td>3</td>\n",
              "      <td>3</td>\n",
              "      <td>3</td>\n",
              "      <td>3</td>\n",
              "    </tr>\n",
              "    <tr>\n",
              "      <th>...</th>\n",
              "      <td>...</td>\n",
              "      <td>...</td>\n",
              "      <td>...</td>\n",
              "      <td>...</td>\n",
              "      <td>...</td>\n",
              "    </tr>\n",
              "    <tr>\n",
              "      <th>your leggings black damask</th>\n",
              "      <td>1</td>\n",
              "      <td>1</td>\n",
              "      <td>1</td>\n",
              "      <td>1</td>\n",
              "      <td>1</td>\n",
              "    </tr>\n",
              "    <tr>\n",
              "      <th>your leggings black plaid</th>\n",
              "      <td>1</td>\n",
              "      <td>1</td>\n",
              "      <td>1</td>\n",
              "      <td>1</td>\n",
              "      <td>1</td>\n",
              "    </tr>\n",
              "    <tr>\n",
              "      <th>zipped virgin wool skirt silk black</th>\n",
              "      <td>2</td>\n",
              "      <td>2</td>\n",
              "      <td>2</td>\n",
              "      <td>2</td>\n",
              "      <td>2</td>\n",
              "    </tr>\n",
              "    <tr>\n",
              "      <th>zipper blue wild flare leg</th>\n",
              "      <td>1</td>\n",
              "      <td>1</td>\n",
              "      <td>1</td>\n",
              "      <td>1</td>\n",
              "      <td>1</td>\n",
              "    </tr>\n",
              "    <tr>\n",
              "      <th>zoe metallic matelassé midi skirt black</th>\n",
              "      <td>2</td>\n",
              "      <td>2</td>\n",
              "      <td>2</td>\n",
              "      <td>2</td>\n",
              "      <td>2</td>\n",
              "    </tr>\n",
              "  </tbody>\n",
              "</table>\n",
              "<p>48952 rows × 5 columns</p>\n",
              "</div>"
            ],
            "text/plain": [
              "                                                    gender  ...  path\n",
              "product-name                                                ...      \n",
              "                                                         5  ...     5\n",
              "2 packable down jacket blue                              1  ...     1\n",
              "3d double layered a-line skirt                           3  ...     3\n",
              "7 all mankind ethereal blue contour mid-rise sk...       1  ...     1\n",
              "a line skirt                                             3  ...     3\n",
              "...                                                    ...  ...   ...\n",
              "your leggings black damask                               1  ...     1\n",
              "your leggings black plaid                                1  ...     1\n",
              "zipped virgin wool skirt silk black                      2  ...     2\n",
              "zipper blue wild flare leg                               1  ...     1\n",
              "zoe metallic matelassé midi skirt black                  2  ...     2\n",
              "\n",
              "[48952 rows x 5 columns]"
            ]
          },
          "metadata": {
            "tags": []
          },
          "execution_count": 104
        }
      ]
    },
    {
      "cell_type": "code",
      "metadata": {
        "id": "F-XkS2hbhs3U",
        "colab": {
          "base_uri": "https://localhost:8080/"
        },
        "outputId": "579de6f9-546f-40e6-955f-eee819fe6bbc"
      },
      "source": [
        "#No product name\n",
        "indices = df_final[df_final['product-name']==\"\"].index\n",
        "df_final.drop(index=indices,axis=0,inplace=True)"
      ],
      "execution_count": null,
      "outputs": [
        {
          "output_type": "stream",
          "text": [
            "/usr/local/lib/python3.7/dist-packages/pandas/core/frame.py:4174: SettingWithCopyWarning: \n",
            "A value is trying to be set on a copy of a slice from a DataFrame\n",
            "\n",
            "See the caveats in the documentation: https://pandas.pydata.org/pandas-docs/stable/user_guide/indexing.html#returning-a-view-versus-a-copy\n",
            "  errors=errors,\n"
          ],
          "name": "stderr"
        }
      ]
    },
    {
      "cell_type": "code",
      "metadata": {
        "id": "X8dRc8Z3hyBI"
      },
      "source": [
        "group = df_final.groupby(['category','sub-category','product-number']).count().reset_index()\n",
        "result =group[group['product-number'].duplicated()] "
      ],
      "execution_count": null,
      "outputs": []
    },
    {
      "cell_type": "markdown",
      "metadata": {
        "id": "-iMUUKhRT8lc"
      },
      "source": [
        "# No. of duplicate products present in different sub categories"
      ]
    },
    {
      "cell_type": "code",
      "metadata": {
        "colab": {
          "base_uri": "https://localhost:8080/",
          "height": 1000
        },
        "id": "8qddw8LwmXSI",
        "outputId": "4bf346b3-e68a-4c45-8fbe-5fb07f67b08c"
      },
      "source": [
        "group[group['product-number'].isin(result['product-number'])].sort_values(by='product-number')\n",
        "# plt.text(0,0.5,s=(\"Duplicates\")\\\n",
        "#          ,fontdict={'fontsize':30})\n",
        "# plt.gca().spines['top'].set_visible(False)\n",
        "# plt.gca().spines['right'].set_visible(False)\n",
        "# plt.gca().spines['bottom'].set_visible(False)\n",
        "# plt.gca().spines['left'].set_visible(False)\n",
        "# plt.tick_params(left = False, right = False , labelleft = False ,\n",
        "#                 labelbottom = False, bottom = False)"
      ],
      "execution_count": null,
      "outputs": [
        {
          "output_type": "execute_result",
          "data": {
            "text/html": [
              "<div>\n",
              "<style scoped>\n",
              "    .dataframe tbody tr th:only-of-type {\n",
              "        vertical-align: middle;\n",
              "    }\n",
              "\n",
              "    .dataframe tbody tr th {\n",
              "        vertical-align: top;\n",
              "    }\n",
              "\n",
              "    .dataframe thead th {\n",
              "        text-align: right;\n",
              "    }\n",
              "</style>\n",
              "<table border=\"1\" class=\"dataframe\">\n",
              "  <thead>\n",
              "    <tr style=\"text-align: right;\">\n",
              "      <th></th>\n",
              "      <th>category</th>\n",
              "      <th>sub-category</th>\n",
              "      <th>product-number</th>\n",
              "      <th>gender</th>\n",
              "      <th>product-name</th>\n",
              "      <th>path</th>\n",
              "    </tr>\n",
              "  </thead>\n",
              "  <tbody>\n",
              "    <tr>\n",
              "      <th>8342</th>\n",
              "      <td>dresses</td>\n",
              "      <td>maxi_and_long_dresses</td>\n",
              "      <td>30890370</td>\n",
              "      <td>1</td>\n",
              "      <td>1</td>\n",
              "      <td>1</td>\n",
              "    </tr>\n",
              "    <tr>\n",
              "      <th>5878</th>\n",
              "      <td>dresses</td>\n",
              "      <td>gowns</td>\n",
              "      <td>30890370</td>\n",
              "      <td>2</td>\n",
              "      <td>2</td>\n",
              "      <td>2</td>\n",
              "    </tr>\n",
              "    <tr>\n",
              "      <th>50376</th>\n",
              "      <td>tops</td>\n",
              "      <td>short_sleeve_tops</td>\n",
              "      <td>61552469</td>\n",
              "      <td>1</td>\n",
              "      <td>1</td>\n",
              "      <td>1</td>\n",
              "    </tr>\n",
              "    <tr>\n",
              "      <th>55193</th>\n",
              "      <td>tops</td>\n",
              "      <td>t-shirts</td>\n",
              "      <td>61552469</td>\n",
              "      <td>2</td>\n",
              "      <td>2</td>\n",
              "      <td>2</td>\n",
              "    </tr>\n",
              "    <tr>\n",
              "      <th>22</th>\n",
              "      <td>dresses</td>\n",
              "      <td>casual_and_day_dresses</td>\n",
              "      <td>63862712</td>\n",
              "      <td>1</td>\n",
              "      <td>1</td>\n",
              "      <td>1</td>\n",
              "    </tr>\n",
              "    <tr>\n",
              "      <th>8379</th>\n",
              "      <td>dresses</td>\n",
              "      <td>maxi_and_long_dresses</td>\n",
              "      <td>63862712</td>\n",
              "      <td>1</td>\n",
              "      <td>1</td>\n",
              "      <td>1</td>\n",
              "    </tr>\n",
              "    <tr>\n",
              "      <th>5951</th>\n",
              "      <td>dresses</td>\n",
              "      <td>gowns</td>\n",
              "      <td>66115086</td>\n",
              "      <td>1</td>\n",
              "      <td>1</td>\n",
              "      <td>1</td>\n",
              "    </tr>\n",
              "    <tr>\n",
              "      <th>8385</th>\n",
              "      <td>dresses</td>\n",
              "      <td>maxi_and_long_dresses</td>\n",
              "      <td>66115086</td>\n",
              "      <td>1</td>\n",
              "      <td>1</td>\n",
              "      <td>1</td>\n",
              "    </tr>\n",
              "    <tr>\n",
              "      <th>5952</th>\n",
              "      <td>dresses</td>\n",
              "      <td>gowns</td>\n",
              "      <td>66115409</td>\n",
              "      <td>1</td>\n",
              "      <td>1</td>\n",
              "      <td>1</td>\n",
              "    </tr>\n",
              "    <tr>\n",
              "      <th>8386</th>\n",
              "      <td>dresses</td>\n",
              "      <td>maxi_and_long_dresses</td>\n",
              "      <td>66115409</td>\n",
              "      <td>1</td>\n",
              "      <td>1</td>\n",
              "      <td>1</td>\n",
              "    </tr>\n",
              "    <tr>\n",
              "      <th>32</th>\n",
              "      <td>dresses</td>\n",
              "      <td>casual_and_day_dresses</td>\n",
              "      <td>66179572</td>\n",
              "      <td>3</td>\n",
              "      <td>3</td>\n",
              "      <td>3</td>\n",
              "    </tr>\n",
              "    <tr>\n",
              "      <th>11272</th>\n",
              "      <td>dresses</td>\n",
              "      <td>mini_and_short_dresses</td>\n",
              "      <td>66179572</td>\n",
              "      <td>3</td>\n",
              "      <td>3</td>\n",
              "      <td>3</td>\n",
              "    </tr>\n",
              "    <tr>\n",
              "      <th>5982</th>\n",
              "      <td>dresses</td>\n",
              "      <td>gowns</td>\n",
              "      <td>70670298</td>\n",
              "      <td>1</td>\n",
              "      <td>1</td>\n",
              "      <td>1</td>\n",
              "    </tr>\n",
              "    <tr>\n",
              "      <th>8415</th>\n",
              "      <td>dresses</td>\n",
              "      <td>maxi_and_long_dresses</td>\n",
              "      <td>70670298</td>\n",
              "      <td>1</td>\n",
              "      <td>1</td>\n",
              "      <td>1</td>\n",
              "    </tr>\n",
              "    <tr>\n",
              "      <th>22795</th>\n",
              "      <td>jackets</td>\n",
              "      <td>padded_and_down_jackets</td>\n",
              "      <td>71138198</td>\n",
              "      <td>3</td>\n",
              "      <td>3</td>\n",
              "      <td>3</td>\n",
              "    </tr>\n",
              "    <tr>\n",
              "      <th>18108</th>\n",
              "      <td>jackets</td>\n",
              "      <td>casual_jackets</td>\n",
              "      <td>71138198</td>\n",
              "      <td>1</td>\n",
              "      <td>1</td>\n",
              "      <td>1</td>\n",
              "    </tr>\n",
              "    <tr>\n",
              "      <th>3008</th>\n",
              "      <td>dresses</td>\n",
              "      <td>cocktail_dresses</td>\n",
              "      <td>74628098</td>\n",
              "      <td>2</td>\n",
              "      <td>2</td>\n",
              "      <td>2</td>\n",
              "    </tr>\n",
              "    <tr>\n",
              "      <th>102</th>\n",
              "      <td>dresses</td>\n",
              "      <td>casual_and_day_dresses</td>\n",
              "      <td>74628098</td>\n",
              "      <td>3</td>\n",
              "      <td>3</td>\n",
              "      <td>3</td>\n",
              "    </tr>\n",
              "    <tr>\n",
              "      <th>116</th>\n",
              "      <td>dresses</td>\n",
              "      <td>casual_and_day_dresses</td>\n",
              "      <td>75479571</td>\n",
              "      <td>1</td>\n",
              "      <td>1</td>\n",
              "      <td>1</td>\n",
              "    </tr>\n",
              "    <tr>\n",
              "      <th>3014</th>\n",
              "      <td>dresses</td>\n",
              "      <td>cocktail_dresses</td>\n",
              "      <td>75479571</td>\n",
              "      <td>3</td>\n",
              "      <td>3</td>\n",
              "      <td>3</td>\n",
              "    </tr>\n",
              "    <tr>\n",
              "      <th>143</th>\n",
              "      <td>dresses</td>\n",
              "      <td>casual_and_day_dresses</td>\n",
              "      <td>78977120</td>\n",
              "      <td>1</td>\n",
              "      <td>1</td>\n",
              "      <td>1</td>\n",
              "    </tr>\n",
              "    <tr>\n",
              "      <th>8459</th>\n",
              "      <td>dresses</td>\n",
              "      <td>maxi_and_long_dresses</td>\n",
              "      <td>78977120</td>\n",
              "      <td>1</td>\n",
              "      <td>1</td>\n",
              "      <td>1</td>\n",
              "    </tr>\n",
              "    <tr>\n",
              "      <th>8560</th>\n",
              "      <td>dresses</td>\n",
              "      <td>maxi_and_long_dresses</td>\n",
              "      <td>88079156</td>\n",
              "      <td>1</td>\n",
              "      <td>1</td>\n",
              "      <td>1</td>\n",
              "    </tr>\n",
              "    <tr>\n",
              "      <th>6282</th>\n",
              "      <td>dresses</td>\n",
              "      <td>gowns</td>\n",
              "      <td>88079156</td>\n",
              "      <td>1</td>\n",
              "      <td>1</td>\n",
              "      <td>1</td>\n",
              "    </tr>\n",
              "    <tr>\n",
              "      <th>46011</th>\n",
              "      <td>tops</td>\n",
              "      <td>long_sleeved_tops</td>\n",
              "      <td>89648068</td>\n",
              "      <td>2</td>\n",
              "      <td>2</td>\n",
              "      <td>2</td>\n",
              "    </tr>\n",
              "    <tr>\n",
              "      <th>55455</th>\n",
              "      <td>tops</td>\n",
              "      <td>t-shirts</td>\n",
              "      <td>89648068</td>\n",
              "      <td>2</td>\n",
              "      <td>2</td>\n",
              "      <td>2</td>\n",
              "    </tr>\n",
              "    <tr>\n",
              "      <th>18547</th>\n",
              "      <td>jackets</td>\n",
              "      <td>casual_jackets</td>\n",
              "      <td>90171571</td>\n",
              "      <td>6</td>\n",
              "      <td>6</td>\n",
              "      <td>6</td>\n",
              "    </tr>\n",
              "    <tr>\n",
              "      <th>23093</th>\n",
              "      <td>jackets</td>\n",
              "      <td>padded_and_down_jackets</td>\n",
              "      <td>90171571</td>\n",
              "      <td>11</td>\n",
              "      <td>11</td>\n",
              "      <td>11</td>\n",
              "    </tr>\n",
              "    <tr>\n",
              "      <th>26996</th>\n",
              "      <td>pants</td>\n",
              "      <td>full_length_pants</td>\n",
              "      <td>90593251</td>\n",
              "      <td>1</td>\n",
              "      <td>1</td>\n",
              "      <td>1</td>\n",
              "    </tr>\n",
              "    <tr>\n",
              "      <th>27865</th>\n",
              "      <td>pants</td>\n",
              "      <td>harem_pants</td>\n",
              "      <td>90593251</td>\n",
              "      <td>1</td>\n",
              "      <td>1</td>\n",
              "      <td>1</td>\n",
              "    </tr>\n",
              "    <tr>\n",
              "      <th>9729</th>\n",
              "      <td>dresses</td>\n",
              "      <td>maxi_and_long_dresses</td>\n",
              "      <td>90836082</td>\n",
              "      <td>1</td>\n",
              "      <td>1</td>\n",
              "      <td>1</td>\n",
              "    </tr>\n",
              "    <tr>\n",
              "      <th>7694</th>\n",
              "      <td>dresses</td>\n",
              "      <td>gowns</td>\n",
              "      <td>90836082</td>\n",
              "      <td>1</td>\n",
              "      <td>1</td>\n",
              "      <td>1</td>\n",
              "    </tr>\n",
              "    <tr>\n",
              "      <th>7697</th>\n",
              "      <td>dresses</td>\n",
              "      <td>gowns</td>\n",
              "      <td>90836671</td>\n",
              "      <td>1</td>\n",
              "      <td>1</td>\n",
              "      <td>1</td>\n",
              "    </tr>\n",
              "    <tr>\n",
              "      <th>9732</th>\n",
              "      <td>dresses</td>\n",
              "      <td>maxi_and_long_dresses</td>\n",
              "      <td>90836671</td>\n",
              "      <td>1</td>\n",
              "      <td>1</td>\n",
              "      <td>1</td>\n",
              "    </tr>\n",
              "  </tbody>\n",
              "</table>\n",
              "</div>"
            ],
            "text/plain": [
              "      category             sub-category  ... product-name  path\n",
              "8342   dresses    maxi_and_long_dresses  ...            1     1\n",
              "5878   dresses                    gowns  ...            2     2\n",
              "50376     tops        short_sleeve_tops  ...            1     1\n",
              "55193     tops                 t-shirts  ...            2     2\n",
              "22     dresses   casual_and_day_dresses  ...            1     1\n",
              "8379   dresses    maxi_and_long_dresses  ...            1     1\n",
              "5951   dresses                    gowns  ...            1     1\n",
              "8385   dresses    maxi_and_long_dresses  ...            1     1\n",
              "5952   dresses                    gowns  ...            1     1\n",
              "8386   dresses    maxi_and_long_dresses  ...            1     1\n",
              "32     dresses   casual_and_day_dresses  ...            3     3\n",
              "11272  dresses   mini_and_short_dresses  ...            3     3\n",
              "5982   dresses                    gowns  ...            1     1\n",
              "8415   dresses    maxi_and_long_dresses  ...            1     1\n",
              "22795  jackets  padded_and_down_jackets  ...            3     3\n",
              "18108  jackets           casual_jackets  ...            1     1\n",
              "3008   dresses         cocktail_dresses  ...            2     2\n",
              "102    dresses   casual_and_day_dresses  ...            3     3\n",
              "116    dresses   casual_and_day_dresses  ...            1     1\n",
              "3014   dresses         cocktail_dresses  ...            3     3\n",
              "143    dresses   casual_and_day_dresses  ...            1     1\n",
              "8459   dresses    maxi_and_long_dresses  ...            1     1\n",
              "8560   dresses    maxi_and_long_dresses  ...            1     1\n",
              "6282   dresses                    gowns  ...            1     1\n",
              "46011     tops        long_sleeved_tops  ...            2     2\n",
              "55455     tops                 t-shirts  ...            2     2\n",
              "18547  jackets           casual_jackets  ...            6     6\n",
              "23093  jackets  padded_and_down_jackets  ...           11    11\n",
              "26996    pants        full_length_pants  ...            1     1\n",
              "27865    pants              harem_pants  ...            1     1\n",
              "9729   dresses    maxi_and_long_dresses  ...            1     1\n",
              "7694   dresses                    gowns  ...            1     1\n",
              "7697   dresses                    gowns  ...            1     1\n",
              "9732   dresses    maxi_and_long_dresses  ...            1     1\n",
              "\n",
              "[34 rows x 6 columns]"
            ]
          },
          "metadata": {
            "tags": []
          },
          "execution_count": 107
        }
      ]
    }
  ]
}