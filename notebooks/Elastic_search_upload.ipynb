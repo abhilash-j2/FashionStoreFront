{
  "nbformat": 4,
  "nbformat_minor": 0,
  "metadata": {
    "colab": {
      "name": "Elastic_search_upload.ipynb",
      "provenance": []
    },
    "kernelspec": {
      "name": "python3",
      "display_name": "Python 3"
    },
    "language_info": {
      "name": "python"
    }
  },
  "cells": [
    {
      "cell_type": "markdown",
      "metadata": {
        "id": "28y3ZPJgp2eh"
      },
      "source": [
        "# Installing and importing modules"
      ]
    },
    {
      "cell_type": "code",
      "metadata": {
        "id": "5nfr-wp-TvTQ"
      },
      "source": [
        "!pip install elasticsearch\n",
        "!pip install jproperties"
      ],
      "execution_count": null,
      "outputs": []
    },
    {
      "cell_type": "code",
      "metadata": {
        "id": "s0tLoFL9Tk24"
      },
      "source": [
        "from elasticsearch import Elasticsearch\n",
        "from jproperties import Properties\n",
        "import pickle\n",
        "from elasticsearch import helpers\n",
        "\n",
        "from tqdm import tqdm"
      ],
      "execution_count": 71,
      "outputs": []
    },
    {
      "cell_type": "code",
      "metadata": {
        "colab": {
          "base_uri": "https://localhost:8080/"
        },
        "id": "Z-1-w8NYVKF0",
        "outputId": "b20ce0c9-bd78-4969-f897-454b7cb46d4d"
      },
      "source": [
        "from google.colab import drive\n",
        "drive.mount('/content/drive')"
      ],
      "execution_count": 7,
      "outputs": [
        {
          "output_type": "stream",
          "text": [
            "Mounted at /content/drive\n"
          ],
          "name": "stdout"
        }
      ]
    },
    {
      "cell_type": "markdown",
      "metadata": {
        "id": "KIUve2Skp6Ay"
      },
      "source": [
        "# Loading respective pickle files"
      ]
    },
    {
      "cell_type": "code",
      "metadata": {
        "id": "dRfEAnENWYMa"
      },
      "source": [
        "config = Properties()\n",
        "with open('/content/drive/MyDrive/es_credentials.prop','rb') as f:\n",
        "  config.load(f)"
      ],
      "execution_count": 25,
      "outputs": []
    },
    {
      "cell_type": "code",
      "metadata": {
        "id": "6GbsTxRJaULe"
      },
      "source": [
        "with open('/content/drive/MyDrive/Pickle files/Product_level_df','rb') as f:\n",
        "  prod_df = pickle.load(f)"
      ],
      "execution_count": 33,
      "outputs": []
    },
    {
      "cell_type": "code",
      "metadata": {
        "id": "mfRMgKRda5uL"
      },
      "source": [
        "with open('/content/drive/MyDrive/Pickle files/final_data_frame','rb') as f:\n",
        "  image_df = pickle.load(f)"
      ],
      "execution_count": 35,
      "outputs": []
    },
    {
      "cell_type": "markdown",
      "metadata": {
        "id": "q9eXwW8Xp_hg"
      },
      "source": [
        "# Elastic Search"
      ]
    },
    {
      "cell_type": "code",
      "metadata": {
        "id": "qCBUQXQ9TtU4"
      },
      "source": [
        "es = Elasticsearch([{'host':'ec2-18-217-197-173.us-east-2.compute.amazonaws.com','port':'9200'}])"
      ],
      "execution_count": 77,
      "outputs": []
    },
    {
      "cell_type": "code",
      "metadata": {
        "colab": {
          "base_uri": "https://localhost:8080/"
        },
        "id": "3kjgGFS5UFsz",
        "outputId": "234c9646-1ac3-446a-b707-54a2f23ab528"
      },
      "source": [
        "es.ping()"
      ],
      "execution_count": 80,
      "outputs": [
        {
          "output_type": "execute_result",
          "data": {
            "text/plain": [
              "True"
            ]
          },
          "metadata": {
            "tags": []
          },
          "execution_count": 80
        }
      ]
    },
    {
      "cell_type": "code",
      "metadata": {
        "id": "fjzjOxR3aK8e"
      },
      "source": [
        "prod_df_json = prod_df.to_dict('records')"
      ],
      "execution_count": 37,
      "outputs": []
    },
    {
      "cell_type": "code",
      "metadata": {
        "id": "24ra_m1va1RK"
      },
      "source": [
        "image_df_json = image_df.to_dict('records')"
      ],
      "execution_count": 38,
      "outputs": []
    },
    {
      "cell_type": "code",
      "metadata": {
        "colab": {
          "base_uri": "https://localhost:8080/"
        },
        "id": "-dwronh8hKYh",
        "outputId": "d9f9d2ce-d749-4290-8dea-fe381254c172"
      },
      "source": [
        "es.indices.create(index='product-level',ignore=400)"
      ],
      "execution_count": 59,
      "outputs": [
        {
          "output_type": "execute_result",
          "data": {
            "text/plain": [
              "{'acknowledged': True, 'index': 'product-level', 'shards_acknowledged': True}"
            ]
          },
          "metadata": {
            "tags": []
          },
          "execution_count": 59
        }
      ]
    },
    {
      "cell_type": "code",
      "metadata": {
        "colab": {
          "base_uri": "https://localhost:8080/"
        },
        "id": "jeu9JHokmW7Q",
        "outputId": "17e1eee8-bef8-4066-e5ab-a7722cd80db3"
      },
      "source": [
        "es.indices.create(index='image-level',ignore=400)"
      ],
      "execution_count": 74,
      "outputs": [
        {
          "output_type": "execute_result",
          "data": {
            "text/plain": [
              "{'acknowledged': True, 'index': 'image-level', 'shards_acknowledged': True}"
            ]
          },
          "metadata": {
            "tags": []
          },
          "execution_count": 74
        }
      ]
    },
    {
      "cell_type": "code",
      "metadata": {
        "colab": {
          "base_uri": "https://localhost:8080/"
        },
        "id": "LTrOHzPhbA15",
        "outputId": "9c447025-8eb1-4cf4-daf2-db8e56a8beb8"
      },
      "source": [
        "prod_df_json[0]"
      ],
      "execution_count": 79,
      "outputs": [
        {
          "output_type": "execute_result",
          "data": {
            "text/plain": [
              "{'category': 'dresses',\n",
              " 'gender': 'women',\n",
              " 'path': 'women/dresses/casual_and_day_dresses/56037632/56037632_0.jpeg',\n",
              " 'product-name': 'black knit midi dress',\n",
              " 'product-number': '56037632',\n",
              " 'sub-category': 'casual_and_day_dresses'}"
            ]
          },
          "metadata": {
            "tags": []
          },
          "execution_count": 79
        }
      ]
    },
    {
      "cell_type": "markdown",
      "metadata": {
        "id": "NrFTTCPlqC7h"
      },
      "source": [
        "# uploading data into ES"
      ]
    },
    {
      "cell_type": "code",
      "metadata": {
        "id": "fckSigLIcYeN"
      },
      "source": [
        "def generator_prod(df):\n",
        "  for i,x in enumerate(df):\n",
        "    yield{\n",
        "        '_index':'product-level',\n",
        "        '_type':'_doc',\n",
        "        '_id': i+1,\n",
        "        '_source':{\n",
        "            \"product-number\":x.get(\"sub-category\",\"\"),\n",
        "            \"product-name\":x.get(\"product-name\",\"\"),\n",
        "            \"category\":x.get(\"category\",\"\"),\n",
        "            \"sub-category\":x.get(\"sub-category\",\"\"),\n",
        "            \"image-path\":x.get(\"path\",\"\")\n",
        "        }\n",
        "    }\n",
        "  raise StopIteration"
      ],
      "execution_count": 81,
      "outputs": []
    },
    {
      "cell_type": "code",
      "metadata": {
        "colab": {
          "base_uri": "https://localhost:8080/"
        },
        "id": "VmfigIvAfs8-",
        "outputId": "dee000f4-9179-4f06-847e-14757b8b58c2"
      },
      "source": [
        "try:\n",
        "  res1 = helpers.bulk(es,generator_prod(prod_df_json))\n",
        "  print('working')\n",
        "except Exception as e:\n",
        "  pass"
      ],
      "execution_count": 82,
      "outputs": [
        {
          "output_type": "stream",
          "text": [
            "/usr/local/lib/python3.7/dist-packages/elasticsearch/connection/base.py:200: ElasticsearchWarning: [types removal] Specifying types in bulk requests is deprecated.\n",
            "  warnings.warn(message, category=ElasticsearchWarning)\n"
          ],
          "name": "stderr"
        }
      ]
    },
    {
      "cell_type": "code",
      "metadata": {
        "id": "h08wY7i4pFZ9"
      },
      "source": [
        "def generator_image(df):\n",
        "  for i,x in enumerate(df):\n",
        "    yield{\n",
        "        '_index':'image-level',\n",
        "        '_type':'_doc',\n",
        "        '_id': i+1,\n",
        "        '_source':{\n",
        "            \"product-number\":x.get(\"sub-category\",\"\"),\n",
        "            \"product-name\":x.get(\"product-name\",\"\"),\n",
        "            \"category\":x.get(\"category\",\"\"),\n",
        "            \"sub-category\":x.get(\"sub-category\",\"\"),\n",
        "            \"image-path\":x.get(\"path\",\"\")\n",
        "        }\n",
        "    }\n",
        "  raise StopIteration"
      ],
      "execution_count": 83,
      "outputs": []
    },
    {
      "cell_type": "code",
      "metadata": {
        "colab": {
          "base_uri": "https://localhost:8080/"
        },
        "id": "5LTjD0YypmhL",
        "outputId": "87aa747f-71e3-4cc8-b74f-42627682fd88"
      },
      "source": [
        "try:\n",
        "  res2 = helpers.bulk(es,generator_image(image_df_json))\n",
        "  print('working')\n",
        "except Exception as e:\n",
        "  pass"
      ],
      "execution_count": 84,
      "outputs": [
        {
          "output_type": "stream",
          "text": [
            "/usr/local/lib/python3.7/dist-packages/elasticsearch/connection/base.py:200: ElasticsearchWarning: [types removal] Specifying types in bulk requests is deprecated.\n",
            "  warnings.warn(message, category=ElasticsearchWarning)\n"
          ],
          "name": "stderr"
        }
      ]
    },
    {
      "cell_type": "code",
      "metadata": {
        "id": "dNTBXN4RpxTs"
      },
      "source": [
        ""
      ],
      "execution_count": null,
      "outputs": []
    }
  ]
}