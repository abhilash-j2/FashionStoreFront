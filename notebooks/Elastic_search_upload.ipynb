{
  "nbformat": 4,
  "nbformat_minor": 0,
  "metadata": {
    "colab": {
      "name": "Elastic_search_upload.ipynb",
      "provenance": [],
      "collapsed_sections": [],
      "toc_visible": true
    },
    "kernelspec": {
      "name": "python3",
      "display_name": "Python 3"
    },
    "language_info": {
      "name": "python"
    }
  },
  "cells": [
    {
      "cell_type": "markdown",
      "metadata": {
        "id": "28y3ZPJgp2eh"
      },
      "source": [
        "# Installing and importing modules"
      ]
    },
    {
      "cell_type": "code",
      "metadata": {
        "id": "5nfr-wp-TvTQ",
        "colab": {
          "base_uri": "https://localhost:8080/"
        },
        "outputId": "7e1ac2a9-548d-4036-ccc0-f50e24215a63"
      },
      "source": [
        "!pip install elasticsearch\n",
        "!pip install jproperties"
      ],
      "execution_count": 1,
      "outputs": [
        {
          "output_type": "stream",
          "text": [
            "Collecting elasticsearch\n",
            "\u001b[?25l  Downloading https://files.pythonhosted.org/packages/8f/5c/60a32dfc24da07703b5b32d9935bcc36786a9176e67117c4b6215fd6d914/elasticsearch-7.12.1-py2.py3-none-any.whl (339kB)\n",
            "\r\u001b[K     |█                               | 10kB 17.8MB/s eta 0:00:01\r\u001b[K     |██                              | 20kB 11.7MB/s eta 0:00:01\r\u001b[K     |███                             | 30kB 10.9MB/s eta 0:00:01\r\u001b[K     |███▉                            | 40kB 9.0MB/s eta 0:00:01\r\u001b[K     |████▉                           | 51kB 7.1MB/s eta 0:00:01\r\u001b[K     |█████▉                          | 61kB 7.3MB/s eta 0:00:01\r\u001b[K     |██████▊                         | 71kB 7.5MB/s eta 0:00:01\r\u001b[K     |███████▊                        | 81kB 7.6MB/s eta 0:00:01\r\u001b[K     |████████▊                       | 92kB 7.4MB/s eta 0:00:01\r\u001b[K     |█████████▋                      | 102kB 7.8MB/s eta 0:00:01\r\u001b[K     |██████████▋                     | 112kB 7.8MB/s eta 0:00:01\r\u001b[K     |███████████▋                    | 122kB 7.8MB/s eta 0:00:01\r\u001b[K     |████████████▌                   | 133kB 7.8MB/s eta 0:00:01\r\u001b[K     |█████████████▌                  | 143kB 7.8MB/s eta 0:00:01\r\u001b[K     |██████████████▌                 | 153kB 7.8MB/s eta 0:00:01\r\u001b[K     |███████████████▍                | 163kB 7.8MB/s eta 0:00:01\r\u001b[K     |████████████████▍               | 174kB 7.8MB/s eta 0:00:01\r\u001b[K     |█████████████████▍              | 184kB 7.8MB/s eta 0:00:01\r\u001b[K     |██████████████████▎             | 194kB 7.8MB/s eta 0:00:01\r\u001b[K     |███████████████████▎            | 204kB 7.8MB/s eta 0:00:01\r\u001b[K     |████████████████████▎           | 215kB 7.8MB/s eta 0:00:01\r\u001b[K     |█████████████████████▏          | 225kB 7.8MB/s eta 0:00:01\r\u001b[K     |██████████████████████▏         | 235kB 7.8MB/s eta 0:00:01\r\u001b[K     |███████████████████████▏        | 245kB 7.8MB/s eta 0:00:01\r\u001b[K     |████████████████████████        | 256kB 7.8MB/s eta 0:00:01\r\u001b[K     |█████████████████████████       | 266kB 7.8MB/s eta 0:00:01\r\u001b[K     |██████████████████████████      | 276kB 7.8MB/s eta 0:00:01\r\u001b[K     |███████████████████████████     | 286kB 7.8MB/s eta 0:00:01\r\u001b[K     |████████████████████████████    | 296kB 7.8MB/s eta 0:00:01\r\u001b[K     |█████████████████████████████   | 307kB 7.8MB/s eta 0:00:01\r\u001b[K     |██████████████████████████████  | 317kB 7.8MB/s eta 0:00:01\r\u001b[K     |██████████████████████████████▉ | 327kB 7.8MB/s eta 0:00:01\r\u001b[K     |███████████████████████████████▉| 337kB 7.8MB/s eta 0:00:01\r\u001b[K     |████████████████████████████████| 348kB 7.8MB/s \n",
            "\u001b[?25hRequirement already satisfied: urllib3<2,>=1.21.1 in /usr/local/lib/python3.7/dist-packages (from elasticsearch) (1.24.3)\n",
            "Requirement already satisfied: certifi in /usr/local/lib/python3.7/dist-packages (from elasticsearch) (2020.12.5)\n",
            "Installing collected packages: elasticsearch\n",
            "Successfully installed elasticsearch-7.12.1\n",
            "Collecting jproperties\n",
            "  Downloading https://files.pythonhosted.org/packages/17/e5/9aee9f1347d4dee6e6e97f0a8e064261475787fa03a67ec274c2e32d4edb/jproperties-2.1.0-py3-none-any.whl\n",
            "Requirement already satisfied: six~=1.12 in /usr/local/lib/python3.7/dist-packages (from jproperties) (1.15.0)\n",
            "Installing collected packages: jproperties\n",
            "Successfully installed jproperties-2.1.0\n"
          ],
          "name": "stdout"
        }
      ]
    },
    {
      "cell_type": "code",
      "metadata": {
        "id": "s0tLoFL9Tk24"
      },
      "source": [
        "from elasticsearch import Elasticsearch\n",
        "from jproperties import Properties\n",
        "import pickle\n",
        "from elasticsearch import helpers\n",
        "\n",
        "from tqdm import tqdm\n",
        "from glob import glob\n",
        "import re\n",
        "import numpy as np"
      ],
      "execution_count": 44,
      "outputs": []
    },
    {
      "cell_type": "code",
      "metadata": {
        "colab": {
          "base_uri": "https://localhost:8080/"
        },
        "id": "Z-1-w8NYVKF0",
        "outputId": "aa19ef1f-3778-404b-c7a5-b8b04e74cadc"
      },
      "source": [
        "from google.colab import drive\n",
        "drive.mount('/content/drive')"
      ],
      "execution_count": 3,
      "outputs": [
        {
          "output_type": "stream",
          "text": [
            "Mounted at /content/drive\n"
          ],
          "name": "stdout"
        }
      ]
    },
    {
      "cell_type": "markdown",
      "metadata": {
        "id": "KIUve2Skp6Ay"
      },
      "source": [
        "# Loading respective pickle files"
      ]
    },
    {
      "cell_type": "code",
      "metadata": {
        "id": "dRfEAnENWYMa"
      },
      "source": [
        "config = Properties()\n",
        "with open('/content/drive/MyDrive/config/elastic_search_config.prop','rb') as f:\n",
        "  config.load(f)"
      ],
      "execution_count": 5,
      "outputs": []
    },
    {
      "cell_type": "code",
      "metadata": {
        "id": "6GbsTxRJaULe"
      },
      "source": [
        "with open('/content/drive/MyDrive/Pickle files/Product_level_dataframe','rb') as f:\n",
        "  prod_df = pickle.load(f)"
      ],
      "execution_count": null,
      "outputs": []
    },
    {
      "cell_type": "code",
      "metadata": {
        "id": "Tx20oOZyZukx"
      },
      "source": [
        "prod_df.drop(index=142964,axis=0,inplace=True)"
      ],
      "execution_count": null,
      "outputs": []
    },
    {
      "cell_type": "code",
      "metadata": {
        "colab": {
          "base_uri": "https://localhost:8080/",
          "height": 555
        },
        "id": "VkfPJCzYt9ag",
        "outputId": "2c36f01c-f515-4371-b454-838550c6cc77"
      },
      "source": [
        "#prod_df.drop(index=142967,axis=0"
      ],
      "execution_count": null,
      "outputs": [
        {
          "output_type": "error",
          "ename": "KeyError",
          "evalue": "ignored",
          "traceback": [
            "\u001b[0;31m---------------------------------------------------------------------------\u001b[0m",
            "\u001b[0;31mKeyError\u001b[0m                                  Traceback (most recent call last)",
            "\u001b[0;32m/usr/local/lib/python3.7/dist-packages/pandas/core/indexes/base.py\u001b[0m in \u001b[0;36mget_loc\u001b[0;34m(self, key, method, tolerance)\u001b[0m\n\u001b[1;32m   2897\u001b[0m             \u001b[0;32mtry\u001b[0m\u001b[0;34m:\u001b[0m\u001b[0;34m\u001b[0m\u001b[0;34m\u001b[0m\u001b[0m\n\u001b[0;32m-> 2898\u001b[0;31m                 \u001b[0;32mreturn\u001b[0m \u001b[0mself\u001b[0m\u001b[0;34m.\u001b[0m\u001b[0m_engine\u001b[0m\u001b[0;34m.\u001b[0m\u001b[0mget_loc\u001b[0m\u001b[0;34m(\u001b[0m\u001b[0mcasted_key\u001b[0m\u001b[0;34m)\u001b[0m\u001b[0;34m\u001b[0m\u001b[0;34m\u001b[0m\u001b[0m\n\u001b[0m\u001b[1;32m   2899\u001b[0m             \u001b[0;32mexcept\u001b[0m \u001b[0mKeyError\u001b[0m \u001b[0;32mas\u001b[0m \u001b[0merr\u001b[0m\u001b[0;34m:\u001b[0m\u001b[0;34m\u001b[0m\u001b[0;34m\u001b[0m\u001b[0m\n",
            "\u001b[0;32mpandas/_libs/index.pyx\u001b[0m in \u001b[0;36mpandas._libs.index.IndexEngine.get_loc\u001b[0;34m()\u001b[0m\n",
            "\u001b[0;32mpandas/_libs/index.pyx\u001b[0m in \u001b[0;36mpandas._libs.index.IndexEngine.get_loc\u001b[0;34m()\u001b[0m\n",
            "\u001b[0;32mpandas/_libs/hashtable_class_helper.pxi\u001b[0m in \u001b[0;36mpandas._libs.hashtable.PyObjectHashTable.get_item\u001b[0;34m()\u001b[0m\n",
            "\u001b[0;32mpandas/_libs/hashtable_class_helper.pxi\u001b[0m in \u001b[0;36mpandas._libs.hashtable.PyObjectHashTable.get_item\u001b[0;34m()\u001b[0m\n",
            "\u001b[0;31mKeyError\u001b[0m: 'path_in_drive'",
            "\nThe above exception was the direct cause of the following exception:\n",
            "\u001b[0;31mKeyError\u001b[0m                                  Traceback (most recent call last)",
            "\u001b[0;32m<ipython-input-6-ce9765332af4>\u001b[0m in \u001b[0;36m<module>\u001b[0;34m()\u001b[0m\n\u001b[0;32m----> 1\u001b[0;31m \u001b[0mprod_df\u001b[0m\u001b[0;34m[\u001b[0m\u001b[0mprod_df\u001b[0m\u001b[0;34m[\u001b[0m\u001b[0;34m'path_in_drive'\u001b[0m\u001b[0;34m]\u001b[0m \u001b[0;34m==\u001b[0m \u001b[0;34m'/content/drive/MyDrive/women/skirts/maxi_skirts/90311765/90311765_3.jpeg'\u001b[0m\u001b[0;34m]\u001b[0m\u001b[0;34m\u001b[0m\u001b[0;34m\u001b[0m\u001b[0m\n\u001b[0m\u001b[1;32m      2\u001b[0m \u001b[0;31m#prod_df.drop(index=)\u001b[0m\u001b[0;34m\u001b[0m\u001b[0;34m\u001b[0m\u001b[0;34m\u001b[0m\u001b[0m\n",
            "\u001b[0;32m/usr/local/lib/python3.7/dist-packages/pandas/core/frame.py\u001b[0m in \u001b[0;36m__getitem__\u001b[0;34m(self, key)\u001b[0m\n\u001b[1;32m   2904\u001b[0m             \u001b[0;32mif\u001b[0m \u001b[0mself\u001b[0m\u001b[0;34m.\u001b[0m\u001b[0mcolumns\u001b[0m\u001b[0;34m.\u001b[0m\u001b[0mnlevels\u001b[0m \u001b[0;34m>\u001b[0m \u001b[0;36m1\u001b[0m\u001b[0;34m:\u001b[0m\u001b[0;34m\u001b[0m\u001b[0;34m\u001b[0m\u001b[0m\n\u001b[1;32m   2905\u001b[0m                 \u001b[0;32mreturn\u001b[0m \u001b[0mself\u001b[0m\u001b[0;34m.\u001b[0m\u001b[0m_getitem_multilevel\u001b[0m\u001b[0;34m(\u001b[0m\u001b[0mkey\u001b[0m\u001b[0;34m)\u001b[0m\u001b[0;34m\u001b[0m\u001b[0;34m\u001b[0m\u001b[0m\n\u001b[0;32m-> 2906\u001b[0;31m             \u001b[0mindexer\u001b[0m \u001b[0;34m=\u001b[0m \u001b[0mself\u001b[0m\u001b[0;34m.\u001b[0m\u001b[0mcolumns\u001b[0m\u001b[0;34m.\u001b[0m\u001b[0mget_loc\u001b[0m\u001b[0;34m(\u001b[0m\u001b[0mkey\u001b[0m\u001b[0;34m)\u001b[0m\u001b[0;34m\u001b[0m\u001b[0;34m\u001b[0m\u001b[0m\n\u001b[0m\u001b[1;32m   2907\u001b[0m             \u001b[0;32mif\u001b[0m \u001b[0mis_integer\u001b[0m\u001b[0;34m(\u001b[0m\u001b[0mindexer\u001b[0m\u001b[0;34m)\u001b[0m\u001b[0;34m:\u001b[0m\u001b[0;34m\u001b[0m\u001b[0;34m\u001b[0m\u001b[0m\n\u001b[1;32m   2908\u001b[0m                 \u001b[0mindexer\u001b[0m \u001b[0;34m=\u001b[0m \u001b[0;34m[\u001b[0m\u001b[0mindexer\u001b[0m\u001b[0;34m]\u001b[0m\u001b[0;34m\u001b[0m\u001b[0;34m\u001b[0m\u001b[0m\n",
            "\u001b[0;32m/usr/local/lib/python3.7/dist-packages/pandas/core/indexes/base.py\u001b[0m in \u001b[0;36mget_loc\u001b[0;34m(self, key, method, tolerance)\u001b[0m\n\u001b[1;32m   2898\u001b[0m                 \u001b[0;32mreturn\u001b[0m \u001b[0mself\u001b[0m\u001b[0;34m.\u001b[0m\u001b[0m_engine\u001b[0m\u001b[0;34m.\u001b[0m\u001b[0mget_loc\u001b[0m\u001b[0;34m(\u001b[0m\u001b[0mcasted_key\u001b[0m\u001b[0;34m)\u001b[0m\u001b[0;34m\u001b[0m\u001b[0;34m\u001b[0m\u001b[0m\n\u001b[1;32m   2899\u001b[0m             \u001b[0;32mexcept\u001b[0m \u001b[0mKeyError\u001b[0m \u001b[0;32mas\u001b[0m \u001b[0merr\u001b[0m\u001b[0;34m:\u001b[0m\u001b[0;34m\u001b[0m\u001b[0;34m\u001b[0m\u001b[0m\n\u001b[0;32m-> 2900\u001b[0;31m                 \u001b[0;32mraise\u001b[0m \u001b[0mKeyError\u001b[0m\u001b[0;34m(\u001b[0m\u001b[0mkey\u001b[0m\u001b[0;34m)\u001b[0m \u001b[0;32mfrom\u001b[0m \u001b[0merr\u001b[0m\u001b[0;34m\u001b[0m\u001b[0;34m\u001b[0m\u001b[0m\n\u001b[0m\u001b[1;32m   2901\u001b[0m \u001b[0;34m\u001b[0m\u001b[0m\n\u001b[1;32m   2902\u001b[0m         \u001b[0;32mif\u001b[0m \u001b[0mtolerance\u001b[0m \u001b[0;32mis\u001b[0m \u001b[0;32mnot\u001b[0m \u001b[0;32mNone\u001b[0m\u001b[0;34m:\u001b[0m\u001b[0;34m\u001b[0m\u001b[0;34m\u001b[0m\u001b[0m\n",
            "\u001b[0;31mKeyError\u001b[0m: 'path_in_drive'"
          ]
        }
      ]
    },
    {
      "cell_type": "code",
      "metadata": {
        "id": "mfRMgKRda5uL"
      },
      "source": [
        "with open('/content/drive/MyDrive/Pickle files/final_dataframe','rb') as f:\n",
        "  image_df = pickle.load(f)"
      ],
      "execution_count": 22,
      "outputs": []
    },
    {
      "cell_type": "code",
      "metadata": {
        "id": "tp3o9_z638nL"
      },
      "source": [
        "image_df.reset_index(drop=False,inplace=True)"
      ],
      "execution_count": null,
      "outputs": []
    },
    {
      "cell_type": "code",
      "metadata": {
        "colab": {
          "base_uri": "https://localhost:8080/",
          "height": 402
        },
        "id": "5TPWFhQa4EeK",
        "outputId": "04653198-e5fd-45d9-e365-1d7470d8e1b7"
      },
      "source": [
        "image_df"
      ],
      "execution_count": null,
      "outputs": [
        {
          "output_type": "execute_result",
          "data": {
            "text/html": [
              "<div>\n",
              "<style scoped>\n",
              "    .dataframe tbody tr th:only-of-type {\n",
              "        vertical-align: middle;\n",
              "    }\n",
              "\n",
              "    .dataframe tbody tr th {\n",
              "        vertical-align: top;\n",
              "    }\n",
              "\n",
              "    .dataframe thead th {\n",
              "        text-align: right;\n",
              "    }\n",
              "</style>\n",
              "<table border=\"1\" class=\"dataframe\">\n",
              "  <thead>\n",
              "    <tr style=\"text-align: right;\">\n",
              "      <th></th>\n",
              "      <th>index</th>\n",
              "      <th>gender</th>\n",
              "      <th>category</th>\n",
              "      <th>sub-category</th>\n",
              "      <th>product-number</th>\n",
              "      <th>product-name</th>\n",
              "      <th>path</th>\n",
              "    </tr>\n",
              "  </thead>\n",
              "  <tbody>\n",
              "    <tr>\n",
              "      <th>0</th>\n",
              "      <td>0</td>\n",
              "      <td>women</td>\n",
              "      <td>dresses</td>\n",
              "      <td>casual_and_day_dresses</td>\n",
              "      <td>56037632</td>\n",
              "      <td>black knit midi dress</td>\n",
              "      <td>women/dresses/casual_and_day_dresses/56037632/...</td>\n",
              "    </tr>\n",
              "    <tr>\n",
              "      <th>1</th>\n",
              "      <td>3</td>\n",
              "      <td>women</td>\n",
              "      <td>dresses</td>\n",
              "      <td>casual_and_day_dresses</td>\n",
              "      <td>56037632</td>\n",
              "      <td>black knit midi dress</td>\n",
              "      <td>women/dresses/casual_and_day_dresses/56037632/...</td>\n",
              "    </tr>\n",
              "    <tr>\n",
              "      <th>2</th>\n",
              "      <td>4</td>\n",
              "      <td>women</td>\n",
              "      <td>dresses</td>\n",
              "      <td>casual_and_day_dresses</td>\n",
              "      <td>56037632</td>\n",
              "      <td>black knit midi dress</td>\n",
              "      <td>women/dresses/casual_and_day_dresses/56037632/...</td>\n",
              "    </tr>\n",
              "    <tr>\n",
              "      <th>3</th>\n",
              "      <td>6</td>\n",
              "      <td>women</td>\n",
              "      <td>dresses</td>\n",
              "      <td>casual_and_day_dresses</td>\n",
              "      <td>56037632</td>\n",
              "      <td>black knit midi dress</td>\n",
              "      <td>women/dresses/casual_and_day_dresses/56037632/...</td>\n",
              "    </tr>\n",
              "    <tr>\n",
              "      <th>4</th>\n",
              "      <td>8</td>\n",
              "      <td>women</td>\n",
              "      <td>dresses</td>\n",
              "      <td>casual_and_day_dresses</td>\n",
              "      <td>62629380</td>\n",
              "      <td>multicolor henley t-shirt dress</td>\n",
              "      <td>women/dresses/casual_and_day_dresses/62629380/...</td>\n",
              "    </tr>\n",
              "    <tr>\n",
              "      <th>...</th>\n",
              "      <td>...</td>\n",
              "      <td>...</td>\n",
              "      <td>...</td>\n",
              "      <td>...</td>\n",
              "      <td>...</td>\n",
              "      <td>...</td>\n",
              "      <td>...</td>\n",
              "    </tr>\n",
              "    <tr>\n",
              "      <th>91460</th>\n",
              "      <td>201831</td>\n",
              "      <td>women</td>\n",
              "      <td>tops</td>\n",
              "      <td>t-shirts</td>\n",
              "      <td>91437517</td>\n",
              "      <td>classic tee black</td>\n",
              "      <td>women/tops/t-shirts/91437517/91437517_2.jpeg</td>\n",
              "    </tr>\n",
              "    <tr>\n",
              "      <th>91461</th>\n",
              "      <td>201832</td>\n",
              "      <td>women</td>\n",
              "      <td>tops</td>\n",
              "      <td>t-shirts</td>\n",
              "      <td>91437722</td>\n",
              "      <td>black red heart t-shirt</td>\n",
              "      <td>women/tops/t-shirts/91437722/91437722_0.jpeg</td>\n",
              "    </tr>\n",
              "    <tr>\n",
              "      <th>91462</th>\n",
              "      <td>201833</td>\n",
              "      <td>women</td>\n",
              "      <td>tops</td>\n",
              "      <td>t-shirts</td>\n",
              "      <td>91437753</td>\n",
              "      <td>white run shirt</td>\n",
              "      <td>women/tops/t-shirts/91437753/91437753_0.jpeg</td>\n",
              "    </tr>\n",
              "    <tr>\n",
              "      <th>91463</th>\n",
              "      <td>201834</td>\n",
              "      <td>women</td>\n",
              "      <td>tops</td>\n",
              "      <td>t-shirts</td>\n",
              "      <td>91437753</td>\n",
              "      <td>white run shirt</td>\n",
              "      <td>women/tops/t-shirts/91437753/91437753_1.jpeg</td>\n",
              "    </tr>\n",
              "    <tr>\n",
              "      <th>91464</th>\n",
              "      <td>201835</td>\n",
              "      <td>women</td>\n",
              "      <td>tops</td>\n",
              "      <td>t-shirts</td>\n",
              "      <td>91438020</td>\n",
              "      <td>multicolor clay tee chalk</td>\n",
              "      <td>women/tops/t-shirts/91438020/91438020_0.jpeg</td>\n",
              "    </tr>\n",
              "  </tbody>\n",
              "</table>\n",
              "<p>91465 rows × 7 columns</p>\n",
              "</div>"
            ],
            "text/plain": [
              "        index  ...                                               path\n",
              "0           0  ...  women/dresses/casual_and_day_dresses/56037632/...\n",
              "1           3  ...  women/dresses/casual_and_day_dresses/56037632/...\n",
              "2           4  ...  women/dresses/casual_and_day_dresses/56037632/...\n",
              "3           6  ...  women/dresses/casual_and_day_dresses/56037632/...\n",
              "4           8  ...  women/dresses/casual_and_day_dresses/62629380/...\n",
              "...       ...  ...                                                ...\n",
              "91460  201831  ...       women/tops/t-shirts/91437517/91437517_2.jpeg\n",
              "91461  201832  ...       women/tops/t-shirts/91437722/91437722_0.jpeg\n",
              "91462  201833  ...       women/tops/t-shirts/91437753/91437753_0.jpeg\n",
              "91463  201834  ...       women/tops/t-shirts/91437753/91437753_1.jpeg\n",
              "91464  201835  ...       women/tops/t-shirts/91438020/91438020_0.jpeg\n",
              "\n",
              "[91465 rows x 7 columns]"
            ]
          },
          "metadata": {
            "tags": []
          },
          "execution_count": 54
        }
      ]
    },
    {
      "cell_type": "code",
      "metadata": {
        "id": "zAWbUIcyZ9LY"
      },
      "source": [
        "image_df.drop(index=142964,axis=0,inplace=True)"
      ],
      "execution_count": null,
      "outputs": []
    },
    {
      "cell_type": "code",
      "metadata": {
        "id": "Gs15BqLHSfJ9"
      },
      "source": [
        "image_paths = glob('/content/drive/MyDrive/npz files /*.npz')"
      ],
      "execution_count": 36,
      "outputs": []
    },
    {
      "cell_type": "code",
      "metadata": {
        "colab": {
          "base_uri": "https://localhost:8080/"
        },
        "id": "1pHKi3WBTRNC",
        "outputId": "3a1dbe78-0acc-4a52-c953-b4a269f0b62a"
      },
      "source": [
        "len(image_paths)"
      ],
      "execution_count": 37,
      "outputs": [
        {
          "output_type": "execute_result",
          "data": {
            "text/plain": [
              "91465"
            ]
          },
          "metadata": {
            "tags": []
          },
          "execution_count": 37
        }
      ]
    },
    {
      "cell_type": "code",
      "metadata": {
        "id": "07r2M9ngTXiO"
      },
      "source": [
        "def sort_glob(file):\n",
        "  file_path_dic ={}\n",
        "  for f in file:\n",
        "    file_path_dic[int(re.findall('[0-9]+',f)[0])] = f\n",
        "\n",
        "  file_paths = []\n",
        "  sorted_file_path = sorted(file_path_dic.items())\n",
        "\n",
        "  for tup in sorted_file_path:\n",
        "    file_paths.append(tup[1])\n",
        "  \n",
        "  return file_paths"
      ],
      "execution_count": 38,
      "outputs": []
    },
    {
      "cell_type": "code",
      "metadata": {
        "colab": {
          "base_uri": "https://localhost:8080/"
        },
        "id": "pXdp0U0NTai5",
        "outputId": "ccde86d9-66c7-4d47-b093-5da603765870"
      },
      "source": [
        "image_paths = sort_glob(image_paths)\n",
        "image_paths[:20]"
      ],
      "execution_count": 39,
      "outputs": [
        {
          "output_type": "execute_result",
          "data": {
            "text/plain": [
              "['/content/drive/MyDrive/npz files /0.npz',\n",
              " '/content/drive/MyDrive/npz files /3.npz',\n",
              " '/content/drive/MyDrive/npz files /4.npz',\n",
              " '/content/drive/MyDrive/npz files /6.npz',\n",
              " '/content/drive/MyDrive/npz files /8.npz',\n",
              " '/content/drive/MyDrive/npz files /10.npz',\n",
              " '/content/drive/MyDrive/npz files /11.npz',\n",
              " '/content/drive/MyDrive/npz files /13.npz',\n",
              " '/content/drive/MyDrive/npz files /14.npz',\n",
              " '/content/drive/MyDrive/npz files /16.npz',\n",
              " '/content/drive/MyDrive/npz files /20.npz',\n",
              " '/content/drive/MyDrive/npz files /22.npz',\n",
              " '/content/drive/MyDrive/npz files /25.npz',\n",
              " '/content/drive/MyDrive/npz files /28.npz',\n",
              " '/content/drive/MyDrive/npz files /30.npz',\n",
              " '/content/drive/MyDrive/npz files /31.npz',\n",
              " '/content/drive/MyDrive/npz files /32.npz',\n",
              " '/content/drive/MyDrive/npz files /35.npz',\n",
              " '/content/drive/MyDrive/npz files /37.npz',\n",
              " '/content/drive/MyDrive/npz files /39.npz']"
            ]
          },
          "metadata": {
            "tags": []
          },
          "execution_count": 39
        }
      ]
    },
    {
      "cell_type": "code",
      "metadata": {
        "colab": {
          "base_uri": "https://localhost:8080/",
          "height": 346
        },
        "id": "XbzVje021505",
        "outputId": "e97e2247-b49f-4c4b-d304-01db87eb5b6c"
      },
      "source": [
        "import numpy as np\n",
        "image_vector = {}\n",
        "for x in tqdm(image_paths):\n",
        "  vector = np.load(x)['arr_0']\n",
        "  image_vector[int(re.findall('[0-9]+',x)[0])] = vector"
      ],
      "execution_count": null,
      "outputs": [
        {
          "output_type": "stream",
          "text": [
            "  1%|          | 1020/91465 [04:01<6:07:57,  4.10it/s]"
          ],
          "name": "stderr"
        },
        {
          "output_type": "error",
          "ename": "KeyboardInterrupt",
          "evalue": "ignored",
          "traceback": [
            "\u001b[0;31m---------------------------------------------------------------------------\u001b[0m",
            "\u001b[0;31mKeyboardInterrupt\u001b[0m                         Traceback (most recent call last)",
            "\u001b[0;32m<ipython-input-50-550377784139>\u001b[0m in \u001b[0;36m<module>\u001b[0;34m()\u001b[0m\n\u001b[1;32m      2\u001b[0m \u001b[0mimage_vector\u001b[0m \u001b[0;34m=\u001b[0m \u001b[0;34m{\u001b[0m\u001b[0;34m}\u001b[0m\u001b[0;34m\u001b[0m\u001b[0;34m\u001b[0m\u001b[0m\n\u001b[1;32m      3\u001b[0m \u001b[0;32mfor\u001b[0m \u001b[0mx\u001b[0m \u001b[0;32min\u001b[0m \u001b[0mtqdm\u001b[0m\u001b[0;34m(\u001b[0m\u001b[0mimage_paths\u001b[0m\u001b[0;34m)\u001b[0m\u001b[0;34m:\u001b[0m\u001b[0;34m\u001b[0m\u001b[0;34m\u001b[0m\u001b[0m\n\u001b[0;32m----> 4\u001b[0;31m   \u001b[0mvector\u001b[0m \u001b[0;34m=\u001b[0m \u001b[0mnp\u001b[0m\u001b[0;34m.\u001b[0m\u001b[0mload\u001b[0m\u001b[0;34m(\u001b[0m\u001b[0mx\u001b[0m\u001b[0;34m)\u001b[0m\u001b[0;34m[\u001b[0m\u001b[0;34m'arr_0'\u001b[0m\u001b[0;34m]\u001b[0m\u001b[0;34m\u001b[0m\u001b[0;34m\u001b[0m\u001b[0m\n\u001b[0m\u001b[1;32m      5\u001b[0m   \u001b[0mimage_vector\u001b[0m\u001b[0;34m[\u001b[0m\u001b[0mint\u001b[0m\u001b[0;34m(\u001b[0m\u001b[0mre\u001b[0m\u001b[0;34m.\u001b[0m\u001b[0mfindall\u001b[0m\u001b[0;34m(\u001b[0m\u001b[0;34m'[0-9]+'\u001b[0m\u001b[0;34m,\u001b[0m\u001b[0mx\u001b[0m\u001b[0;34m)\u001b[0m\u001b[0;34m[\u001b[0m\u001b[0;36m0\u001b[0m\u001b[0;34m]\u001b[0m\u001b[0;34m)\u001b[0m\u001b[0;34m]\u001b[0m \u001b[0;34m=\u001b[0m \u001b[0mvector\u001b[0m\u001b[0;34m\u001b[0m\u001b[0;34m\u001b[0m\u001b[0m\n",
            "\u001b[0;32m/usr/local/lib/python3.7/dist-packages/numpy/lib/npyio.py\u001b[0m in \u001b[0;36mload\u001b[0;34m(file, mmap_mode, allow_pickle, fix_imports, encoding)\u001b[0m\n\u001b[1;32m    421\u001b[0m         \u001b[0m_ZIP_SUFFIX\u001b[0m \u001b[0;34m=\u001b[0m \u001b[0;34mb'PK\\x05\\x06'\u001b[0m \u001b[0;31m# empty zip files start with this\u001b[0m\u001b[0;34m\u001b[0m\u001b[0;34m\u001b[0m\u001b[0m\n\u001b[1;32m    422\u001b[0m         \u001b[0mN\u001b[0m \u001b[0;34m=\u001b[0m \u001b[0mlen\u001b[0m\u001b[0;34m(\u001b[0m\u001b[0mformat\u001b[0m\u001b[0;34m.\u001b[0m\u001b[0mMAGIC_PREFIX\u001b[0m\u001b[0;34m)\u001b[0m\u001b[0;34m\u001b[0m\u001b[0;34m\u001b[0m\u001b[0m\n\u001b[0;32m--> 423\u001b[0;31m         \u001b[0mmagic\u001b[0m \u001b[0;34m=\u001b[0m \u001b[0mfid\u001b[0m\u001b[0;34m.\u001b[0m\u001b[0mread\u001b[0m\u001b[0;34m(\u001b[0m\u001b[0mN\u001b[0m\u001b[0;34m)\u001b[0m\u001b[0;34m\u001b[0m\u001b[0;34m\u001b[0m\u001b[0m\n\u001b[0m\u001b[1;32m    424\u001b[0m         \u001b[0;31m# If the file size is less than N, we need to make sure not\u001b[0m\u001b[0;34m\u001b[0m\u001b[0;34m\u001b[0m\u001b[0;34m\u001b[0m\u001b[0m\n\u001b[1;32m    425\u001b[0m         \u001b[0;31m# to seek past the beginning of the file\u001b[0m\u001b[0;34m\u001b[0m\u001b[0;34m\u001b[0m\u001b[0;34m\u001b[0m\u001b[0m\n",
            "\u001b[0;31mKeyboardInterrupt\u001b[0m: "
          ]
        }
      ]
    },
    {
      "cell_type": "code",
      "metadata": {
        "colab": {
          "base_uri": "https://localhost:8080/",
          "height": 35
        },
        "id": "_xk_DHtd2cqJ",
        "outputId": "c717137d-b0c2-4a3a-897f-5e996d4035f5"
      },
      "source": [
        "image_paths[0]"
      ],
      "execution_count": null,
      "outputs": [
        {
          "output_type": "execute_result",
          "data": {
            "application/vnd.google.colaboratory.intrinsic+json": {
              "type": "string"
            },
            "text/plain": [
              "'/content/drive/MyDrive/npz files /0.npz'"
            ]
          },
          "metadata": {
            "tags": []
          },
          "execution_count": 58
        }
      ]
    },
    {
      "cell_type": "markdown",
      "metadata": {
        "id": "q9eXwW8Xp_hg"
      },
      "source": [
        "# Elastic Search"
      ]
    },
    {
      "cell_type": "code",
      "metadata": {
        "id": "qCBUQXQ9TtU4"
      },
      "source": [
        "es = Elasticsearch([{'host':config.get('endpoint').data,'port':config.get('port').data}])"
      ],
      "execution_count": 6,
      "outputs": []
    },
    {
      "cell_type": "code",
      "metadata": {
        "colab": {
          "base_uri": "https://localhost:8080/"
        },
        "id": "3kjgGFS5UFsz",
        "outputId": "42828284-7dc4-468f-a01e-81af36342555"
      },
      "source": [
        "es.ping()"
      ],
      "execution_count": 7,
      "outputs": [
        {
          "output_type": "execute_result",
          "data": {
            "text/plain": [
              "True"
            ]
          },
          "metadata": {
            "tags": []
          },
          "execution_count": 7
        }
      ]
    },
    {
      "cell_type": "code",
      "metadata": {
        "id": "fjzjOxR3aK8e"
      },
      "source": [
        "prod_df_json = prod_df.to_dict('records')"
      ],
      "execution_count": null,
      "outputs": []
    },
    {
      "cell_type": "code",
      "metadata": {
        "id": "24ra_m1va1RK"
      },
      "source": [
        "image_df_json = image_df.to_dict('records')"
      ],
      "execution_count": 23,
      "outputs": []
    },
    {
      "cell_type": "code",
      "metadata": {
        "colab": {
          "base_uri": "https://localhost:8080/"
        },
        "id": "-dwronh8hKYh",
        "outputId": "1877277c-1704-4314-e221-2aabf840f3d7"
      },
      "source": [
        "es.indices.create(index='product-level',ignore=400)"
      ],
      "execution_count": null,
      "outputs": [
        {
          "output_type": "execute_result",
          "data": {
            "text/plain": [
              "{'acknowledged': True, 'index': 'product-level', 'shards_acknowledged': True}"
            ]
          },
          "metadata": {
            "tags": []
          },
          "execution_count": 16
        }
      ]
    },
    {
      "cell_type": "code",
      "metadata": {
        "id": "zaDRkXG7PvQP"
      },
      "source": [
        "es.indices.delete(index='product-level',ignore=[400])"
      ],
      "execution_count": null,
      "outputs": []
    },
    {
      "cell_type": "code",
      "metadata": {
        "colab": {
          "base_uri": "https://localhost:8080/"
        },
        "id": "jeu9JHokmW7Q",
        "outputId": "67cccd85-9938-42f6-89ba-8f7f394f5481"
      },
      "source": [
        "es.indices.create(index='image-level-1',ignore=400)"
      ],
      "execution_count": 35,
      "outputs": [
        {
          "output_type": "execute_result",
          "data": {
            "text/plain": [
              "{'acknowledged': True, 'index': 'image-level-1', 'shards_acknowledged': True}"
            ]
          },
          "metadata": {
            "tags": []
          },
          "execution_count": 35
        }
      ]
    },
    {
      "cell_type": "code",
      "metadata": {
        "colab": {
          "base_uri": "https://localhost:8080/"
        },
        "id": "RORBLVubP5UA",
        "outputId": "cdf2dfd6-616b-41b1-df11-db9cdd110629"
      },
      "source": [
        "#es.indices.delete(index='image-level',ignore=400)"
      ],
      "execution_count": null,
      "outputs": [
        {
          "output_type": "execute_result",
          "data": {
            "text/plain": [
              "{'acknowledged': True}"
            ]
          },
          "metadata": {
            "tags": []
          },
          "execution_count": 19
        }
      ]
    },
    {
      "cell_type": "code",
      "metadata": {
        "colab": {
          "base_uri": "https://localhost:8080/"
        },
        "id": "LTrOHzPhbA15",
        "outputId": "bb64c24e-f7b7-4b1e-cdc5-2e8a9910ea89"
      },
      "source": [
        "prod_df_json[0]"
      ],
      "execution_count": null,
      "outputs": [
        {
          "output_type": "execute_result",
          "data": {
            "text/plain": [
              "{'category': 'dresses',\n",
              " 'gender': 'women',\n",
              " 'path': 'women/dresses/casual_and_day_dresses/56037632/56037632_0.jpeg',\n",
              " 'product-name': 'black knit midi dress',\n",
              " 'product-number': '56037632',\n",
              " 'sub-category': 'casual_and_day_dresses'}"
            ]
          },
          "metadata": {
            "tags": []
          },
          "execution_count": 32
        }
      ]
    },
    {
      "cell_type": "code",
      "metadata": {
        "colab": {
          "base_uri": "https://localhost:8080/"
        },
        "id": "uCpPm-mx4Ln0",
        "outputId": "9dfd9c3c-88b6-45bc-8e75-ad150c8e4db1"
      },
      "source": [
        "image_df_json[0]"
      ],
      "execution_count": null,
      "outputs": [
        {
          "output_type": "execute_result",
          "data": {
            "text/plain": [
              "{'category': 'dresses',\n",
              " 'gender': 'women',\n",
              " 'index': 0,\n",
              " 'path': 'women/dresses/casual_and_day_dresses/56037632/56037632_0.jpeg',\n",
              " 'product-name': 'black knit midi dress',\n",
              " 'product-number': '56037632',\n",
              " 'sub-category': 'casual_and_day_dresses'}"
            ]
          },
          "metadata": {
            "tags": []
          },
          "execution_count": 57
        }
      ]
    },
    {
      "cell_type": "markdown",
      "metadata": {
        "id": "NrFTTCPlqC7h"
      },
      "source": [
        "# uploading data into ES"
      ]
    },
    {
      "cell_type": "code",
      "metadata": {
        "id": "fckSigLIcYeN"
      },
      "source": [
        "def generator_prod(df):\n",
        "  for i,x in enumerate(df):\n",
        "    yield{\n",
        "        '_index':'product-level',\n",
        "        '_type':'_doc',\n",
        "        '_id': i+1,\n",
        "        '_source':{\n",
        "            \"product-number\":x.get(\"product-number\",\"\"),\n",
        "            \"product-name\":x.get(\"product-name\",\"\"),\n",
        "            \"category\":x.get(\"category\",\"\"),\n",
        "            \"sub-category\":x.get(\"sub-category\",\"\"),\n",
        "            \"image-path\":x.get(\"path\",\"\")\n",
        "        }\n",
        "    }\n",
        "  raise StopIteration"
      ],
      "execution_count": null,
      "outputs": []
    },
    {
      "cell_type": "code",
      "metadata": {
        "id": "VmfigIvAfs8-"
      },
      "source": [
        "try:\n",
        "  res1 = helpers.bulk(es,generator_prod(prod_df_json))\n",
        "  print('working')\n",
        "except Exception as e:\n",
        "  pass"
      ],
      "execution_count": null,
      "outputs": []
    },
    {
      "cell_type": "code",
      "metadata": {
        "id": "h08wY7i4pFZ9"
      },
      "source": [
        "def generator_image(df):\n",
        "  for i,x in enumerate(df):\n",
        "    image_vector = np.load(image_paths[i])[\"arr_0\"]\n",
        "    yield{\n",
        "        '_index':'image-level-1',\n",
        "        '_type':'_doc',\n",
        "        '_id': i+1,\n",
        "        '_source':{\n",
        "            \"product-number\":x.get(\"product-number\",\"\"),\n",
        "            \"product-name\":x.get(\"product-name\",\"\"),\n",
        "            \"category\":x.get(\"category\",\"\"),\n",
        "            \"sub-category\":x.get(\"sub-category\",\"\"),\n",
        "            \"image-path\":x.get(\"path\",\"\"),\n",
        "            \"image-vector\": image_vector\n",
        "                    }\n",
        "    }\n",
        "  raise StopIteration"
      ],
      "execution_count": 41,
      "outputs": []
    },
    {
      "cell_type": "code",
      "metadata": {
        "colab": {
          "base_uri": "https://localhost:8080/"
        },
        "id": "5LTjD0YypmhL",
        "outputId": "66998881-30b3-4886-908f-07c0ec0807d2"
      },
      "source": [
        "try:\n",
        "  res2 = helpers.bulk(es,generator_image(image_df_json))\n",
        "  print('working')\n",
        "except Exception as e:\n",
        "  pass\n",
        "#res2 = helpers.bulk(es,generator_image(image_df_json))  "
      ],
      "execution_count": 46,
      "outputs": [
        {
          "output_type": "stream",
          "text": [
            "/usr/local/lib/python3.7/dist-packages/elasticsearch/connection/base.py:200: ElasticsearchWarning: [types removal] Specifying types in bulk requests is deprecated.\n",
            "  warnings.warn(message, category=ElasticsearchWarning)\n"
          ],
          "name": "stderr"
        }
      ]
    }
  ]
}